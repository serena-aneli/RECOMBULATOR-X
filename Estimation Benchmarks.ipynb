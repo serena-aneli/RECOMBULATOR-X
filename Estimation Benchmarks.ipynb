{
 "cells": [
  {
   "cell_type": "markdown",
   "id": "cf6e6407-609c-42d8-99d0-3b4176506b99",
   "metadata": {},
   "source": [
    "# Benchmark recombination and mutation rates estimation error and computation time"
   ]
  },
  {
   "cell_type": "code",
   "execution_count": 1,
   "id": "70e68b1d-35aa-4987-a6ee-56112fa60eb3",
   "metadata": {},
   "outputs": [],
   "source": [
    "import numpy\n",
    "import pandas\n",
    "import matplotlib.pyplot as plt\n",
    "import seaborn\n",
    "import recombulatorx\n",
    "import recombulatorx.testing"
   ]
  },
  {
   "cell_type": "code",
   "execution_count": 2,
   "id": "94a1487d-c79e-4e5b-adaf-cf9f388cdf84",
   "metadata": {},
   "outputs": [],
   "source": [
    "n_cores = 10"
   ]
  },
  {
   "cell_type": "code",
   "execution_count": 3,
   "id": "94f0184d-2b34-4018-9dd7-81f0730a1ad8",
   "metadata": {},
   "outputs": [],
   "source": [
    "try:\n",
    "    from tqdm import tqdm\n",
    "except ModuleNotFoundError:\n",
    "    tqdm = lambda x: x\n",
    "    print('tqdm module not found, no progress bars!')"
   ]
  },
  {
   "cell_type": "code",
   "execution_count": 4,
   "id": "90637e3f-4062-45a3-95a0-7823d384f1c0",
   "metadata": {},
   "outputs": [],
   "source": [
    "from time import time\n",
    "\n",
    "def random_estimation_test(n_markers, n_fam_I, n_fam_II, seed=None, **kwargs):\n",
    "    if seed is not None:\n",
    "        numpy.random.seed(seed)\n",
    "    simulated_rates = recombulatorx.testing.generate_random_rates(n_markers)\n",
    "    fams = [recombulatorx.testing.generate_processed_family(f'FAM_I_{i}', 2, True, *simulated_rates) for i in range(n_fam_I)]\n",
    "    fams += [recombulatorx.testing.generate_processed_family(f'FAM_II_{i}', 2, False, *simulated_rates) for i in range(n_fam_II)]\n",
    "    t1 = time()\n",
    "    estimated_rates = recombulatorx.estimate_rates(fams, 0.1, 0.1, **kwargs)\n",
    "    elapsed_time = time() - t1\n",
    "    return simulated_rates, estimated_rates, elapsed_time"
   ]
  },
  {
   "cell_type": "code",
   "execution_count": 5,
   "id": "8ef2aff9-93ed-42f5-8bfc-5ff9c503a947",
   "metadata": {},
   "outputs": [],
   "source": [
    "try:\n",
    "    import joblib\n",
    "    mem = joblib.Memory('estimation_testing_cache', verbose=0)\n",
    "    random_estimation_test = mem.cache(random_estimation_test)\n",
    "except ModuleNotFoundError:\n",
    "    print('joblib module not found, cannot cache results')"
   ]
  },
  {
   "cell_type": "code",
   "execution_count": 6,
   "id": "64e71387-6146-46d6-b6cf-7a2c66fe0e17",
   "metadata": {},
   "outputs": [],
   "source": [
    "from multiprocessing import Pool\n",
    "def random_estimation_test_p(args):\n",
    "    return random_estimation_test(*args[:-1], estimate_mutation_rates='all', **args[-1])\n",
    "    \n",
    "def random_estimation_tests(n_markers, n_fam_I, n_fam_II, n_tests, **kwargs):\n",
    "    args_list = [(n_markers, n_fam_I, n_fam_II, seed, kwargs) for seed in range(n_tests)]\n",
    "    with Pool(n_cores) as p:\n",
    "        data = list(p.imap(random_estimation_test_p, args_list))\n",
    "    \n",
    "    # put results in a pandas DataFrame\n",
    "    recomb_cols = [('RECOMBINATION', f'M{i}-{i+1}') for i in range(1, n_markers)]\n",
    "    mut_cols = [('MUTATION', f'M{i}') for i in range(1, n_markers + 1)]\n",
    "    all_cols = [(l1, *l2) for l1 in ['SIMULATED', 'ESTIMATED'] for l2_cols in [recomb_cols, mut_cols] for l2 in l2_cols] + [('ELAPSED TIME', None, None)]\n",
    "\n",
    "    df = pandas.DataFrame(\n",
    "        [\n",
    "            numpy.concatenate([*simulated_rates, *estimated_rates, [elapsed_time]])\n",
    "            for simulated_rates, estimated_rates, elapsed_time in data\n",
    "        ], \n",
    "        columns=pandas.MultiIndex.from_tuples(all_cols, names=['SOURCE', 'RATE', 'MARKER']))\n",
    "    df.index.name = 'TEST'\n",
    "    return df"
   ]
  },
  {
   "cell_type": "markdown",
   "id": "4f04ddc0-ab34-4b73-863e-bb98d7571b9c",
   "metadata": {},
   "source": [
    "## Tests comparing to literature"
   ]
  },
  {
   "cell_type": "markdown",
   "id": "b692ce6c-9dba-4867-a904-29710609583d",
   "metadata": {},
   "source": [
    "Nothnagel and colleagues analyzed 216 type I and 185 type II families genotyped with a panel of 12 markers \\cite{Nothnagel_2012}"
   ]
  },
  {
   "cell_type": "code",
   "execution_count": 7,
   "id": "a5a4bccf-6e19-460e-86a4-7b2aeca8f9cf",
   "metadata": {},
   "outputs": [],
   "source": [
    "lit1 = random_estimation_tests(n_markers=12, n_fam_I=216, n_fam_II=185, n_tests=10)"
   ]
  },
  {
   "cell_type": "code",
   "execution_count": 8,
   "id": "62794287-38b7-4fc4-bce4-6d671f6f1883",
   "metadata": {},
   "outputs": [
    {
     "name": "stdout",
     "output_type": "stream",
     "text": [
      "average time (minutes): 2.3819389990965525, std: 0.4429687566369809\n"
     ]
    }
   ],
   "source": [
    "lit1_minutes = lit1.loc[:, ('ELAPSED TIME', None, None)]/60\n",
    "print(f'average time (minutes): {lit1_minutes.mean()}, std: {lit1_minutes.std()}')"
   ]
  },
  {
   "cell_type": "code",
   "execution_count": 9,
   "id": "485193bf-f497-41d8-b107-4c19dead8e4b",
   "metadata": {},
   "outputs": [],
   "source": [
    "lit2 = random_estimation_tests(n_markers=15, n_fam_I=54, n_fam_II=104, n_tests=10)"
   ]
  },
  {
   "cell_type": "code",
   "execution_count": 10,
   "id": "be73085a-4f69-450b-b50a-b065ea64790b",
   "metadata": {},
   "outputs": [
    {
     "name": "stdout",
     "output_type": "stream",
     "text": [
      "average time (minutes): 14.296912101109822, std: 2.012808439566107\n"
     ]
    }
   ],
   "source": [
    "lit2_minutes = lit2.loc[:, ('ELAPSED TIME', None, None)]/60\n",
    "print(f'average time (minutes): {lit2_minutes.mean()}, std: {lit2_minutes.std()}')"
   ]
  },
  {
   "cell_type": "markdown",
   "id": "0b2765b5-c1ee-4b80-ae75-6ad2580a5939",
   "metadata": {},
   "source": [
    "# Tests varying the number of markers"
   ]
  },
  {
   "cell_type": "code",
   "execution_count": 11,
   "id": "2452b5b3-c8b9-4ef7-a90d-8f78fc889b18",
   "metadata": {},
   "outputs": [
    {
     "name": "stdout",
     "output_type": "stream",
     "text": [
      "n_markers=10\n",
      "n_markers=20\n",
      "n_markers=30\n",
      "n_markers=40\n",
      "n_markers=50\n",
      "n_markers=60\n",
      "n_markers=70\n",
      "n_markers=80\n",
      "n_markers=90\n",
      "n_markers=100\n",
      "n_markers=110\n",
      "n_markers=120\n"
     ]
    }
   ],
   "source": [
    "n_fam_I = 100\n",
    "n_fam_II = 0\n",
    "marker_tests = {}\n",
    "for n_markers in range(10, 130, 10):\n",
    "    print(f'{n_markers=}')\n",
    "    marker_tests[n_markers] = random_estimation_tests(n_markers, n_fam_I, n_fam_II, 10)"
   ]
  },
  {
   "cell_type": "code",
   "execution_count": 12,
   "id": "3497d0cd-9356-456a-b0d0-7bf311959ecf",
   "metadata": {},
   "outputs": [
    {
     "data": {
      "image/png": "[encoded data removed]",
      "text/plain": [
       "<Figure size 640x480 with 1 Axes>"
      ]
     },
     "metadata": {},
     "output_type": "display_data"
    }
   ],
   "source": [
    "plot_data = pandas.concat({k: df[('ELAPSED TIME', None, None)] for k, df in marker_tests.items()}, names=['MARKERS']).reset_index()\n",
    "plot_data.columns = plot_data.columns.get_level_values(0)\n",
    "seaborn.boxplot(plot_data, x='MARKERS', y='ELAPSED TIME');"
   ]
  },
  {
   "cell_type": "code",
   "execution_count": 13,
   "id": "e985981d-e62e-404c-a944-128004f8d090",
   "metadata": {},
   "outputs": [],
   "source": [
    "plot_data.to_csv('benchmarks/100_type_I_times.csv', index=False)"
   ]
  },
  {
   "cell_type": "code",
   "execution_count": 14,
   "id": "267f911d-69ca-4452-aeb0-c09d695bfad7",
   "metadata": {},
   "outputs": [
    {
     "name": "stdout",
     "output_type": "stream",
     "text": [
      "n_markers=6\n",
      "n_markers=8\n",
      "n_markers=10\n",
      "n_markers=12\n",
      "n_markers=14\n",
      "n_markers=16\n",
      "n_markers=18\n",
      "n_markers=20\n"
     ]
    }
   ],
   "source": [
    "n_fam_I = 100\n",
    "n_fam_II = 100\n",
    "marker_tests_II = {}\n",
    "for n_markers in range(6, 21, 2):\n",
    "    print(f'{n_markers=}')\n",
    "    marker_tests_II[n_markers] = random_estimation_tests(n_markers, n_fam_I, n_fam_II, 10)"
   ]
  },
  {
   "cell_type": "code",
   "execution_count": 15,
   "id": "a2a3d815-223b-4e32-b311-d0b2b63cc3f2",
   "metadata": {},
   "outputs": [
    {
     "data": {
      "image/png": "[encoded data removed]",
      "text/plain": [
       "<Figure size 640x480 with 1 Axes>"
      ]
     },
     "metadata": {},
     "output_type": "display_data"
    }
   ],
   "source": [
    "plot_data = pandas.concat({k: df[('ELAPSED TIME', None, None)] for k, df in marker_tests_II.items()}, names=['MARKERS']).reset_index()\n",
    "plot_data.columns = plot_data.columns.get_level_values(0)\n",
    "seaborn.boxplot(plot_data, x='MARKERS', y='ELAPSED TIME')\n",
    "plt.yscale('log')"
   ]
  },
  {
   "cell_type": "code",
   "execution_count": 16,
   "id": "1fe87b72-df93-4a84-8d79-0ca972c12d5a",
   "metadata": {},
   "outputs": [],
   "source": [
    "plot_data.to_csv('benchmarks/100_type_I_II_times.csv', index=False)"
   ]
  }
 ],
 "metadata": {
  "kernelspec": {
   "display_name": "Python 3 (ipykernel)",
   "language": "python",
   "name": "python3"
  },
  "language_info": {
   "codemirror_mode": {
    "name": "ipython",
    "version": 3
   },
   "file_extension": ".py",
   "mimetype": "text/x-python",
   "name": "python",
   "nbconvert_exporter": "python",
   "pygments_lexer": "ipython3",
   "version": "3.10.6"
  }
 },
 "nbformat": 4,
 "nbformat_minor": 5
}
