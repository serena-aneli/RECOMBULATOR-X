{
 "cells": [
  {
   "cell_type": "markdown",
   "id": "cf6e6407-609c-42d8-99d0-3b4176506b99",
   "metadata": {},
   "source": [
    "# Benchmark recombination and mutation rates estimation error and computation time"
   ]
  },
  {
   "cell_type": "code",
   "execution_count": 2,
   "id": "70e68b1d-35aa-4987-a6ee-56112fa60eb3",
   "metadata": {},
   "outputs": [],
   "source": [
    "import numpy\n",
    "import pandas\n",
    "import seaborn\n",
    "import recombulatorx\n",
    "import recombulatorx.testing"
   ]
  },
  {
   "cell_type": "code",
   "execution_count": 3,
   "id": "94f0184d-2b34-4018-9dd7-81f0730a1ad8",
   "metadata": {},
   "outputs": [],
   "source": [
    "try:\n",
    "    from tqdm import tqdm\n",
    "except ModuleNotFoundError:\n",
    "    tqdm = lambda x: x\n",
    "    print('tqdm module not found, no progress bars!')"
   ]
  },
  {
   "cell_type": "code",
   "execution_count": 4,
   "id": "90637e3f-4062-45a3-95a0-7823d384f1c0",
   "metadata": {},
   "outputs": [],
   "source": [
    "from time import time\n",
    "\n",
    "def random_estimation_test(n_markers, n_fam_I, n_fam_II, seed=None, **kwargs):\n",
    "    if seed is not None:\n",
    "        numpy.random.seed(seed)\n",
    "    simulated_rates = recombulatorx.testing.generate_random_rates(n_markers)\n",
    "    fams = [recombulatorx.testing.generate_processed_family(f'FAM_I_{i}', 2, True, *simulated_rates) for i in range(n_fam_I)]\n",
    "    fams += [recombulatorx.testing.generate_processed_family(f'FAM_II_{i}', 2, False, *simulated_rates) for i in range(n_fam_II)]\n",
    "    t1 = time()\n",
    "    estimated_rates = recombulatorx.estimate_rates(fams, 0.1, 0.1, **kwargs)\n",
    "    elapsed_time = time() - t1\n",
    "    return simulated_rates, estimated_rates, elapsed_time"
   ]
  },
  {
   "cell_type": "code",
   "execution_count": 5,
   "id": "8ef2aff9-93ed-42f5-8bfc-5ff9c503a947",
   "metadata": {},
   "outputs": [],
   "source": [
    "try:\n",
    "    import joblib\n",
    "    mem = joblib.Memory('estimation_testing_cache', verbose=0)\n",
    "    random_estimation_test = mem.cache(random_estimation_test)\n",
    "except ModuleNotFoundError:\n",
    "    print('joblib module not found, cannot cache results')"
   ]
  },
  {
   "cell_type": "code",
   "execution_count": 6,
   "id": "9b173740-870e-423c-bfb4-137637d427d6",
   "metadata": {},
   "outputs": [],
   "source": [
    "def random_estimation_tests(n_markers, n_fam_I, n_fam_II, n_tests, **kwargs):\n",
    "    data = [\n",
    "        random_estimation_test(n_markers, n_fam_I, n_fam_II, seed, estimate_mutation_rates='all', **kwargs)\n",
    "        for seed in tqdm(range(n_tests))\n",
    "    ]\n",
    "    # put results in a pandas DataFrame\n",
    "    recomb_cols = [('RECOMBINATION', f'M{i}-{i+1}') for i in range(1, n_markers)]\n",
    "    mut_cols = [('MUTATION', f'M{i}') for i in range(1, n_markers + 1)]\n",
    "    all_cols = [(l1, *l2) for l1 in ['SIMULATED', 'ESTIMATED'] for l2_cols in [recomb_cols, mut_cols] for l2 in l2_cols] + [('ELAPSED TIME', None, None)]\n",
    "\n",
    "    df = pandas.DataFrame(\n",
    "        [\n",
    "            numpy.concatenate([*simulated_rates, *estimated_rates, [elapsed_time]])\n",
    "            for simulated_rates, estimated_rates, elapsed_time in data\n",
    "        ], \n",
    "        columns=pandas.MultiIndex.from_tuples(all_cols, names=['SOURCE', 'RATE', 'MARKER']))\n",
    "    df.index.name = 'TEST'\n",
    "    return df"
   ]
  },
  {
   "cell_type": "code",
   "execution_count": 6,
   "id": "951d8afa-f826-46da-aaaf-752c0613689f",
   "metadata": {},
   "outputs": [],
   "source": [
    "#random_estimation_test(200, 1000, 0, 0, optimization_method='Nelder-Mead', maxiter=10000)"
   ]
  },
  {
   "cell_type": "code",
   "execution_count": 7,
   "id": "74a35bfe-213f-4736-b9e1-576017c3c172",
   "metadata": {},
   "outputs": [],
   "source": [
    "#random_estimation_test(200, 1000, 0, 0, optimization_method='L-BFGS-B', maxiter=10000)"
   ]
  },
  {
   "cell_type": "code",
   "execution_count": 8,
   "id": "92845d22-7525-486c-b66c-84331a2100a0",
   "metadata": {},
   "outputs": [],
   "source": [
    "#random_estimation_test(200, 1000, 0, 0, optimization_method='Powell', maxiter=10000)"
   ]
  },
  {
   "cell_type": "code",
   "execution_count": 9,
   "id": "c8c13f38-5a40-4201-9743-27020de2b5c3",
   "metadata": {},
   "outputs": [],
   "source": [
    "#random_estimation_test(200, 1000, 0, 0, optimization_method='TNC', maxiter=10000)"
   ]
  },
  {
   "cell_type": "code",
   "execution_count": 10,
   "id": "44974fcf-4458-4bb2-a747-65a256100afb",
   "metadata": {},
   "outputs": [],
   "source": [
    "#random_estimation_tests(n_markers=12, n_fam_I=100, n_fam_II=0, n_tests=1)"
   ]
  },
  {
   "cell_type": "markdown",
   "id": "4f04ddc0-ab34-4b73-863e-bb98d7571b9c",
   "metadata": {},
   "source": [
    "## Tests comparing to literature"
   ]
  },
  {
   "cell_type": "markdown",
   "id": "b692ce6c-9dba-4867-a904-29710609583d",
   "metadata": {},
   "source": [
    "Nothnagel and colleagues analyzed 216 type I and 185 type II families genotyped with a panel of 12 markers \\cite{Nothnagel_2012}"
   ]
  },
  {
   "cell_type": "code",
   "execution_count": 7,
   "id": "a5a4bccf-6e19-460e-86a4-7b2aeca8f9cf",
   "metadata": {},
   "outputs": [
    {
     "name": "stderr",
     "output_type": "stream",
     "text": [
      "  0%|                                                    | 0/10 [00:00<?, ?it/s]"
     ]
    },
    {
     "ename": "KeyboardInterrupt",
     "evalue": "",
     "output_type": "error",
     "traceback": [
      "\u001b[0;31m---------------------------------------------------------------------------\u001b[0m",
      "\u001b[0;31mKeyboardInterrupt\u001b[0m                         Traceback (most recent call last)",
      "Cell \u001b[0;32mIn[7], line 1\u001b[0m\n\u001b[0;32m----> 1\u001b[0m lit1 \u001b[38;5;241m=\u001b[39m \u001b[43mrandom_estimation_tests\u001b[49m\u001b[43m(\u001b[49m\u001b[43mn_markers\u001b[49m\u001b[38;5;241;43m=\u001b[39;49m\u001b[38;5;241;43m12\u001b[39;49m\u001b[43m,\u001b[49m\u001b[43m \u001b[49m\u001b[43mn_fam_I\u001b[49m\u001b[38;5;241;43m=\u001b[39;49m\u001b[38;5;241;43m216\u001b[39;49m\u001b[43m,\u001b[49m\u001b[43m \u001b[49m\u001b[43mn_fam_II\u001b[49m\u001b[38;5;241;43m=\u001b[39;49m\u001b[38;5;241;43m185\u001b[39;49m\u001b[43m,\u001b[49m\u001b[43m \u001b[49m\u001b[43mn_tests\u001b[49m\u001b[38;5;241;43m=\u001b[39;49m\u001b[38;5;241;43m10\u001b[39;49m\u001b[43m)\u001b[49m\n",
      "Cell \u001b[0;32mIn[6], line 2\u001b[0m, in \u001b[0;36mrandom_estimation_tests\u001b[0;34m(n_markers, n_fam_I, n_fam_II, n_tests, **kwargs)\u001b[0m\n\u001b[1;32m      1\u001b[0m \u001b[38;5;28;01mdef\u001b[39;00m \u001b[38;5;21mrandom_estimation_tests\u001b[39m(n_markers, n_fam_I, n_fam_II, n_tests, \u001b[38;5;241m*\u001b[39m\u001b[38;5;241m*\u001b[39mkwargs):\n\u001b[0;32m----> 2\u001b[0m     data \u001b[38;5;241m=\u001b[39m [\n\u001b[1;32m      3\u001b[0m         random_estimation_test(n_markers, n_fam_I, n_fam_II, seed, estimate_mutation_rates\u001b[38;5;241m=\u001b[39m\u001b[38;5;124m'\u001b[39m\u001b[38;5;124mall\u001b[39m\u001b[38;5;124m'\u001b[39m, \u001b[38;5;241m*\u001b[39m\u001b[38;5;241m*\u001b[39mkwargs)\n\u001b[1;32m      4\u001b[0m         \u001b[38;5;28;01mfor\u001b[39;00m seed \u001b[38;5;129;01min\u001b[39;00m tqdm(\u001b[38;5;28mrange\u001b[39m(n_tests))\n\u001b[1;32m      5\u001b[0m     ]\n\u001b[1;32m      6\u001b[0m     \u001b[38;5;66;03m# put results in a pandas DataFrame\u001b[39;00m\n\u001b[1;32m      7\u001b[0m     recomb_cols \u001b[38;5;241m=\u001b[39m [(\u001b[38;5;124m'\u001b[39m\u001b[38;5;124mRECOMBINATION\u001b[39m\u001b[38;5;124m'\u001b[39m, \u001b[38;5;124mf\u001b[39m\u001b[38;5;124m'\u001b[39m\u001b[38;5;124mM\u001b[39m\u001b[38;5;132;01m{\u001b[39;00mi\u001b[38;5;132;01m}\u001b[39;00m\u001b[38;5;124m-\u001b[39m\u001b[38;5;132;01m{\u001b[39;00mi\u001b[38;5;241m+\u001b[39m\u001b[38;5;241m1\u001b[39m\u001b[38;5;132;01m}\u001b[39;00m\u001b[38;5;124m'\u001b[39m) \u001b[38;5;28;01mfor\u001b[39;00m i \u001b[38;5;129;01min\u001b[39;00m \u001b[38;5;28mrange\u001b[39m(\u001b[38;5;241m1\u001b[39m, n_markers)]\n",
      "Cell \u001b[0;32mIn[6], line 3\u001b[0m, in \u001b[0;36m<listcomp>\u001b[0;34m(.0)\u001b[0m\n\u001b[1;32m      1\u001b[0m \u001b[38;5;28;01mdef\u001b[39;00m \u001b[38;5;21mrandom_estimation_tests\u001b[39m(n_markers, n_fam_I, n_fam_II, n_tests, \u001b[38;5;241m*\u001b[39m\u001b[38;5;241m*\u001b[39mkwargs):\n\u001b[1;32m      2\u001b[0m     data \u001b[38;5;241m=\u001b[39m [\n\u001b[0;32m----> 3\u001b[0m         \u001b[43mrandom_estimation_test\u001b[49m\u001b[43m(\u001b[49m\u001b[43mn_markers\u001b[49m\u001b[43m,\u001b[49m\u001b[43m \u001b[49m\u001b[43mn_fam_I\u001b[49m\u001b[43m,\u001b[49m\u001b[43m \u001b[49m\u001b[43mn_fam_II\u001b[49m\u001b[43m,\u001b[49m\u001b[43m \u001b[49m\u001b[43mseed\u001b[49m\u001b[43m,\u001b[49m\u001b[43m \u001b[49m\u001b[43mestimate_mutation_rates\u001b[49m\u001b[38;5;241;43m=\u001b[39;49m\u001b[38;5;124;43m'\u001b[39;49m\u001b[38;5;124;43mall\u001b[39;49m\u001b[38;5;124;43m'\u001b[39;49m\u001b[43m,\u001b[49m\u001b[43m \u001b[49m\u001b[38;5;241;43m*\u001b[39;49m\u001b[38;5;241;43m*\u001b[39;49m\u001b[43mkwargs\u001b[49m\u001b[43m)\u001b[49m\n\u001b[1;32m      4\u001b[0m         \u001b[38;5;28;01mfor\u001b[39;00m seed \u001b[38;5;129;01min\u001b[39;00m tqdm(\u001b[38;5;28mrange\u001b[39m(n_tests))\n\u001b[1;32m      5\u001b[0m     ]\n\u001b[1;32m      6\u001b[0m     \u001b[38;5;66;03m# put results in a pandas DataFrame\u001b[39;00m\n\u001b[1;32m      7\u001b[0m     recomb_cols \u001b[38;5;241m=\u001b[39m [(\u001b[38;5;124m'\u001b[39m\u001b[38;5;124mRECOMBINATION\u001b[39m\u001b[38;5;124m'\u001b[39m, \u001b[38;5;124mf\u001b[39m\u001b[38;5;124m'\u001b[39m\u001b[38;5;124mM\u001b[39m\u001b[38;5;132;01m{\u001b[39;00mi\u001b[38;5;132;01m}\u001b[39;00m\u001b[38;5;124m-\u001b[39m\u001b[38;5;132;01m{\u001b[39;00mi\u001b[38;5;241m+\u001b[39m\u001b[38;5;241m1\u001b[39m\u001b[38;5;132;01m}\u001b[39;00m\u001b[38;5;124m'\u001b[39m) \u001b[38;5;28;01mfor\u001b[39;00m i \u001b[38;5;129;01min\u001b[39;00m \u001b[38;5;28mrange\u001b[39m(\u001b[38;5;241m1\u001b[39m, n_markers)]\n",
      "File \u001b[0;32m~/recombulator-x/venv/lib/python3.10/site-packages/joblib/memory.py:594\u001b[0m, in \u001b[0;36mMemorizedFunc.__call__\u001b[0;34m(self, *args, **kwargs)\u001b[0m\n\u001b[1;32m    593\u001b[0m \u001b[38;5;28;01mdef\u001b[39;00m \u001b[38;5;21m__call__\u001b[39m(\u001b[38;5;28mself\u001b[39m, \u001b[38;5;241m*\u001b[39margs, \u001b[38;5;241m*\u001b[39m\u001b[38;5;241m*\u001b[39mkwargs):\n\u001b[0;32m--> 594\u001b[0m     \u001b[38;5;28;01mreturn\u001b[39;00m \u001b[38;5;28;43mself\u001b[39;49m\u001b[38;5;241;43m.\u001b[39;49m\u001b[43m_cached_call\u001b[49m\u001b[43m(\u001b[49m\u001b[43margs\u001b[49m\u001b[43m,\u001b[49m\u001b[43m \u001b[49m\u001b[43mkwargs\u001b[49m\u001b[43m)\u001b[49m[\u001b[38;5;241m0\u001b[39m]\n",
      "File \u001b[0;32m~/recombulator-x/venv/lib/python3.10/site-packages/joblib/memory.py:537\u001b[0m, in \u001b[0;36mMemorizedFunc._cached_call\u001b[0;34m(self, args, kwargs, shelving)\u001b[0m\n\u001b[1;32m    534\u001b[0m         must_call \u001b[38;5;241m=\u001b[39m \u001b[38;5;28;01mTrue\u001b[39;00m\n\u001b[1;32m    536\u001b[0m \u001b[38;5;28;01mif\u001b[39;00m must_call:\n\u001b[0;32m--> 537\u001b[0m     out, metadata \u001b[38;5;241m=\u001b[39m \u001b[38;5;28;43mself\u001b[39;49m\u001b[38;5;241;43m.\u001b[39;49m\u001b[43mcall\u001b[49m\u001b[43m(\u001b[49m\u001b[38;5;241;43m*\u001b[39;49m\u001b[43margs\u001b[49m\u001b[43m,\u001b[49m\u001b[43m \u001b[49m\u001b[38;5;241;43m*\u001b[39;49m\u001b[38;5;241;43m*\u001b[39;49m\u001b[43mkwargs\u001b[49m\u001b[43m)\u001b[49m\n\u001b[1;32m    538\u001b[0m     \u001b[38;5;28;01mif\u001b[39;00m \u001b[38;5;28mself\u001b[39m\u001b[38;5;241m.\u001b[39mmmap_mode \u001b[38;5;129;01mis\u001b[39;00m \u001b[38;5;129;01mnot\u001b[39;00m \u001b[38;5;28;01mNone\u001b[39;00m:\n\u001b[1;32m    539\u001b[0m         \u001b[38;5;66;03m# Memmap the output at the first call to be consistent with\u001b[39;00m\n\u001b[1;32m    540\u001b[0m         \u001b[38;5;66;03m# later calls\u001b[39;00m\n\u001b[1;32m    541\u001b[0m         \u001b[38;5;28;01mif\u001b[39;00m \u001b[38;5;28mself\u001b[39m\u001b[38;5;241m.\u001b[39m_verbose:\n",
      "File \u001b[0;32m~/recombulator-x/venv/lib/python3.10/site-packages/joblib/memory.py:779\u001b[0m, in \u001b[0;36mMemorizedFunc.call\u001b[0;34m(self, *args, **kwargs)\u001b[0m\n\u001b[1;32m    777\u001b[0m \u001b[38;5;28;01mif\u001b[39;00m \u001b[38;5;28mself\u001b[39m\u001b[38;5;241m.\u001b[39m_verbose \u001b[38;5;241m>\u001b[39m \u001b[38;5;241m0\u001b[39m:\n\u001b[1;32m    778\u001b[0m     \u001b[38;5;28mprint\u001b[39m(format_call(\u001b[38;5;28mself\u001b[39m\u001b[38;5;241m.\u001b[39mfunc, args, kwargs))\n\u001b[0;32m--> 779\u001b[0m output \u001b[38;5;241m=\u001b[39m \u001b[38;5;28;43mself\u001b[39;49m\u001b[38;5;241;43m.\u001b[39;49m\u001b[43mfunc\u001b[49m\u001b[43m(\u001b[49m\u001b[38;5;241;43m*\u001b[39;49m\u001b[43margs\u001b[49m\u001b[43m,\u001b[49m\u001b[43m \u001b[49m\u001b[38;5;241;43m*\u001b[39;49m\u001b[38;5;241;43m*\u001b[39;49m\u001b[43mkwargs\u001b[49m\u001b[43m)\u001b[49m\n\u001b[1;32m    780\u001b[0m \u001b[38;5;28mself\u001b[39m\u001b[38;5;241m.\u001b[39mstore_backend\u001b[38;5;241m.\u001b[39mdump_item(\n\u001b[1;32m    781\u001b[0m     [func_id, args_id], output, verbose\u001b[38;5;241m=\u001b[39m\u001b[38;5;28mself\u001b[39m\u001b[38;5;241m.\u001b[39m_verbose)\n\u001b[1;32m    783\u001b[0m duration \u001b[38;5;241m=\u001b[39m time\u001b[38;5;241m.\u001b[39mtime() \u001b[38;5;241m-\u001b[39m start_time\n",
      "Cell \u001b[0;32mIn[4], line 10\u001b[0m, in \u001b[0;36mrandom_estimation_test\u001b[0;34m(n_markers, n_fam_I, n_fam_II, seed, **kwargs)\u001b[0m\n\u001b[1;32m      8\u001b[0m fams \u001b[38;5;241m+\u001b[39m\u001b[38;5;241m=\u001b[39m [recombulatorx\u001b[38;5;241m.\u001b[39mtesting\u001b[38;5;241m.\u001b[39mgenerate_processed_family(\u001b[38;5;124mf\u001b[39m\u001b[38;5;124m'\u001b[39m\u001b[38;5;124mFAM_II_\u001b[39m\u001b[38;5;132;01m{\u001b[39;00mi\u001b[38;5;132;01m}\u001b[39;00m\u001b[38;5;124m'\u001b[39m, \u001b[38;5;241m2\u001b[39m, \u001b[38;5;28;01mFalse\u001b[39;00m, \u001b[38;5;241m*\u001b[39msimulated_rates) \u001b[38;5;28;01mfor\u001b[39;00m i \u001b[38;5;129;01min\u001b[39;00m \u001b[38;5;28mrange\u001b[39m(n_fam_II)]\n\u001b[1;32m      9\u001b[0m t1 \u001b[38;5;241m=\u001b[39m time()\n\u001b[0;32m---> 10\u001b[0m estimated_rates \u001b[38;5;241m=\u001b[39m \u001b[43mrecombulatorx\u001b[49m\u001b[38;5;241;43m.\u001b[39;49m\u001b[43mestimate_rates\u001b[49m\u001b[43m(\u001b[49m\u001b[43mfams\u001b[49m\u001b[43m,\u001b[49m\u001b[43m \u001b[49m\u001b[38;5;241;43m0.1\u001b[39;49m\u001b[43m,\u001b[49m\u001b[43m \u001b[49m\u001b[38;5;241;43m0.1\u001b[39;49m\u001b[43m,\u001b[49m\u001b[43m \u001b[49m\u001b[38;5;241;43m*\u001b[39;49m\u001b[38;5;241;43m*\u001b[39;49m\u001b[43mkwargs\u001b[49m\u001b[43m)\u001b[49m\n\u001b[1;32m     11\u001b[0m elapsed_time \u001b[38;5;241m=\u001b[39m time() \u001b[38;5;241m-\u001b[39m t1\n\u001b[1;32m     12\u001b[0m \u001b[38;5;28;01mreturn\u001b[39;00m simulated_rates, estimated_rates, elapsed_time\n",
      "File \u001b[0;32m~/recombulator-x/recombulatorx/estimate.py:143\u001b[0m, in \u001b[0;36mestimate_rates\u001b[0;34m(families, starting_recombination_rates, starting_mutation_rates, estimate_mutation_rates, implementation, optimization_method, maxiter)\u001b[0m\n\u001b[1;32m    136\u001b[0m     \u001b[38;5;28;01mraise\u001b[39;00m \u001b[38;5;167;01mValueError\u001b[39;00m(\u001b[38;5;124mf\u001b[39m\u001b[38;5;124m'\u001b[39m\u001b[38;5;124munknown value \u001b[39m\u001b[38;5;124m\"\u001b[39m\u001b[38;5;132;01m{\u001b[39;00mestimate_mutation_rates\u001b[38;5;132;01m}\u001b[39;00m\u001b[38;5;124m\"\u001b[39m\u001b[38;5;124m for estimate_mutation_rates\u001b[39m\u001b[38;5;124m'\u001b[39m)\n\u001b[1;32m    138\u001b[0m x0\u001b[38;5;241m=\u001b[39mnumpy\u001b[38;5;241m.\u001b[39mconcatenate([\n\u001b[1;32m    139\u001b[0m     starting_recombination_rates,\n\u001b[1;32m    140\u001b[0m     x0_mut,\n\u001b[1;32m    141\u001b[0m ])\n\u001b[0;32m--> 143\u001b[0m r \u001b[38;5;241m=\u001b[39m \u001b[43mscipy\u001b[49m\u001b[38;5;241;43m.\u001b[39;49m\u001b[43moptimize\u001b[49m\u001b[38;5;241;43m.\u001b[39;49m\u001b[43mminimize\u001b[49m\u001b[43m(\u001b[49m\n\u001b[1;32m    144\u001b[0m \u001b[43m    \u001b[49m\u001b[43mfun\u001b[49m\u001b[38;5;241;43m=\u001b[39;49m\u001b[43mlikelihood_objective_function\u001b[49m\u001b[43m,\u001b[49m\u001b[43m \u001b[49m\u001b[43mx0\u001b[49m\u001b[38;5;241;43m=\u001b[39;49m\u001b[43mx0\u001b[49m\u001b[43m,\u001b[49m\n\u001b[1;32m    145\u001b[0m \u001b[43m    \u001b[49m\u001b[43margs\u001b[49m\u001b[38;5;241;43m=\u001b[39;49m\u001b[43m(\u001b[49m\u001b[43mfamilies\u001b[49m\u001b[43m,\u001b[49m\u001b[43m \u001b[49m\u001b[43mestimate_mutation_rates\u001b[49m\u001b[43m,\u001b[49m\u001b[43m \u001b[49m\u001b[43mstarting_mutation_rates\u001b[49m\u001b[43m,\u001b[49m\u001b[43m \u001b[49m\u001b[43mimplementation\u001b[49m\u001b[43m)\u001b[49m\u001b[43m,\u001b[49m\n\u001b[1;32m    146\u001b[0m \u001b[43m    \u001b[49m\u001b[43mbounds\u001b[49m\u001b[38;5;241;43m=\u001b[39;49m\u001b[43m[\u001b[49m\u001b[43m(\u001b[49m\u001b[38;5;241;43m1e-8\u001b[39;49m\u001b[43m,\u001b[49m\u001b[43m \u001b[49m\u001b[38;5;241;43m0.5\u001b[39;49m\u001b[43m)\u001b[49m\u001b[43m]\u001b[49m\u001b[38;5;241;43m*\u001b[39;49m\u001b[38;5;28;43mlen\u001b[39;49m\u001b[43m(\u001b[49m\u001b[43mx0\u001b[49m\u001b[43m)\u001b[49m\u001b[43m,\u001b[49m\n\u001b[1;32m    147\u001b[0m \u001b[43m    \u001b[49m\u001b[43mmethod\u001b[49m\u001b[38;5;241;43m=\u001b[39;49m\u001b[43moptimization_method\u001b[49m\u001b[43m,\u001b[49m\n\u001b[1;32m    148\u001b[0m \u001b[43m    \u001b[49m\u001b[43moptions\u001b[49m\u001b[38;5;241;43m=\u001b[39;49m\u001b[38;5;28;43mdict\u001b[39;49m\u001b[43m(\u001b[49m\u001b[43mmaxiter\u001b[49m\u001b[38;5;241;43m=\u001b[39;49m\u001b[43mmaxiter\u001b[49m\u001b[43m)\u001b[49m\u001b[43m,\u001b[49m\n\u001b[1;32m    149\u001b[0m \u001b[43m\u001b[49m\u001b[43m)\u001b[49m\n\u001b[1;32m    151\u001b[0m \u001b[38;5;28;01mif\u001b[39;00m \u001b[38;5;129;01mnot\u001b[39;00m r\u001b[38;5;241m.\u001b[39msuccess:\n\u001b[1;32m    152\u001b[0m     \u001b[38;5;28;01mraise\u001b[39;00m \u001b[38;5;167;01mValueError\u001b[39;00m(\u001b[38;5;124mf\u001b[39m\u001b[38;5;124m\"\u001b[39m\u001b[38;5;124mMinimization failed to converge: \u001b[39m\u001b[38;5;132;01m{\u001b[39;00mr\u001b[38;5;241m.\u001b[39mmessage\u001b[38;5;132;01m}\u001b[39;00m\u001b[38;5;124m\"\u001b[39m)\n",
      "File \u001b[0;32m~/recombulator-x/venv/lib/python3.10/site-packages/scipy/optimize/_minimize.py:699\u001b[0m, in \u001b[0;36mminimize\u001b[0;34m(fun, x0, args, method, jac, hess, hessp, bounds, constraints, tol, callback, options)\u001b[0m\n\u001b[1;32m    696\u001b[0m     res \u001b[38;5;241m=\u001b[39m _minimize_newtoncg(fun, x0, args, jac, hess, hessp, callback,\n\u001b[1;32m    697\u001b[0m                              \u001b[38;5;241m*\u001b[39m\u001b[38;5;241m*\u001b[39moptions)\n\u001b[1;32m    698\u001b[0m \u001b[38;5;28;01melif\u001b[39;00m meth \u001b[38;5;241m==\u001b[39m \u001b[38;5;124m'\u001b[39m\u001b[38;5;124ml-bfgs-b\u001b[39m\u001b[38;5;124m'\u001b[39m:\n\u001b[0;32m--> 699\u001b[0m     res \u001b[38;5;241m=\u001b[39m \u001b[43m_minimize_lbfgsb\u001b[49m\u001b[43m(\u001b[49m\u001b[43mfun\u001b[49m\u001b[43m,\u001b[49m\u001b[43m \u001b[49m\u001b[43mx0\u001b[49m\u001b[43m,\u001b[49m\u001b[43m \u001b[49m\u001b[43margs\u001b[49m\u001b[43m,\u001b[49m\u001b[43m \u001b[49m\u001b[43mjac\u001b[49m\u001b[43m,\u001b[49m\u001b[43m \u001b[49m\u001b[43mbounds\u001b[49m\u001b[43m,\u001b[49m\n\u001b[1;32m    700\u001b[0m \u001b[43m                           \u001b[49m\u001b[43mcallback\u001b[49m\u001b[38;5;241;43m=\u001b[39;49m\u001b[43mcallback\u001b[49m\u001b[43m,\u001b[49m\u001b[43m \u001b[49m\u001b[38;5;241;43m*\u001b[39;49m\u001b[38;5;241;43m*\u001b[39;49m\u001b[43moptions\u001b[49m\u001b[43m)\u001b[49m\n\u001b[1;32m    701\u001b[0m \u001b[38;5;28;01melif\u001b[39;00m meth \u001b[38;5;241m==\u001b[39m \u001b[38;5;124m'\u001b[39m\u001b[38;5;124mtnc\u001b[39m\u001b[38;5;124m'\u001b[39m:\n\u001b[1;32m    702\u001b[0m     res \u001b[38;5;241m=\u001b[39m _minimize_tnc(fun, x0, args, jac, bounds, callback\u001b[38;5;241m=\u001b[39mcallback,\n\u001b[1;32m    703\u001b[0m                         \u001b[38;5;241m*\u001b[39m\u001b[38;5;241m*\u001b[39moptions)\n",
      "File \u001b[0;32m~/recombulator-x/venv/lib/python3.10/site-packages/scipy/optimize/_lbfgsb_py.py:360\u001b[0m, in \u001b[0;36m_minimize_lbfgsb\u001b[0;34m(fun, x0, args, jac, bounds, disp, maxcor, ftol, gtol, eps, maxfun, maxiter, iprint, callback, maxls, finite_diff_rel_step, **unknown_options)\u001b[0m\n\u001b[1;32m    354\u001b[0m task_str \u001b[38;5;241m=\u001b[39m task\u001b[38;5;241m.\u001b[39mtobytes()\n\u001b[1;32m    355\u001b[0m \u001b[38;5;28;01mif\u001b[39;00m task_str\u001b[38;5;241m.\u001b[39mstartswith(\u001b[38;5;124mb\u001b[39m\u001b[38;5;124m'\u001b[39m\u001b[38;5;124mFG\u001b[39m\u001b[38;5;124m'\u001b[39m):\n\u001b[1;32m    356\u001b[0m     \u001b[38;5;66;03m# The minimization routine wants f and g at the current x.\u001b[39;00m\n\u001b[1;32m    357\u001b[0m     \u001b[38;5;66;03m# Note that interruptions due to maxfun are postponed\u001b[39;00m\n\u001b[1;32m    358\u001b[0m     \u001b[38;5;66;03m# until the completion of the current minimization iteration.\u001b[39;00m\n\u001b[1;32m    359\u001b[0m     \u001b[38;5;66;03m# Overwrite f and g:\u001b[39;00m\n\u001b[0;32m--> 360\u001b[0m     f, g \u001b[38;5;241m=\u001b[39m \u001b[43mfunc_and_grad\u001b[49m\u001b[43m(\u001b[49m\u001b[43mx\u001b[49m\u001b[43m)\u001b[49m\n\u001b[1;32m    361\u001b[0m \u001b[38;5;28;01melif\u001b[39;00m task_str\u001b[38;5;241m.\u001b[39mstartswith(\u001b[38;5;124mb\u001b[39m\u001b[38;5;124m'\u001b[39m\u001b[38;5;124mNEW_X\u001b[39m\u001b[38;5;124m'\u001b[39m):\n\u001b[1;32m    362\u001b[0m     \u001b[38;5;66;03m# new iteration\u001b[39;00m\n\u001b[1;32m    363\u001b[0m     n_iterations \u001b[38;5;241m+\u001b[39m\u001b[38;5;241m=\u001b[39m \u001b[38;5;241m1\u001b[39m\n",
      "File \u001b[0;32m~/recombulator-x/venv/lib/python3.10/site-packages/scipy/optimize/_differentiable_functions.py:285\u001b[0m, in \u001b[0;36mScalarFunction.fun_and_grad\u001b[0;34m(self, x)\u001b[0m\n\u001b[1;32m    283\u001b[0m \u001b[38;5;28;01mif\u001b[39;00m \u001b[38;5;129;01mnot\u001b[39;00m np\u001b[38;5;241m.\u001b[39marray_equal(x, \u001b[38;5;28mself\u001b[39m\u001b[38;5;241m.\u001b[39mx):\n\u001b[1;32m    284\u001b[0m     \u001b[38;5;28mself\u001b[39m\u001b[38;5;241m.\u001b[39m_update_x_impl(x)\n\u001b[0;32m--> 285\u001b[0m \u001b[38;5;28;43mself\u001b[39;49m\u001b[38;5;241;43m.\u001b[39;49m\u001b[43m_update_fun\u001b[49m\u001b[43m(\u001b[49m\u001b[43m)\u001b[49m\n\u001b[1;32m    286\u001b[0m \u001b[38;5;28mself\u001b[39m\u001b[38;5;241m.\u001b[39m_update_grad()\n\u001b[1;32m    287\u001b[0m \u001b[38;5;28;01mreturn\u001b[39;00m \u001b[38;5;28mself\u001b[39m\u001b[38;5;241m.\u001b[39mf, \u001b[38;5;28mself\u001b[39m\u001b[38;5;241m.\u001b[39mg\n",
      "File \u001b[0;32m~/recombulator-x/venv/lib/python3.10/site-packages/scipy/optimize/_differentiable_functions.py:251\u001b[0m, in \u001b[0;36mScalarFunction._update_fun\u001b[0;34m(self)\u001b[0m\n\u001b[1;32m    249\u001b[0m \u001b[38;5;28;01mdef\u001b[39;00m \u001b[38;5;21m_update_fun\u001b[39m(\u001b[38;5;28mself\u001b[39m):\n\u001b[1;32m    250\u001b[0m     \u001b[38;5;28;01mif\u001b[39;00m \u001b[38;5;129;01mnot\u001b[39;00m \u001b[38;5;28mself\u001b[39m\u001b[38;5;241m.\u001b[39mf_updated:\n\u001b[0;32m--> 251\u001b[0m         \u001b[38;5;28;43mself\u001b[39;49m\u001b[38;5;241;43m.\u001b[39;49m\u001b[43m_update_fun_impl\u001b[49m\u001b[43m(\u001b[49m\u001b[43m)\u001b[49m\n\u001b[1;32m    252\u001b[0m         \u001b[38;5;28mself\u001b[39m\u001b[38;5;241m.\u001b[39mf_updated \u001b[38;5;241m=\u001b[39m \u001b[38;5;28;01mTrue\u001b[39;00m\n",
      "File \u001b[0;32m~/recombulator-x/venv/lib/python3.10/site-packages/scipy/optimize/_differentiable_functions.py:155\u001b[0m, in \u001b[0;36mScalarFunction.__init__.<locals>.update_fun\u001b[0;34m()\u001b[0m\n\u001b[1;32m    154\u001b[0m \u001b[38;5;28;01mdef\u001b[39;00m \u001b[38;5;21mupdate_fun\u001b[39m():\n\u001b[0;32m--> 155\u001b[0m     \u001b[38;5;28mself\u001b[39m\u001b[38;5;241m.\u001b[39mf \u001b[38;5;241m=\u001b[39m \u001b[43mfun_wrapped\u001b[49m\u001b[43m(\u001b[49m\u001b[38;5;28;43mself\u001b[39;49m\u001b[38;5;241;43m.\u001b[39;49m\u001b[43mx\u001b[49m\u001b[43m)\u001b[49m\n",
      "File \u001b[0;32m~/recombulator-x/venv/lib/python3.10/site-packages/scipy/optimize/_differentiable_functions.py:137\u001b[0m, in \u001b[0;36mScalarFunction.__init__.<locals>.fun_wrapped\u001b[0;34m(x)\u001b[0m\n\u001b[1;32m    133\u001b[0m \u001b[38;5;28mself\u001b[39m\u001b[38;5;241m.\u001b[39mnfev \u001b[38;5;241m+\u001b[39m\u001b[38;5;241m=\u001b[39m \u001b[38;5;241m1\u001b[39m\n\u001b[1;32m    134\u001b[0m \u001b[38;5;66;03m# Send a copy because the user may overwrite it.\u001b[39;00m\n\u001b[1;32m    135\u001b[0m \u001b[38;5;66;03m# Overwriting results in undefined behaviour because\u001b[39;00m\n\u001b[1;32m    136\u001b[0m \u001b[38;5;66;03m# fun(self.x) will change self.x, with the two no longer linked.\u001b[39;00m\n\u001b[0;32m--> 137\u001b[0m fx \u001b[38;5;241m=\u001b[39m \u001b[43mfun\u001b[49m\u001b[43m(\u001b[49m\u001b[43mnp\u001b[49m\u001b[38;5;241;43m.\u001b[39;49m\u001b[43mcopy\u001b[49m\u001b[43m(\u001b[49m\u001b[43mx\u001b[49m\u001b[43m)\u001b[49m\u001b[43m,\u001b[49m\u001b[43m \u001b[49m\u001b[38;5;241;43m*\u001b[39;49m\u001b[43margs\u001b[49m\u001b[43m)\u001b[49m\n\u001b[1;32m    138\u001b[0m \u001b[38;5;66;03m# Make sure the function returns a true scalar\u001b[39;00m\n\u001b[1;32m    139\u001b[0m \u001b[38;5;28;01mif\u001b[39;00m \u001b[38;5;129;01mnot\u001b[39;00m np\u001b[38;5;241m.\u001b[39misscalar(fx):\n",
      "File \u001b[0;32m~/recombulator-x/recombulatorx/estimate.py:50\u001b[0m, in \u001b[0;36mlikelihood_objective_function\u001b[0;34m(x, families, estimate_mutation_rates, starting_mutation_rates, implementation)\u001b[0m\n\u001b[1;32m     48\u001b[0m     n \u001b[38;5;241m=\u001b[39m \u001b[38;5;28mint\u001b[39m((\u001b[38;5;28mlen\u001b[39m(x) \u001b[38;5;241m+\u001b[39m \u001b[38;5;241m1\u001b[39m)\u001b[38;5;241m/\u001b[39m\u001b[38;5;241m2\u001b[39m)\n\u001b[1;32m     49\u001b[0m     rates \u001b[38;5;241m=\u001b[39m numpy\u001b[38;5;241m.\u001b[39msplit(x, [n \u001b[38;5;241m-\u001b[39m \u001b[38;5;241m1\u001b[39m])\n\u001b[0;32m---> 50\u001b[0m \u001b[38;5;28;01mreturn\u001b[39;00m \u001b[43mcompute_global_likelihood\u001b[49m\u001b[43m(\u001b[49m\u001b[43mfamilies\u001b[49m\u001b[43m,\u001b[49m\u001b[43m \u001b[49m\u001b[38;5;241;43m*\u001b[39;49m\u001b[43mrates\u001b[49m\u001b[43m,\u001b[49m\u001b[43m \u001b[49m\u001b[43mimplementation\u001b[49m\u001b[43m)\u001b[49m\n",
      "File \u001b[0;32m~/recombulator-x/recombulatorx/estimate.py:32\u001b[0m, in \u001b[0;36mcompute_global_likelihood\u001b[0;34m(families, recombination_rates, mutation_rates, implementation)\u001b[0m\n\u001b[1;32m     16\u001b[0m \u001b[38;5;124;03m\"\"\"\u001b[39;00m\n\u001b[1;32m     17\u001b[0m \u001b[38;5;124;03mCompute the log-likelihood of multiple families given recombination and mutation rates.\u001b[39;00m\n\u001b[1;32m     18\u001b[0m \n\u001b[0;32m   (...)\u001b[0m\n\u001b[1;32m     28\u001b[0m \u001b[38;5;124;03m    Combined log likelihood of all families\u001b[39;00m\n\u001b[1;32m     29\u001b[0m \u001b[38;5;124;03m\"\"\"\u001b[39;00m\n\u001b[1;32m     31\u001b[0m args \u001b[38;5;241m=\u001b[39m [(pf, recombination_rates, mutation_rates, implementation) \u001b[38;5;28;01mfor\u001b[39;00m pf \u001b[38;5;129;01min\u001b[39;00m families]\n\u001b[0;32m---> 32\u001b[0m likelihoods \u001b[38;5;241m=\u001b[39m \u001b[38;5;28;43mdict\u001b[39;49m\u001b[43m(\u001b[49m\u001b[38;5;28;43mmap\u001b[39;49m\u001b[43m(\u001b[49m\u001b[43mcompute_family_likelihood_star\u001b[49m\u001b[43m,\u001b[49m\u001b[43m \u001b[49m\u001b[43margs\u001b[49m\u001b[43m)\u001b[49m\u001b[43m)\u001b[49m\n\u001b[1;32m     34\u001b[0m \u001b[38;5;28;01mfor\u001b[39;00m fid, lh \u001b[38;5;129;01min\u001b[39;00m likelihoods\u001b[38;5;241m.\u001b[39mitems():\n\u001b[1;32m     35\u001b[0m     \u001b[38;5;28;01massert\u001b[39;00m \u001b[38;5;241m0\u001b[39m \u001b[38;5;241m<\u001b[39m\u001b[38;5;241m=\u001b[39m lh \u001b[38;5;129;01mand\u001b[39;00m lh \u001b[38;5;241m<\u001b[39m\u001b[38;5;241m=\u001b[39m \u001b[38;5;241m1\u001b[39m, \u001b[38;5;124mf\u001b[39m\u001b[38;5;124m\"\u001b[39m\u001b[38;5;124mbad probability value \u001b[39m\u001b[38;5;132;01m{\u001b[39;00mlh\u001b[38;5;132;01m}\u001b[39;00m\u001b[38;5;124m for family \u001b[39m\u001b[38;5;132;01m{\u001b[39;00mfid\u001b[38;5;132;01m}\u001b[39;00m\u001b[38;5;124m\"\u001b[39m\n",
      "File \u001b[0;32m~/recombulator-x/recombulatorx/estimate.py:9\u001b[0m, in \u001b[0;36mcompute_family_likelihood_star\u001b[0;34m(args)\u001b[0m\n\u001b[1;32m      7\u001b[0m pf \u001b[38;5;241m=\u001b[39m args[\u001b[38;5;241m0\u001b[39m]\n\u001b[1;32m      8\u001b[0m \u001b[38;5;28;01mtry\u001b[39;00m:\n\u001b[0;32m----> 9\u001b[0m     \u001b[38;5;28;01mreturn\u001b[39;00m pf\u001b[38;5;241m.\u001b[39mfid, \u001b[43mcompute_family_likelihood\u001b[49m\u001b[43m(\u001b[49m\u001b[38;5;241;43m*\u001b[39;49m\u001b[43margs\u001b[49m\u001b[43m)\u001b[49m\n\u001b[1;32m     10\u001b[0m \u001b[38;5;28;01mexcept\u001b[39;00m \u001b[38;5;167;01mException\u001b[39;00m \u001b[38;5;28;01mas\u001b[39;00m e:\n\u001b[1;32m     11\u001b[0m     \u001b[38;5;28mprint\u001b[39m(\u001b[38;5;124mf\u001b[39m\u001b[38;5;124m'\u001b[39m\u001b[38;5;124mException computing family likelihood in family \u001b[39m\u001b[38;5;132;01m{\u001b[39;00mpf\u001b[38;5;132;01m}\u001b[39;00m\u001b[38;5;124m'\u001b[39m)\n",
      "File \u001b[0;32m~/recombulator-x/recombulatorx/likelihood.py:410\u001b[0m, in \u001b[0;36mcompute_family_likelihood\u001b[0;34m(fam, recombination_rates, mutation_rates, implementation)\u001b[0m\n\u001b[1;32m    407\u001b[0m \u001b[38;5;28;01mif\u001b[39;00m \u001b[38;5;129;01mnot\u001b[39;00m \u001b[38;5;28misinstance\u001b[39m(mutation_rates, numpy\u001b[38;5;241m.\u001b[39mndarray):\n\u001b[1;32m    408\u001b[0m     mutation_rates \u001b[38;5;241m=\u001b[39m numpy\u001b[38;5;241m.\u001b[39marray(mutation_rates)\n\u001b[0;32m--> 410\u001b[0m \u001b[38;5;28;01mreturn\u001b[39;00m \u001b[43mlikelihood_func\u001b[49m\u001b[43m(\u001b[49m\u001b[43mfam\u001b[49m\u001b[38;5;241;43m.\u001b[39;49m\u001b[43mmother\u001b[49m\u001b[43m,\u001b[49m\u001b[43m \u001b[49m\u001b[43mfam\u001b[49m\u001b[38;5;241;43m.\u001b[39;49m\u001b[43mmaternal_haplotypes\u001b[49m\u001b[43m,\u001b[49m\u001b[43m \u001b[49m\u001b[43mrecombination_rates\u001b[49m\u001b[43m,\u001b[49m\u001b[43m \u001b[49m\u001b[43mmutation_rates\u001b[49m\u001b[43m)\u001b[49m\n",
      "File \u001b[0;32m~/recombulator-x/recombulatorx/likelihood.py:283\u001b[0m, in \u001b[0;36mcompute_unphased_family_likelihood_dyn_queue\u001b[0;34m(mother, maternal_haplotypes, recombination_rates, mutation_rates, early_stop, fast_stop, inner_func)\u001b[0m\n\u001b[1;32m    281\u001b[0m cum_lh \u001b[38;5;241m=\u001b[39m numpy\u001b[38;5;241m.\u001b[39mconcatenate([mut_max_lh\u001b[38;5;241m*\u001b[39mrec_max_lh, [\u001b[38;5;241m1.0\u001b[39m]])\n\u001b[1;32m    282\u001b[0m mutation_probs \u001b[38;5;241m=\u001b[39m compute_family_mutation_probs(mother, maternal_haplotypes, mutation_rates)\n\u001b[0;32m--> 283\u001b[0m \u001b[38;5;28;01mreturn\u001b[39;00m \u001b[43minner_func\u001b[49m\u001b[43m(\u001b[49m\u001b[43mmother\u001b[49m\u001b[43m,\u001b[49m\u001b[43m \u001b[49m\u001b[43mrecombination_rates\u001b[49m\u001b[43m,\u001b[49m\u001b[43m \u001b[49m\u001b[43mmutation_probs\u001b[49m\u001b[43m,\u001b[49m\u001b[43m \u001b[49m\u001b[43mcum_lh\u001b[49m\u001b[43m,\u001b[49m\u001b[43m \u001b[49m\u001b[43mearly_stop\u001b[49m\u001b[38;5;241;43m=\u001b[39;49m\u001b[43mearly_stop\u001b[49m\u001b[43m,\u001b[49m\u001b[43m \u001b[49m\u001b[43mfast_stop\u001b[49m\u001b[38;5;241;43m=\u001b[39;49m\u001b[43mfast_stop\u001b[49m\u001b[43m)\u001b[49m[\u001b[38;5;241m0\u001b[39m]\n",
      "\u001b[0;31mKeyboardInterrupt\u001b[0m: "
     ]
    }
   ],
   "source": [
    "lit1 = random_estimation_tests(n_markers=12, n_fam_I=216, n_fam_II=185, n_tests=10)"
   ]
  },
  {
   "cell_type": "code",
   "execution_count": null,
   "id": "62794287-38b7-4fc4-bce4-6d671f6f1883",
   "metadata": {},
   "outputs": [],
   "source": [
    "lit1_minutes = lit1.loc[:, ('ELAPSED TIME', None, None)]/60\n",
    "print(f'average time (minutes): {lit1_minutes.mean()}, std: {lit1_minutes.std()}')"
   ]
  },
  {
   "cell_type": "code",
   "execution_count": null,
   "id": "485193bf-f497-41d8-b107-4c19dead8e4b",
   "metadata": {},
   "outputs": [],
   "source": [
    "lit2 = random_estimation_tests(n_markers=15, n_fam_I=54, n_fam_II=104, n_tests=10)"
   ]
  },
  {
   "cell_type": "code",
   "execution_count": null,
   "id": "be73085a-4f69-450b-b50a-b065ea64790b",
   "metadata": {},
   "outputs": [],
   "source": [
    "lit2_minutes = lit2.loc[:, ('ELAPSED TIME', None, None)]/60\n",
    "print(f'average time (minutes): {lit2_minutes.mean()}, std: {lit2_minutes.std()}')"
   ]
  },
  {
   "cell_type": "markdown",
   "id": "0b2765b5-c1ee-4b80-ae75-6ad2580a5939",
   "metadata": {},
   "source": [
    "# Tests varying the number of markers"
   ]
  },
  {
   "cell_type": "code",
   "execution_count": 28,
   "id": "2452b5b3-c8b9-4ef7-a90d-8f78fc889b18",
   "metadata": {},
   "outputs": [
    {
     "name": "stdout",
     "output_type": "stream",
     "text": [
      "n_markers=10\n"
     ]
    },
    {
     "name": "stderr",
     "output_type": "stream",
     "text": [
      "100%|███████████████████████████████████████████| 10/10 [00:00<00:00, 13.11it/s]\n"
     ]
    },
    {
     "name": "stdout",
     "output_type": "stream",
     "text": [
      "n_markers=20\n"
     ]
    },
    {
     "name": "stderr",
     "output_type": "stream",
     "text": [
      "100%|█████████████████████████████████████████| 10/10 [00:00<00:00, 4358.17it/s]\n"
     ]
    },
    {
     "name": "stdout",
     "output_type": "stream",
     "text": [
      "n_markers=30\n"
     ]
    },
    {
     "name": "stderr",
     "output_type": "stream",
     "text": [
      "100%|█████████████████████████████████████████| 10/10 [00:00<00:00, 4621.31it/s]\n"
     ]
    },
    {
     "name": "stdout",
     "output_type": "stream",
     "text": [
      "n_markers=40\n"
     ]
    },
    {
     "name": "stderr",
     "output_type": "stream",
     "text": [
      "100%|█████████████████████████████████████████| 10/10 [00:00<00:00, 4553.58it/s]\n"
     ]
    },
    {
     "name": "stdout",
     "output_type": "stream",
     "text": [
      "n_markers=50\n"
     ]
    },
    {
     "name": "stderr",
     "output_type": "stream",
     "text": [
      "100%|█████████████████████████████████████████| 10/10 [00:00<00:00, 4147.03it/s]\n"
     ]
    },
    {
     "name": "stdout",
     "output_type": "stream",
     "text": [
      "n_markers=60\n"
     ]
    },
    {
     "name": "stderr",
     "output_type": "stream",
     "text": [
      "100%|███████████████████████████████████████████| 10/10 [00:05<00:00,  1.72it/s]\n"
     ]
    },
    {
     "name": "stdout",
     "output_type": "stream",
     "text": [
      "n_markers=70\n"
     ]
    },
    {
     "name": "stderr",
     "output_type": "stream",
     "text": [
      "100%|███████████████████████████████████████████| 10/10 [00:07<00:00,  1.35it/s]\n"
     ]
    },
    {
     "name": "stdout",
     "output_type": "stream",
     "text": [
      "n_markers=80\n"
     ]
    },
    {
     "name": "stderr",
     "output_type": "stream",
     "text": [
      "100%|███████████████████████████████████████████| 10/10 [00:10<00:00,  1.10s/it]\n"
     ]
    },
    {
     "name": "stdout",
     "output_type": "stream",
     "text": [
      "n_markers=90\n"
     ]
    },
    {
     "name": "stderr",
     "output_type": "stream",
     "text": [
      "100%|███████████████████████████████████████████| 10/10 [00:12<00:00,  1.30s/it]\n"
     ]
    },
    {
     "name": "stdout",
     "output_type": "stream",
     "text": [
      "n_markers=100\n"
     ]
    },
    {
     "name": "stderr",
     "output_type": "stream",
     "text": [
      "100%|█████████████████████████████████████████| 10/10 [00:00<00:00, 4631.01it/s]\n"
     ]
    },
    {
     "name": "stdout",
     "output_type": "stream",
     "text": [
      "n_markers=110\n"
     ]
    },
    {
     "name": "stderr",
     "output_type": "stream",
     "text": [
      "100%|███████████████████████████████████████████| 10/10 [00:15<00:00,  1.59s/it]\n"
     ]
    },
    {
     "name": "stdout",
     "output_type": "stream",
     "text": [
      "n_markers=120\n"
     ]
    },
    {
     "name": "stderr",
     "output_type": "stream",
     "text": [
      "100%|███████████████████████████████████████████| 10/10 [00:19<00:00,  1.96s/it]\n"
     ]
    },
    {
     "name": "stdout",
     "output_type": "stream",
     "text": [
      "n_markers=130\n"
     ]
    },
    {
     "name": "stderr",
     "output_type": "stream",
     "text": [
      " 40%|█████████████████▌                          | 4/10 [00:08<00:12,  2.06s/it]"
     ]
    },
    {
     "ename": "ValueError",
     "evalue": "Minimization failed to converge: STOP: TOTAL NO. of f AND g EVALUATIONS EXCEEDS LIMIT",
     "output_type": "error",
     "traceback": [
      "\u001b[0;31m---------------------------------------------------------------------------\u001b[0m",
      "\u001b[0;31mValueError\u001b[0m                                Traceback (most recent call last)",
      "Cell \u001b[0;32mIn[28], line 6\u001b[0m\n\u001b[1;32m      4\u001b[0m \u001b[38;5;28;01mfor\u001b[39;00m n_markers \u001b[38;5;129;01min\u001b[39;00m [\u001b[38;5;241m10\u001b[39m, \u001b[38;5;241m20\u001b[39m, \u001b[38;5;241m30\u001b[39m, \u001b[38;5;241m40\u001b[39m, \u001b[38;5;241m50\u001b[39m, \u001b[38;5;241m60\u001b[39m, \u001b[38;5;241m70\u001b[39m, \u001b[38;5;241m80\u001b[39m, \u001b[38;5;241m90\u001b[39m, \u001b[38;5;241m100\u001b[39m, \u001b[38;5;241m110\u001b[39m, \u001b[38;5;241m120\u001b[39m, \u001b[38;5;241m130\u001b[39m, \u001b[38;5;241m150\u001b[39m]:\n\u001b[1;32m      5\u001b[0m     \u001b[38;5;28mprint\u001b[39m(\u001b[38;5;124mf\u001b[39m\u001b[38;5;124m'\u001b[39m\u001b[38;5;132;01m{\u001b[39;00mn_markers\u001b[38;5;132;01m=}\u001b[39;00m\u001b[38;5;124m'\u001b[39m)\n\u001b[0;32m----> 6\u001b[0m     marker_tests[n_markers] \u001b[38;5;241m=\u001b[39m \u001b[43mrandom_estimation_tests\u001b[49m\u001b[43m(\u001b[49m\u001b[43mn_markers\u001b[49m\u001b[43m,\u001b[49m\u001b[43m \u001b[49m\u001b[43mn_fam_I\u001b[49m\u001b[43m,\u001b[49m\u001b[43m \u001b[49m\u001b[43mn_fam_II\u001b[49m\u001b[43m,\u001b[49m\u001b[43m \u001b[49m\u001b[38;5;241;43m10\u001b[39;49m\u001b[43m)\u001b[49m\n",
      "Cell \u001b[0;32mIn[6], line 2\u001b[0m, in \u001b[0;36mrandom_estimation_tests\u001b[0;34m(n_markers, n_fam_I, n_fam_II, n_tests, **kwargs)\u001b[0m\n\u001b[1;32m      1\u001b[0m \u001b[38;5;28;01mdef\u001b[39;00m \u001b[38;5;21mrandom_estimation_tests\u001b[39m(n_markers, n_fam_I, n_fam_II, n_tests, \u001b[38;5;241m*\u001b[39m\u001b[38;5;241m*\u001b[39mkwargs):\n\u001b[0;32m----> 2\u001b[0m     data \u001b[38;5;241m=\u001b[39m [\n\u001b[1;32m      3\u001b[0m         random_estimation_test(n_markers, n_fam_I, n_fam_II, seed, estimate_mutation_rates\u001b[38;5;241m=\u001b[39m\u001b[38;5;124m'\u001b[39m\u001b[38;5;124mall\u001b[39m\u001b[38;5;124m'\u001b[39m, \u001b[38;5;241m*\u001b[39m\u001b[38;5;241m*\u001b[39mkwargs)\n\u001b[1;32m      4\u001b[0m         \u001b[38;5;28;01mfor\u001b[39;00m seed \u001b[38;5;129;01min\u001b[39;00m tqdm(\u001b[38;5;28mrange\u001b[39m(n_tests))\n\u001b[1;32m      5\u001b[0m     ]\n\u001b[1;32m      6\u001b[0m     \u001b[38;5;66;03m# put results in a pandas DataFrame\u001b[39;00m\n\u001b[1;32m      7\u001b[0m     recomb_cols \u001b[38;5;241m=\u001b[39m [(\u001b[38;5;124m'\u001b[39m\u001b[38;5;124mRECOMBINATION\u001b[39m\u001b[38;5;124m'\u001b[39m, \u001b[38;5;124mf\u001b[39m\u001b[38;5;124m'\u001b[39m\u001b[38;5;124mM\u001b[39m\u001b[38;5;132;01m{\u001b[39;00mi\u001b[38;5;132;01m}\u001b[39;00m\u001b[38;5;124m-\u001b[39m\u001b[38;5;132;01m{\u001b[39;00mi\u001b[38;5;241m+\u001b[39m\u001b[38;5;241m1\u001b[39m\u001b[38;5;132;01m}\u001b[39;00m\u001b[38;5;124m'\u001b[39m) \u001b[38;5;28;01mfor\u001b[39;00m i \u001b[38;5;129;01min\u001b[39;00m \u001b[38;5;28mrange\u001b[39m(\u001b[38;5;241m1\u001b[39m, n_markers)]\n",
      "Cell \u001b[0;32mIn[6], line 3\u001b[0m, in \u001b[0;36m<listcomp>\u001b[0;34m(.0)\u001b[0m\n\u001b[1;32m      1\u001b[0m \u001b[38;5;28;01mdef\u001b[39;00m \u001b[38;5;21mrandom_estimation_tests\u001b[39m(n_markers, n_fam_I, n_fam_II, n_tests, \u001b[38;5;241m*\u001b[39m\u001b[38;5;241m*\u001b[39mkwargs):\n\u001b[1;32m      2\u001b[0m     data \u001b[38;5;241m=\u001b[39m [\n\u001b[0;32m----> 3\u001b[0m         \u001b[43mrandom_estimation_test\u001b[49m\u001b[43m(\u001b[49m\u001b[43mn_markers\u001b[49m\u001b[43m,\u001b[49m\u001b[43m \u001b[49m\u001b[43mn_fam_I\u001b[49m\u001b[43m,\u001b[49m\u001b[43m \u001b[49m\u001b[43mn_fam_II\u001b[49m\u001b[43m,\u001b[49m\u001b[43m \u001b[49m\u001b[43mseed\u001b[49m\u001b[43m,\u001b[49m\u001b[43m \u001b[49m\u001b[43mestimate_mutation_rates\u001b[49m\u001b[38;5;241;43m=\u001b[39;49m\u001b[38;5;124;43m'\u001b[39;49m\u001b[38;5;124;43mall\u001b[39;49m\u001b[38;5;124;43m'\u001b[39;49m\u001b[43m,\u001b[49m\u001b[43m \u001b[49m\u001b[38;5;241;43m*\u001b[39;49m\u001b[38;5;241;43m*\u001b[39;49m\u001b[43mkwargs\u001b[49m\u001b[43m)\u001b[49m\n\u001b[1;32m      4\u001b[0m         \u001b[38;5;28;01mfor\u001b[39;00m seed \u001b[38;5;129;01min\u001b[39;00m tqdm(\u001b[38;5;28mrange\u001b[39m(n_tests))\n\u001b[1;32m      5\u001b[0m     ]\n\u001b[1;32m      6\u001b[0m     \u001b[38;5;66;03m# put results in a pandas DataFrame\u001b[39;00m\n\u001b[1;32m      7\u001b[0m     recomb_cols \u001b[38;5;241m=\u001b[39m [(\u001b[38;5;124m'\u001b[39m\u001b[38;5;124mRECOMBINATION\u001b[39m\u001b[38;5;124m'\u001b[39m, \u001b[38;5;124mf\u001b[39m\u001b[38;5;124m'\u001b[39m\u001b[38;5;124mM\u001b[39m\u001b[38;5;132;01m{\u001b[39;00mi\u001b[38;5;132;01m}\u001b[39;00m\u001b[38;5;124m-\u001b[39m\u001b[38;5;132;01m{\u001b[39;00mi\u001b[38;5;241m+\u001b[39m\u001b[38;5;241m1\u001b[39m\u001b[38;5;132;01m}\u001b[39;00m\u001b[38;5;124m'\u001b[39m) \u001b[38;5;28;01mfor\u001b[39;00m i \u001b[38;5;129;01min\u001b[39;00m \u001b[38;5;28mrange\u001b[39m(\u001b[38;5;241m1\u001b[39m, n_markers)]\n",
      "File \u001b[0;32m~/recombulator-x/venv/lib/python3.10/site-packages/joblib/memory.py:594\u001b[0m, in \u001b[0;36mMemorizedFunc.__call__\u001b[0;34m(self, *args, **kwargs)\u001b[0m\n\u001b[1;32m    593\u001b[0m \u001b[38;5;28;01mdef\u001b[39;00m \u001b[38;5;21m__call__\u001b[39m(\u001b[38;5;28mself\u001b[39m, \u001b[38;5;241m*\u001b[39margs, \u001b[38;5;241m*\u001b[39m\u001b[38;5;241m*\u001b[39mkwargs):\n\u001b[0;32m--> 594\u001b[0m     \u001b[38;5;28;01mreturn\u001b[39;00m \u001b[38;5;28;43mself\u001b[39;49m\u001b[38;5;241;43m.\u001b[39;49m\u001b[43m_cached_call\u001b[49m\u001b[43m(\u001b[49m\u001b[43margs\u001b[49m\u001b[43m,\u001b[49m\u001b[43m \u001b[49m\u001b[43mkwargs\u001b[49m\u001b[43m)\u001b[49m[\u001b[38;5;241m0\u001b[39m]\n",
      "File \u001b[0;32m~/recombulator-x/venv/lib/python3.10/site-packages/joblib/memory.py:537\u001b[0m, in \u001b[0;36mMemorizedFunc._cached_call\u001b[0;34m(self, args, kwargs, shelving)\u001b[0m\n\u001b[1;32m    534\u001b[0m         must_call \u001b[38;5;241m=\u001b[39m \u001b[38;5;28;01mTrue\u001b[39;00m\n\u001b[1;32m    536\u001b[0m \u001b[38;5;28;01mif\u001b[39;00m must_call:\n\u001b[0;32m--> 537\u001b[0m     out, metadata \u001b[38;5;241m=\u001b[39m \u001b[38;5;28;43mself\u001b[39;49m\u001b[38;5;241;43m.\u001b[39;49m\u001b[43mcall\u001b[49m\u001b[43m(\u001b[49m\u001b[38;5;241;43m*\u001b[39;49m\u001b[43margs\u001b[49m\u001b[43m,\u001b[49m\u001b[43m \u001b[49m\u001b[38;5;241;43m*\u001b[39;49m\u001b[38;5;241;43m*\u001b[39;49m\u001b[43mkwargs\u001b[49m\u001b[43m)\u001b[49m\n\u001b[1;32m    538\u001b[0m     \u001b[38;5;28;01mif\u001b[39;00m \u001b[38;5;28mself\u001b[39m\u001b[38;5;241m.\u001b[39mmmap_mode \u001b[38;5;129;01mis\u001b[39;00m \u001b[38;5;129;01mnot\u001b[39;00m \u001b[38;5;28;01mNone\u001b[39;00m:\n\u001b[1;32m    539\u001b[0m         \u001b[38;5;66;03m# Memmap the output at the first call to be consistent with\u001b[39;00m\n\u001b[1;32m    540\u001b[0m         \u001b[38;5;66;03m# later calls\u001b[39;00m\n\u001b[1;32m    541\u001b[0m         \u001b[38;5;28;01mif\u001b[39;00m \u001b[38;5;28mself\u001b[39m\u001b[38;5;241m.\u001b[39m_verbose:\n",
      "File \u001b[0;32m~/recombulator-x/venv/lib/python3.10/site-packages/joblib/memory.py:779\u001b[0m, in \u001b[0;36mMemorizedFunc.call\u001b[0;34m(self, *args, **kwargs)\u001b[0m\n\u001b[1;32m    777\u001b[0m \u001b[38;5;28;01mif\u001b[39;00m \u001b[38;5;28mself\u001b[39m\u001b[38;5;241m.\u001b[39m_verbose \u001b[38;5;241m>\u001b[39m \u001b[38;5;241m0\u001b[39m:\n\u001b[1;32m    778\u001b[0m     \u001b[38;5;28mprint\u001b[39m(format_call(\u001b[38;5;28mself\u001b[39m\u001b[38;5;241m.\u001b[39mfunc, args, kwargs))\n\u001b[0;32m--> 779\u001b[0m output \u001b[38;5;241m=\u001b[39m \u001b[38;5;28;43mself\u001b[39;49m\u001b[38;5;241;43m.\u001b[39;49m\u001b[43mfunc\u001b[49m\u001b[43m(\u001b[49m\u001b[38;5;241;43m*\u001b[39;49m\u001b[43margs\u001b[49m\u001b[43m,\u001b[49m\u001b[43m \u001b[49m\u001b[38;5;241;43m*\u001b[39;49m\u001b[38;5;241;43m*\u001b[39;49m\u001b[43mkwargs\u001b[49m\u001b[43m)\u001b[49m\n\u001b[1;32m    780\u001b[0m \u001b[38;5;28mself\u001b[39m\u001b[38;5;241m.\u001b[39mstore_backend\u001b[38;5;241m.\u001b[39mdump_item(\n\u001b[1;32m    781\u001b[0m     [func_id, args_id], output, verbose\u001b[38;5;241m=\u001b[39m\u001b[38;5;28mself\u001b[39m\u001b[38;5;241m.\u001b[39m_verbose)\n\u001b[1;32m    783\u001b[0m duration \u001b[38;5;241m=\u001b[39m time\u001b[38;5;241m.\u001b[39mtime() \u001b[38;5;241m-\u001b[39m start_time\n",
      "Cell \u001b[0;32mIn[4], line 10\u001b[0m, in \u001b[0;36mrandom_estimation_test\u001b[0;34m(n_markers, n_fam_I, n_fam_II, seed, **kwargs)\u001b[0m\n\u001b[1;32m      8\u001b[0m fams \u001b[38;5;241m+\u001b[39m\u001b[38;5;241m=\u001b[39m [recombulatorx\u001b[38;5;241m.\u001b[39mtesting\u001b[38;5;241m.\u001b[39mgenerate_processed_family(\u001b[38;5;124mf\u001b[39m\u001b[38;5;124m'\u001b[39m\u001b[38;5;124mFAM_II_\u001b[39m\u001b[38;5;132;01m{\u001b[39;00mi\u001b[38;5;132;01m}\u001b[39;00m\u001b[38;5;124m'\u001b[39m, \u001b[38;5;241m2\u001b[39m, \u001b[38;5;28;01mFalse\u001b[39;00m, \u001b[38;5;241m*\u001b[39msimulated_rates) \u001b[38;5;28;01mfor\u001b[39;00m i \u001b[38;5;129;01min\u001b[39;00m \u001b[38;5;28mrange\u001b[39m(n_fam_II)]\n\u001b[1;32m      9\u001b[0m t1 \u001b[38;5;241m=\u001b[39m time()\n\u001b[0;32m---> 10\u001b[0m estimated_rates \u001b[38;5;241m=\u001b[39m \u001b[43mrecombulatorx\u001b[49m\u001b[38;5;241;43m.\u001b[39;49m\u001b[43mestimate_rates\u001b[49m\u001b[43m(\u001b[49m\u001b[43mfams\u001b[49m\u001b[43m,\u001b[49m\u001b[43m \u001b[49m\u001b[38;5;241;43m0.1\u001b[39;49m\u001b[43m,\u001b[49m\u001b[43m \u001b[49m\u001b[38;5;241;43m0.1\u001b[39;49m\u001b[43m,\u001b[49m\u001b[43m \u001b[49m\u001b[38;5;241;43m*\u001b[39;49m\u001b[38;5;241;43m*\u001b[39;49m\u001b[43mkwargs\u001b[49m\u001b[43m)\u001b[49m\n\u001b[1;32m     11\u001b[0m elapsed_time \u001b[38;5;241m=\u001b[39m time() \u001b[38;5;241m-\u001b[39m t1\n\u001b[1;32m     12\u001b[0m \u001b[38;5;28;01mreturn\u001b[39;00m simulated_rates, estimated_rates, elapsed_time\n",
      "File \u001b[0;32m~/recombulator-x/recombulatorx/estimate.py:152\u001b[0m, in \u001b[0;36mestimate_rates\u001b[0;34m(families, starting_recombination_rates, starting_mutation_rates, estimate_mutation_rates, implementation, optimization_method, maxiter)\u001b[0m\n\u001b[1;32m    143\u001b[0m r \u001b[38;5;241m=\u001b[39m scipy\u001b[38;5;241m.\u001b[39moptimize\u001b[38;5;241m.\u001b[39mminimize(\n\u001b[1;32m    144\u001b[0m     fun\u001b[38;5;241m=\u001b[39mlikelihood_objective_function, x0\u001b[38;5;241m=\u001b[39mx0,\n\u001b[1;32m    145\u001b[0m     args\u001b[38;5;241m=\u001b[39m(families, estimate_mutation_rates, starting_mutation_rates, implementation),\n\u001b[0;32m   (...)\u001b[0m\n\u001b[1;32m    148\u001b[0m     options\u001b[38;5;241m=\u001b[39m\u001b[38;5;28mdict\u001b[39m(maxiter\u001b[38;5;241m=\u001b[39mmaxiter),\n\u001b[1;32m    149\u001b[0m )\n\u001b[1;32m    151\u001b[0m \u001b[38;5;28;01mif\u001b[39;00m \u001b[38;5;129;01mnot\u001b[39;00m r\u001b[38;5;241m.\u001b[39msuccess:\n\u001b[0;32m--> 152\u001b[0m     \u001b[38;5;28;01mraise\u001b[39;00m \u001b[38;5;167;01mValueError\u001b[39;00m(\u001b[38;5;124mf\u001b[39m\u001b[38;5;124m\"\u001b[39m\u001b[38;5;124mMinimization failed to converge: \u001b[39m\u001b[38;5;132;01m{\u001b[39;00mr\u001b[38;5;241m.\u001b[39mmessage\u001b[38;5;132;01m}\u001b[39;00m\u001b[38;5;124m\"\u001b[39m)\n\u001b[1;32m    154\u001b[0m \u001b[38;5;28;01mif\u001b[39;00m estimate_mutation_rates \u001b[38;5;241m==\u001b[39m \u001b[38;5;124m'\u001b[39m\u001b[38;5;124mno\u001b[39m\u001b[38;5;124m'\u001b[39m:\n\u001b[1;32m    155\u001b[0m     est \u001b[38;5;241m=\u001b[39m r\u001b[38;5;241m.\u001b[39mx\n",
      "\u001b[0;31mValueError\u001b[0m: Minimization failed to converge: STOP: TOTAL NO. of f AND g EVALUATIONS EXCEEDS LIMIT"
     ]
    }
   ],
   "source": [
    "n_fam_I = 100\n",
    "n_fam_II = 0\n",
    "marker_tests = {}\n",
    "for n_markers in [10, 20, 30, 40, 50, 60, 70, 80, 90, 100, 110, 120, 130, 150]:\n",
    "    print(f'{n_markers=}')\n",
    "    marker_tests[n_markers] = random_estimation_tests(n_markers, n_fam_I, n_fam_II, 10)"
   ]
  },
  {
   "cell_type": "code",
   "execution_count": 33,
   "id": "3497d0cd-9356-456a-b0d0-7bf311959ecf",
   "metadata": {},
   "outputs": [
    {
     "data": {
      "text/plain": [
       "<AxesSubplot: xlabel='MARKERS', ylabel='ELAPSED TIME'>"
      ]
     },
     "execution_count": 33,
     "metadata": {},
     "output_type": "execute_result"
    },
    {
     "data": {
      "image/png": "[encoded data removed]",
      "text/plain": [
       "<Figure size 640x480 with 1 Axes>"
      ]
     },
     "metadata": {},
     "output_type": "display_data"
    }
   ],
   "source": [
    "plot_data = pandas.concat({k: df[('ELAPSED TIME', None, None)] for k, df in marker_tests.items()}, names=['MARKERS']).reset_index()\n",
    "plot_data.columns = plot_data.columns.get_level_values(0)\n",
    "seaborn.boxplot(plot_data, x='MARKERS', y='ELAPSED TIME')"
   ]
  },
  {
   "cell_type": "code",
   "execution_count": null,
   "id": "82ab3a75-6420-4400-a2df-e303558962fc",
   "metadata": {},
   "outputs": [],
   "source": [
    "acc = {}\n",
    "mae_acc = {}\n",
    "for n_markers, df in marker_tests.items():\n",
    "    #delta = df['ESTIMATED'] - df['SIMULATED']\n",
    "    #mae_acc[n_markers] = delta.abs().mean()\n",
    "    #stats = delta.stack().apply(['mean', 'std'])\n",
    "    #stats['TIME'] = df[('ELAPSED TIME', None, None)].apply(['mean', 'std'])\n",
    "    #stats = stats.unstack(level=0)\n",
    "    #stats['MAE'] = delta.abs().mean()\n",
    "    #acc[n_markers] = stats\n",
    "    #delta.apply(['mean', 'std'])\n",
    "df = pandas.concat(acc, names=['n_markers'])\n",
    "df"
   ]
  },
  {
   "cell_type": "code",
   "execution_count": 35,
   "id": "267f911d-69ca-4452-aeb0-c09d695bfad7",
   "metadata": {},
   "outputs": [
    {
     "name": "stdout",
     "output_type": "stream",
     "text": [
      "n_markers=6\n"
     ]
    },
    {
     "name": "stderr",
     "output_type": "stream",
     "text": [
      "\n",
      "\n",
      "  0%|                                                    | 0/10 [00:00<?, ?it/s]\u001b[A\u001b[A\n",
      "\n",
      " 10%|████▍                                       | 1/10 [00:01<00:11,  1.33s/it]\u001b[A\u001b[A\n",
      "\n",
      " 20%|████████▊                                   | 2/10 [00:02<00:09,  1.23s/it]\u001b[A\u001b[A\n",
      "\n",
      " 30%|█████████████▏                              | 3/10 [00:03<00:08,  1.24s/it]\u001b[A\u001b[A\n",
      "\n",
      " 40%|█████████████████▌                          | 4/10 [00:05<00:07,  1.30s/it]\u001b[A\u001b[A\n",
      "\n",
      " 50%|██████████████████████                      | 5/10 [00:06<00:06,  1.26s/it]\u001b[A\u001b[A\n",
      "\n",
      " 60%|██████████████████████████▍                 | 6/10 [00:07<00:05,  1.29s/it]\u001b[A\u001b[A\n",
      "\n",
      " 70%|██████████████████████████████▊             | 7/10 [00:08<00:03,  1.26s/it]\u001b[A\u001b[A\n",
      "\n",
      " 80%|███████████████████████████████████▏        | 8/10 [00:10<00:02,  1.26s/it]\u001b[A\u001b[A\n",
      "\n",
      " 90%|███████████████████████████████████████▌    | 9/10 [00:10<00:01,  1.13s/it]\u001b[A\u001b[A\n",
      "\n",
      "100%|███████████████████████████████████████████| 10/10 [00:12<00:00,  1.22s/it]\u001b[A\u001b[A\n"
     ]
    },
    {
     "name": "stdout",
     "output_type": "stream",
     "text": [
      "n_markers=8\n"
     ]
    },
    {
     "name": "stderr",
     "output_type": "stream",
     "text": [
      "\n",
      "\n",
      "  0%|                                                    | 0/10 [00:00<?, ?it/s]\u001b[A\u001b[A\n",
      "\n",
      " 10%|████▍                                       | 1/10 [00:04<00:40,  4.46s/it]\u001b[A\u001b[A\n",
      "\n",
      " 20%|████████▊                                   | 2/10 [00:08<00:33,  4.20s/it]\u001b[A\u001b[A\n",
      "\n",
      " 30%|█████████████▏                              | 3/10 [00:12<00:27,  3.95s/it]\u001b[A\u001b[A\n",
      "\n",
      " 40%|█████████████████▌                          | 4/10 [00:15<00:22,  3.79s/it]\u001b[A\u001b[A\n",
      "\n",
      " 50%|██████████████████████                      | 5/10 [00:19<00:18,  3.65s/it]\u001b[A\u001b[A\n",
      "\n",
      " 60%|██████████████████████████▍                 | 6/10 [00:23<00:15,  3.99s/it]\u001b[A\u001b[A\n",
      "\n",
      " 70%|██████████████████████████████▊             | 7/10 [00:27<00:11,  3.96s/it]\u001b[A\u001b[A\n",
      "\n",
      " 80%|███████████████████████████████████▏        | 8/10 [00:31<00:07,  3.81s/it]\u001b[A\u001b[A\n",
      "\n",
      " 90%|███████████████████████████████████████▌    | 9/10 [00:34<00:03,  3.70s/it]\u001b[A\u001b[A\n",
      "\n",
      "100%|███████████████████████████████████████████| 10/10 [00:40<00:00,  4.04s/it]\u001b[A\u001b[A\n"
     ]
    },
    {
     "name": "stdout",
     "output_type": "stream",
     "text": [
      "n_markers=10\n"
     ]
    },
    {
     "name": "stderr",
     "output_type": "stream",
     "text": [
      "\n",
      "\n",
      "  0%|                                                    | 0/10 [00:00<?, ?it/s]\u001b[A\u001b[A\n",
      "\n",
      " 10%|████▍                                       | 1/10 [00:21<03:13, 21.47s/it]\u001b[A\u001b[A\n",
      "\n",
      " 20%|████████▊                                   | 2/10 [00:37<02:25, 18.18s/it]\u001b[A\u001b[A\n",
      "\n",
      " 30%|█████████████▏                              | 3/10 [00:53<02:00, 17.25s/it]\u001b[A\u001b[A\n",
      "\n",
      " 40%|█████████████████▌                          | 4/10 [01:08<01:38, 16.46s/it]\u001b[A\u001b[A\n",
      "\n",
      " 50%|██████████████████████                      | 5/10 [01:25<01:22, 16.48s/it]\u001b[A\u001b[A\n",
      "\n",
      " 60%|██████████████████████████▍                 | 6/10 [01:38<01:01, 15.30s/it]\u001b[A\u001b[A\n",
      "\n",
      " 70%|██████████████████████████████▊             | 7/10 [01:59<00:51, 17.18s/it]\u001b[A\u001b[A\n",
      "\n",
      " 80%|███████████████████████████████████▏        | 8/10 [02:20<00:37, 18.54s/it]\u001b[A\u001b[A\n",
      "\n",
      " 90%|███████████████████████████████████████▌    | 9/10 [02:37<00:17, 17.87s/it]\u001b[A\u001b[A\n",
      "\n",
      "100%|███████████████████████████████████████████| 10/10 [02:55<00:00, 17.55s/it]\u001b[A\u001b[A\n"
     ]
    },
    {
     "name": "stdout",
     "output_type": "stream",
     "text": [
      "n_markers=12\n"
     ]
    },
    {
     "name": "stderr",
     "output_type": "stream",
     "text": [
      "\n",
      "\n",
      "  0%|                                                    | 0/10 [00:00<?, ?it/s]\u001b[A\u001b[A\n",
      "\n",
      " 10%|████▍                                       | 1/10 [01:05<09:53, 65.99s/it]\u001b[A\u001b[A\n",
      "\n",
      " 20%|████████▊                                   | 2/10 [02:13<08:54, 66.79s/it]\u001b[A\u001b[A\n",
      "\n",
      " 30%|█████████████▏                              | 3/10 [03:35<08:35, 73.65s/it]\u001b[A\u001b[A\n",
      "\n",
      " 40%|█████████████████▌                          | 4/10 [04:38<06:57, 69.57s/it]\u001b[A\u001b[A\n",
      "\n",
      " 50%|██████████████████████                      | 5/10 [05:42<05:38, 67.62s/it]\u001b[A\u001b[A\n",
      "\n",
      " 60%|██████████████████████████▍                 | 6/10 [06:44<04:22, 65.67s/it]\u001b[A\u001b[A\n",
      "\n",
      " 70%|██████████████████████████████▊             | 7/10 [08:01<03:28, 69.37s/it]\u001b[A\u001b[A\n",
      "\n",
      " 80%|███████████████████████████████████▏        | 8/10 [09:08<02:17, 68.65s/it]\u001b[A\u001b[A"
     ]
    },
    {
     "name": "stdout",
     "output_type": "stream",
     "text": [
      "leaf monotonicity failure 2.0272426552955824e-20 2.0272426552955845e-20 -2.1064858766735392e-35 -1.0390891643735666e-15\n"
     ]
    },
    {
     "name": "stderr",
     "output_type": "stream",
     "text": [
      "\n",
      "\n",
      " 90%|███████████████████████████████████████▌    | 9/10 [10:26<01:11, 71.63s/it]\u001b[A\u001b[A"
     ]
    },
    {
     "name": "stdout",
     "output_type": "stream",
     "text": [
      "leaf monotonicity failure 1.0890980241519756e-31 1.0890980241519766e-31 -1.0947644252537633e-46 -1.0052028384737901e-15\n",
      "leaf monotonicity failure 1.1685653631923688e-12 1.16856536319237e-12 -1.2116903504194741e-27 -1.036904214847933e-15\n",
      "leaf monotonicity failure 6.429172842209437e-10 6.429172842209444e-10 -7.237830359838992e-25 -1.12577940233936e-15\n",
      "leaf monotonicity failure 6.429172842209437e-10 6.429172842209444e-10 -7.237830359838992e-25 -1.12577940233936e-15\n",
      "leaf monotonicity failure 7.391166265299832e-10 7.391166265299841e-10 -8.271806125530277e-25 -1.1191476187411556e-15\n"
     ]
    },
    {
     "name": "stderr",
     "output_type": "stream",
     "text": [
      "\n",
      "\n",
      "100%|███████████████████████████████████████████| 10/10 [11:40<00:00, 70.03s/it]\u001b[A\u001b[A\n"
     ]
    },
    {
     "name": "stdout",
     "output_type": "stream",
     "text": [
      "n_markers=14\n"
     ]
    },
    {
     "name": "stderr",
     "output_type": "stream",
     "text": [
      "\n",
      "\n",
      "  0%|                                                    | 0/10 [00:00<?, ?it/s]\u001b[A\u001b[A"
     ]
    },
    {
     "name": "stdout",
     "output_type": "stream",
     "text": [
      "leaf monotonicity failure 1.5027808683971296e-10 1.5027808683971311e-10 -1.550963648536927e-25 -1.0320624125267097e-15\n"
     ]
    },
    {
     "name": "stderr",
     "output_type": "stream",
     "text": [
      "\n",
      "\n",
      " 10%|████▎                                      | 1/10 [04:21<39:16, 261.83s/it]\u001b[A\u001b[A\n",
      "\n",
      " 20%|████████▌                                  | 2/10 [10:14<42:03, 315.40s/it]\u001b[A\u001b[A"
     ]
    },
    {
     "name": "stdout",
     "output_type": "stream",
     "text": [
      "leaf monotonicity failure 2.6063563645342994e-12 2.6063563645343022e-12 -2.8272774843121063e-27 -1.0847624380088475e-15\n",
      "leaf monotonicity failure 5.316216980348424e-25 5.3162169803484305e-25 -6.428484731059385e-40 -1.2092216617234564e-15\n",
      "leaf monotonicity failure 1.05177586634722e-29 1.0517758663472211e-29 -1.1210387714598537e-44 -1.0658532937755837e-15\n"
     ]
    },
    {
     "name": "stderr",
     "output_type": "stream",
     "text": [
      "\n",
      "\n",
      " 30%|████████████▉                              | 3/10 [16:04<38:37, 331.00s/it]\u001b[A\u001b[A"
     ]
    },
    {
     "name": "stdout",
     "output_type": "stream",
     "text": [
      "leaf monotonicity failure 1.8788339243917528e-44 1.8788339243917548e-44 -1.9913648889155653e-59 -1.0598940454836851e-15\n",
      "leaf monotonicity failure 1.185491287079196e-12 1.1854912870791973e-12 -1.2116903504194741e-27 -1.0220997519136778e-15\n",
      "leaf monotonicity failure 1.7101874291472456e-33 1.7101874291472473e-33 -1.7105694144590052e-48 -1.000223358741415e-15\n",
      "leaf monotonicity failure 2.5660540378053564e-38 2.566054037805359e-38 -2.61012178719941e-53 -1.0171733520591562e-15\n"
     ]
    },
    {
     "name": "stderr",
     "output_type": "stream",
     "text": [
      "\n",
      "\n",
      " 40%|█████████████████▏                         | 4/10 [20:20<30:08, 301.35s/it]\u001b[A\u001b[A\n",
      "\n",
      " 50%|█████████████████████▌                     | 5/10 [25:29<25:20, 304.09s/it]\u001b[A\u001b[A\n",
      "\n",
      " 60%|█████████████████████████▊                 | 6/10 [31:33<21:37, 324.45s/it]\u001b[A\u001b[A"
     ]
    },
    {
     "name": "stdout",
     "output_type": "stream",
     "text": [
      "leaf monotonicity failure 6.520645114312715e-17 6.520645114312722e-17 -7.395570986446986e-32 -1.1341778086057487e-15\n",
      "leaf monotonicity failure 7.131666128360847e-18 7.131666128360855e-18 -7.703719777548943e-33 -1.0802131842534207e-15\n",
      "leaf monotonicity failure 1.7363320301538376e-14 1.7363320301538395e-14 -1.8932661725304283e-29 -1.0903825648846e-15\n",
      "leaf monotonicity failure 4.810394285878838e-13 4.810394285878843e-13 -5.048709793414476e-28 -1.0495417825177491e-15\n",
      "leaf monotonicity failure 2.4257890514477505e-16 2.425789051447753e-16 -2.465190328815662e-31 -1.0162426643587963e-15\n",
      "leaf monotonicity failure 7.415959793282704e-18 7.415959793282712e-18 -7.703719777548943e-33 -1.0388027972491005e-15\n",
      "leaf monotonicity failure 1.1372231813241135e-18 1.1372231813241146e-18 -1.1555579666323415e-33 -1.0161224160827244e-15\n",
      "leaf monotonicity failure 1.2148570123601173e-16 1.2148570123601186e-16 -1.232595164407831e-31 -1.014601020422356e-15\n",
      "leaf monotonicity failure 1.8340396107008927e-17 1.8340396107008945e-17 -1.8488927466117464e-32 -1.0080985905779732e-15\n",
      "leaf monotonicity failure 5.853010126601401e-20 5.853010126601407e-20 -6.018531076210112e-35 -1.0282796280936585e-15\n",
      "leaf monotonicity failure 4.690183012438185e-14 4.69018301243819e-14 -5.048709793414476e-29 -1.0764419597328048e-15\n",
      "leaf monotonicity failure 5.64035429952527e-16 5.640354299525276e-16 -5.9164567891575885e-31 -1.0489512670605731e-15\n",
      "leaf monotonicity failure 4.078397015145887e-15 4.078397015145892e-15 -4.733165431326071e-30 -1.160545531430259e-15\n",
      "leaf monotonicity failure 7.812603836657059e-31 7.812603836657067e-31 -7.882303861827096e-46 -1.0089214846454896e-15\n",
      "leaf monotonicity failure 2.6693579122530327e-32 2.6693579122530355e-32 -2.7369110631344083e-47 -1.0253068914330621e-15\n",
      "leaf monotonicity failure 1.5011741054226004e-17 1.501174105422602e-17 -1.5407439555097887e-32 -1.0263592676853743e-15\n",
      "leaf monotonicity failure 1.5355668688739566e-17 1.535566868873958e-17 -1.5407439555097887e-32 -1.0033714498148992e-15\n",
      "leaf monotonicity failure 3.282513575999579e-19 3.2825135759995824e-19 -3.3703774026776627e-34 -1.0267672393864583e-15\n",
      "leaf monotonicity failure 2.9297797263294586e-20 2.9297797263294616e-20 -3.009265538105056e-35 -1.0271303030262883e-15\n",
      "leaf monotonicity failure 8.048448779929722e-18 8.048448779929731e-18 -9.244463733058732e-33 -1.1486019214176379e-15\n",
      "leaf monotonicity failure 4.76289285647234e-19 4.762892856472345e-19 -4.81482486096809e-34 -1.0109034584780074e-15\n",
      "leaf monotonicity failure 1.2607325367439878e-14 1.260732536743989e-14 -1.262177448353619e-29 -1.0011460889344235e-15\n",
      "leaf monotonicity failure 1.4694747572189242e-16 1.4694747572189257e-16 -1.4791141972893971e-31 -1.0065597860889524e-15\n",
      "leaf monotonicity failure 7.0979271579943006e-12 7.097927157994308e-12 -7.270142102516845e-27 -1.024262709476889e-15\n",
      "leaf monotonicity failure 5.79841535561225e-13 5.798415355612256e-13 -6.058451752097371e-28 -1.0448461140738092e-15\n",
      "leaf monotonicity failure 2.3488180695396756e-22 2.348818069539678e-22 -2.350988701644575e-37 -1.0009241380305468e-15\n",
      "leaf monotonicity failure 4.209156099597982e-31 4.2091560995979865e-31 -4.379057701015053e-46 -1.0403647660948697e-15\n",
      "leaf monotonicity failure 1.4977904455255936e-32 1.4977904455255952e-32 -1.642146637880645e-47 -1.0963794319734716e-15\n",
      "leaf monotonicity failure 2.7122743800333984e-13 2.712274380033402e-13 -3.534096855390133e-28 -1.3030012307776215e-15\n",
      "leaf monotonicity failure 1.2539431130791795e-13 1.2539431130791808e-13 -1.262177448353619e-28 -1.0065667534583908e-15\n",
      "leaf monotonicity failure 2.324425232847623e-13 2.3244252328476255e-13 -2.524354896707238e-28 -1.0860125165715401e-15\n",
      "leaf monotonicity failure 4.731099861483589e-15 4.731099861483594e-15 -4.733165431326071e-30 -1.0004365940062464e-15\n",
      "leaf monotonicity failure 1.4258542307142819e-13 1.4258542307142834e-13 -1.5146129380243427e-28 -1.062249496055144e-15\n",
      "leaf monotonicity failure 1.3566056620279104e-33 1.3566056620279117e-33 -1.3684555315672042e-48 -1.0087349403522162e-15\n",
      "leaf monotonicity failure 2.9687005079136724e-13 2.9687005079136754e-13 -3.0292258760486853e-28 -1.020387832310355e-15\n",
      "leaf monotonicity failure 1.8931021648905562e-30 1.8931021648905583e-30 -2.1019476964872256e-45 -1.1103192080543318e-15\n",
      "leaf monotonicity failure 1.67984777538803e-13 1.6798477753880318e-13 -1.7670484276950664e-28 -1.0519098537287952e-15\n",
      "leaf monotonicity failure 5.251108295459126e-31 5.2511082954591315e-31 -5.254869241218064e-46 -1.0007162194240376e-15\n",
      "leaf monotonicity failure 8.949940380215774e-11 8.949940380215783e-11 -9.04728794979874e-26 -1.0108768958727532e-15\n",
      "leaf monotonicity failure 5.251108294216063e-31 5.2511082942160685e-31 -5.254869241218064e-46 -1.000716219660931e-15\n",
      "leaf monotonicity failure 5.816165035469117e-15 5.816165035469123e-15 -6.310887241768095e-30 -1.0850598638934715e-15\n",
      "leaf monotonicity failure 1.7865685834705738e-14 1.7865685834705757e-14 -1.8932661725304283e-29 -1.0597220784284601e-15\n",
      "leaf monotonicity failure 7.128829097781236e-32 7.128829097781243e-32 -7.663350976776343e-47 -1.0749803188803422e-15\n",
      "leaf monotonicity failure 1.381937348490278e-29 1.3819373484902793e-29 -1.401298464324817e-44 -1.014010125607857e-15\n",
      "leaf monotonicity failure 7.486017287413679e-32 7.486017287413686e-32 -7.663350976776343e-47 -1.0236886561377316e-15\n",
      "leaf monotonicity failure 1.3611661777398286e-29 1.36116617773983e-29 -1.401298464324817e-44 -1.0294837524185515e-15\n",
      "leaf monotonicity failure 6.205531783468558e-12 6.205531783468565e-12 -6.462348535570529e-27 -1.041385132018197e-15\n",
      "leaf monotonicity failure 7.147255966269146e-28 7.147255966269153e-28 -7.174648137343064e-43 -1.0038325437347124e-15\n",
      "leaf monotonicity failure 1.5046381397111118e-33 1.5046381397111133e-33 -1.5395124730131047e-48 -1.0231778873481746e-15\n",
      "leaf monotonicity failure 2.0345901522881405e-32 2.0345901522881427e-32 -2.1895288505075267e-47 -1.076152289464852e-15\n",
      "leaf monotonicity failure 5.122111276128731e-31 5.122111276128736e-31 -5.254869241218064e-46 -1.0259186022974623e-15\n",
      "leaf monotonicity failure 3.452941270097623e-32 3.4529412700976266e-32 -3.8316754883881717e-47 -1.1096845236176973e-15\n",
      "leaf monotonicity failure 7.28579378470874e-32 7.285793784708749e-32 -8.758115402030107e-47 -1.2020811542060705e-15\n",
      "leaf monotonicity failure 7.285793784327711e-32 7.285793784327719e-32 -7.663350976776343e-47 -1.0518210099853193e-15\n",
      "leaf monotonicity failure 2.100382155929584e-30 2.100382155929586e-30 -2.1019476964872256e-45 -1.0007453598637846e-15\n",
      "leaf monotonicity failure 2.7552217739991132e-17 2.755221773999116e-17 -2.7733391199176196e-32 -1.0065756397867773e-15\n",
      "leaf monotonicity failure 5.997329160480953e-17 5.99732916048096e-17 -6.162975822039155e-32 -1.0276200717228786e-15\n",
      "leaf monotonicity failure 5.499676001851713e-15 5.499676001851719e-15 -5.5220263365470826e-30 -1.0040639366187825e-15\n",
      "leaf monotonicity failure 7.345892428836372e-16 7.34589242883638e-16 -7.888609052210118e-31 -1.0738802846122955e-15\n",
      "leaf monotonicity failure 1.52150111549577e-17 1.5215011154957717e-17 -1.5407439555097887e-32 -1.0126472730240142e-15\n",
      "leaf monotonicity failure 2.7327340004348696e-29 2.7327340004348724e-29 -2.802596928649634e-44 -1.0255652135201026e-15\n",
      "leaf monotonicity failure 2.512785057837013e-13 2.5127850578370153e-13 -2.524354896707238e-28 -1.0046043885982758e-15\n",
      "leaf monotonicity failure 2.512785243650682e-13 2.5127852436506847e-13 -2.524354896707238e-28 -1.0046043143104997e-15\n",
      "leaf monotonicity failure 3.975943875031236e-11 3.9759438750312404e-11 -4.52364397489937e-26 -1.1377534786916041e-15\n",
      "leaf monotonicity failure 5.518040206493626e-15 5.5180402064936316e-15 -5.5220263365470826e-30 -1.0007223814804322e-15\n",
      "leaf monotonicity failure 2.510755709174058e-13 2.5107557091740606e-13 -2.524354896707238e-28 -1.0054163722434194e-15\n",
      "leaf monotonicity failure 2.7332824018150786e-29 2.7332824018150814e-29 -2.802596928649634e-44 -1.025359445766937e-15\n",
      "leaf monotonicity failure 2.89289247851573e-13 2.892892478515733e-13 -3.0292258760486853e-28 -1.0471270185620246e-15\n",
      "leaf monotonicity failure 6.476774709243536e-33 6.476774709243542e-33 -6.842277657836021e-48 -1.056432864350035e-15\n",
      "leaf monotonicity failure 1.3281877175623086e-17 1.32818771756231e-17 -1.3866695599588098e-32 -1.0440313079417979e-15\n",
      "leaf monotonicity failure 6.277811986517901e-28 6.277811986517908e-28 -6.2778171201751805e-43 -1.00000081774626e-15\n",
      "leaf monotonicity failure 1.6178384425574342e-33 1.617838442557436e-33 -1.7105694144590052e-48 -1.0573178195438246e-15\n",
      "leaf monotonicity failure 2.506065082116493e-13 2.5060650821164957e-13 -2.524354896707238e-28 -1.0072982201145773e-15\n",
      "leaf monotonicity failure 4.518271492425014e-15 4.51827149242502e-15 -5.5220263365470826e-30 -1.2221546106303881e-15\n",
      "leaf monotonicity failure 5.503889215212729e-15 5.503889215212734e-15 -5.5220263365470826e-30 -1.0032953281988702e-15\n",
      "leaf monotonicity failure 1.3760840123193418e-13 1.3760840123193433e-13 -1.5146129380243427e-28 -1.1006689449661677e-15\n",
      "leaf monotonicity failure 7.352443493363883e-16 7.352443493363891e-16 -7.888609052210118e-31 -1.072923451819814e-15\n",
      "leaf monotonicity failure 5.500812417209377e-15 5.500812417209382e-15 -5.5220263365470826e-30 -1.0038565065900688e-15\n",
      "leaf monotonicity failure 7.205247657555024e-12 7.2052476575550316e-12 -7.270142102516845e-27 -1.0090065530077608e-15\n",
      "leaf monotonicity failure 1.9177929342536107e-11 1.9177929342536127e-11 -1.9387045606711586e-26 -1.0109040063940399e-15\n",
      "leaf monotonicity failure 3.715180998291171e-13 3.715180998291176e-13 -5.048709793414476e-28 -1.358940465010094e-15\n"
     ]
    },
    {
     "name": "stderr",
     "output_type": "stream",
     "text": [
      "\n",
      "\n",
      " 70%|██████████████████████████████             | 7/10 [37:03<16:19, 326.45s/it]\u001b[A\u001b[A"
     ]
    },
    {
     "name": "stdout",
     "output_type": "stream",
     "text": [
      "leaf monotonicity failure 5.428975051855335e-12 5.428975051855341e-12 -5.6545549686242126e-27 -1.041551105800676e-15\n"
     ]
    },
    {
     "name": "stderr",
     "output_type": "stream",
     "text": [
      "\n",
      "\n",
      " 80%|██████████████████████████████████▍        | 8/10 [43:22<11:26, 343.26s/it]\u001b[A\u001b[A"
     ]
    },
    {
     "name": "stdout",
     "output_type": "stream",
     "text": [
      "leaf monotonicity failure 9.828263356817464e-13 9.828263356817474e-13 -1.0097419586828951e-27 -1.0273859399407296e-15\n",
      "leaf monotonicity failure 5.864059629694146e-20 5.864059629694152e-20 -6.018531076210112e-35 -1.0263420661232287e-15\n"
     ]
    },
    {
     "name": "stderr",
     "output_type": "stream",
     "text": [
      "\n",
      "\n",
      " 90%|██████████████████████████████████████▋    | 9/10 [47:57<05:21, 321.94s/it]\u001b[A\u001b[A"
     ]
    },
    {
     "name": "stdout",
     "output_type": "stream",
     "text": [
      "leaf monotonicity failure 1.7951614926078096e-16 1.7951614926078116e-16 -1.9721522630525295e-31 -1.0985932302879366e-15\n",
      "leaf monotonicity failure 2.182654126281246e-18 2.1826541262812482e-18 -2.311115933264683e-33 -1.0588557781265622e-15\n",
      "leaf monotonicity failure 2.4546718643480755e-17 2.454671864348078e-17 -2.465190328815662e-32 -1.0042850796558006e-15\n",
      "leaf monotonicity failure 6.2391006904048e-15 6.239100690404806e-15 -6.310887241768095e-30 -1.0115059132598532e-15\n",
      "leaf monotonicity failure 5.999749730386769e-10 5.999749730386775e-10 -6.203854594147708e-25 -1.0340188962761576e-15\n",
      "leaf monotonicity failure 2.219476864348192e-15 2.2194768643481943e-15 -2.3665827156630354e-30 -1.0662795155371186e-15\n"
     ]
    },
    {
     "name": "stderr",
     "output_type": "stream",
     "text": [
      "\n",
      "\n",
      "100%|██████████████████████████████████████████| 10/10 [52:50<00:00, 317.05s/it]\u001b[A\u001b[A\n"
     ]
    }
   ],
   "source": [
    "n_fam_I = 100\n",
    "n_fam_II = 100\n",
    "marker_tests_II = {}\n",
    "for n_markers in [6, 8, 10, 12, 14]:\n",
    "    print(f'{n_markers=}')\n",
    "    marker_tests_II[n_markers] = random_estimation_tests(n_markers, n_fam_I, n_fam_II, 10)"
   ]
  },
  {
   "cell_type": "code",
   "execution_count": null,
   "id": "a2a3d815-223b-4e32-b311-d0b2b63cc3f2",
   "metadata": {},
   "outputs": [],
   "source": [
    "plot_data = pandas.concat({k: df[('ELAPSED TIME', None, None)] for k, df in marker_tests_II.items()}, names=['MARKERS']).reset_index()\n",
    "plot_data.columns = plot_data.columns.get_level_values(0)\n",
    "seaborn.boxplot(plot_data, x='MARKERS', y='ELAPSED TIME')"
   ]
  },
  {
   "cell_type": "code",
   "execution_count": 10,
   "id": "c13ecbd6-0419-48b5-84c4-ccf5ab7e4148",
   "metadata": {},
   "outputs": [
    {
     "data": {
      "text/html": [
       "<div>\n",
       "<style scoped>\n",
       "    .dataframe tbody tr th:only-of-type {\n",
       "        vertical-align: middle;\n",
       "    }\n",
       "\n",
       "    .dataframe tbody tr th {\n",
       "        vertical-align: top;\n",
       "    }\n",
       "\n",
       "    .dataframe thead th {\n",
       "        text-align: right;\n",
       "    }\n",
       "</style>\n",
       "<table border=\"1\" class=\"dataframe\">\n",
       "  <thead>\n",
       "    <tr style=\"text-align: right;\">\n",
       "      <th></th>\n",
       "      <th>RATE</th>\n",
       "      <th>MUTATION</th>\n",
       "      <th>RECOMBINATION</th>\n",
       "      <th>TIME</th>\n",
       "    </tr>\n",
       "    <tr>\n",
       "      <th>n_markers</th>\n",
       "      <th></th>\n",
       "      <th></th>\n",
       "      <th></th>\n",
       "      <th></th>\n",
       "    </tr>\n",
       "  </thead>\n",
       "  <tbody>\n",
       "    <tr>\n",
       "      <th rowspan=\"2\" valign=\"top\">12</th>\n",
       "      <th>mean</th>\n",
       "      <td>0.001114</td>\n",
       "      <td>0.001223</td>\n",
       "      <td>0.089408</td>\n",
       "    </tr>\n",
       "    <tr>\n",
       "      <th>std</th>\n",
       "      <td>0.009113</td>\n",
       "      <td>0.020649</td>\n",
       "      <td>0.008395</td>\n",
       "    </tr>\n",
       "    <tr>\n",
       "      <th rowspan=\"2\" valign=\"top\">15</th>\n",
       "      <th>mean</th>\n",
       "      <td>-0.000511</td>\n",
       "      <td>0.000217</td>\n",
       "      <td>0.116080</td>\n",
       "    </tr>\n",
       "    <tr>\n",
       "      <th>std</th>\n",
       "      <td>0.010043</td>\n",
       "      <td>0.020480</td>\n",
       "      <td>0.010032</td>\n",
       "    </tr>\n",
       "    <tr>\n",
       "      <th rowspan=\"2\" valign=\"top\">20</th>\n",
       "      <th>mean</th>\n",
       "      <td>0.000260</td>\n",
       "      <td>-0.001661</td>\n",
       "      <td>0.169006</td>\n",
       "    </tr>\n",
       "    <tr>\n",
       "      <th>std</th>\n",
       "      <td>0.009827</td>\n",
       "      <td>0.017495</td>\n",
       "      <td>0.016153</td>\n",
       "    </tr>\n",
       "    <tr>\n",
       "      <th rowspan=\"2\" valign=\"top\">30</th>\n",
       "      <th>mean</th>\n",
       "      <td>0.000537</td>\n",
       "      <td>-0.000059</td>\n",
       "      <td>0.264467</td>\n",
       "    </tr>\n",
       "    <tr>\n",
       "      <th>std</th>\n",
       "      <td>0.009098</td>\n",
       "      <td>0.013640</td>\n",
       "      <td>0.041835</td>\n",
       "    </tr>\n",
       "    <tr>\n",
       "      <th rowspan=\"2\" valign=\"top\">40</th>\n",
       "      <th>mean</th>\n",
       "      <td>0.000054</td>\n",
       "      <td>0.000112</td>\n",
       "      <td>0.345845</td>\n",
       "    </tr>\n",
       "    <tr>\n",
       "      <th>std</th>\n",
       "      <td>0.008482</td>\n",
       "      <td>0.011433</td>\n",
       "      <td>0.049134</td>\n",
       "    </tr>\n",
       "    <tr>\n",
       "      <th rowspan=\"2\" valign=\"top\">50</th>\n",
       "      <th>mean</th>\n",
       "      <td>0.000073</td>\n",
       "      <td>0.000623</td>\n",
       "      <td>0.465167</td>\n",
       "    </tr>\n",
       "    <tr>\n",
       "      <th>std</th>\n",
       "      <td>0.008871</td>\n",
       "      <td>0.010928</td>\n",
       "      <td>0.097440</td>\n",
       "    </tr>\n",
       "    <tr>\n",
       "      <th rowspan=\"2\" valign=\"top\">75</th>\n",
       "      <th>mean</th>\n",
       "      <td>-0.000020</td>\n",
       "      <td>-0.000488</td>\n",
       "      <td>0.930022</td>\n",
       "    </tr>\n",
       "    <tr>\n",
       "      <th>std</th>\n",
       "      <td>0.008716</td>\n",
       "      <td>0.008253</td>\n",
       "      <td>0.339196</td>\n",
       "    </tr>\n",
       "    <tr>\n",
       "      <th rowspan=\"2\" valign=\"top\">100</th>\n",
       "      <th>mean</th>\n",
       "      <td>-0.000402</td>\n",
       "      <td>-0.000272</td>\n",
       "      <td>1.469424</td>\n",
       "    </tr>\n",
       "    <tr>\n",
       "      <th>std</th>\n",
       "      <td>0.009116</td>\n",
       "      <td>0.007517</td>\n",
       "      <td>0.392090</td>\n",
       "    </tr>\n",
       "    <tr>\n",
       "      <th rowspan=\"2\" valign=\"top\">125</th>\n",
       "      <th>mean</th>\n",
       "      <td>-0.000075</td>\n",
       "      <td>-0.000015</td>\n",
       "      <td>2.249259</td>\n",
       "    </tr>\n",
       "    <tr>\n",
       "      <th>std</th>\n",
       "      <td>0.008695</td>\n",
       "      <td>0.006711</td>\n",
       "      <td>0.547032</td>\n",
       "    </tr>\n",
       "  </tbody>\n",
       "</table>\n",
       "</div>"
      ],
      "text/plain": [
       "RATE            MUTATION  RECOMBINATION      TIME\n",
       "n_markers                                        \n",
       "12        mean  0.001114       0.001223  0.089408\n",
       "          std   0.009113       0.020649  0.008395\n",
       "15        mean -0.000511       0.000217  0.116080\n",
       "          std   0.010043       0.020480  0.010032\n",
       "20        mean  0.000260      -0.001661  0.169006\n",
       "          std   0.009827       0.017495  0.016153\n",
       "30        mean  0.000537      -0.000059  0.264467\n",
       "          std   0.009098       0.013640  0.041835\n",
       "40        mean  0.000054       0.000112  0.345845\n",
       "          std   0.008482       0.011433  0.049134\n",
       "50        mean  0.000073       0.000623  0.465167\n",
       "          std   0.008871       0.010928  0.097440\n",
       "75        mean -0.000020      -0.000488  0.930022\n",
       "          std   0.008716       0.008253  0.339196\n",
       "100       mean -0.000402      -0.000272  1.469424\n",
       "          std   0.009116       0.007517  0.392090\n",
       "125       mean -0.000075      -0.000015  2.249259\n",
       "          std   0.008695       0.006711  0.547032"
      ]
     },
     "execution_count": 10,
     "metadata": {},
     "output_type": "execute_result"
    }
   ],
   "source": [
    "acc = {}\n",
    "mae_acc = {}\n",
    "for n_markers, df in marker_tests.items():\n",
    "    delta = df['ESTIMATED'] - df['SIMULATED']\n",
    "    mae_acc[n_markers] = delta.abs().mean()\n",
    "    stats = delta.stack().apply(['mean', 'std'])\n",
    "    stats['TIME'] = df[('ELAPSED TIME', None, None)].apply(['mean', 'std'])\n",
    "    #stats = stats.unstack(level=0)\n",
    "    #stats['MAE'] = delta.abs().mean()\n",
    "    acc[n_markers] = stats\n",
    "    #delta.apply(['mean', 'std'])\n",
    "df = pandas.concat(acc, names=['n_markers'])\n",
    "df"
   ]
  },
  {
   "cell_type": "code",
   "execution_count": null,
   "id": "d2931a87-e31b-4eb3-bcdb-9271c296f58a",
   "metadata": {},
   "outputs": [],
   "source": []
  },
  {
   "cell_type": "code",
   "execution_count": 11,
   "id": "3d9dc95d-14b0-4bf9-9e01-3a5059101334",
   "metadata": {},
   "outputs": [
    {
     "name": "stderr",
     "output_type": "stream",
     "text": [
      "/tmp/ipykernel_4750/4280286893.py:1: FutureWarning: The default value of numeric_only in DataFrameGroupBy.mean is deprecated. In a future version, numeric_only will default to False. Either specify numeric_only or select only columns which should be valid for the function.\n",
      "  pandas.concat(mae_acc, names=['n_markers']).reset_index().groupby(['n_markers', 'RATE']).mean()\n"
     ]
    },
    {
     "data": {
      "text/html": [
       "<div>\n",
       "<style scoped>\n",
       "    .dataframe tbody tr th:only-of-type {\n",
       "        vertical-align: middle;\n",
       "    }\n",
       "\n",
       "    .dataframe tbody tr th {\n",
       "        vertical-align: top;\n",
       "    }\n",
       "\n",
       "    .dataframe thead th {\n",
       "        text-align: right;\n",
       "    }\n",
       "</style>\n",
       "<table border=\"1\" class=\"dataframe\">\n",
       "  <thead>\n",
       "    <tr style=\"text-align: right;\">\n",
       "      <th></th>\n",
       "      <th></th>\n",
       "      <th>0</th>\n",
       "    </tr>\n",
       "    <tr>\n",
       "      <th>n_markers</th>\n",
       "      <th>RATE</th>\n",
       "      <th></th>\n",
       "    </tr>\n",
       "  </thead>\n",
       "  <tbody>\n",
       "    <tr>\n",
       "      <th rowspan=\"2\" valign=\"top\">12</th>\n",
       "      <th>MUTATION</th>\n",
       "      <td>0.006163</td>\n",
       "    </tr>\n",
       "    <tr>\n",
       "      <th>RECOMBINATION</th>\n",
       "      <td>0.015217</td>\n",
       "    </tr>\n",
       "    <tr>\n",
       "      <th rowspan=\"2\" valign=\"top\">15</th>\n",
       "      <th>MUTATION</th>\n",
       "      <td>0.006846</td>\n",
       "    </tr>\n",
       "    <tr>\n",
       "      <th>RECOMBINATION</th>\n",
       "      <td>0.014092</td>\n",
       "    </tr>\n",
       "    <tr>\n",
       "      <th rowspan=\"2\" valign=\"top\">20</th>\n",
       "      <th>MUTATION</th>\n",
       "      <td>0.006935</td>\n",
       "    </tr>\n",
       "    <tr>\n",
       "      <th>RECOMBINATION</th>\n",
       "      <td>0.012518</td>\n",
       "    </tr>\n",
       "    <tr>\n",
       "      <th rowspan=\"2\" valign=\"top\">30</th>\n",
       "      <th>MUTATION</th>\n",
       "      <td>0.006271</td>\n",
       "    </tr>\n",
       "    <tr>\n",
       "      <th>RECOMBINATION</th>\n",
       "      <td>0.009589</td>\n",
       "    </tr>\n",
       "    <tr>\n",
       "      <th rowspan=\"2\" valign=\"top\">40</th>\n",
       "      <th>MUTATION</th>\n",
       "      <td>0.005923</td>\n",
       "    </tr>\n",
       "    <tr>\n",
       "      <th>RECOMBINATION</th>\n",
       "      <td>0.008142</td>\n",
       "    </tr>\n",
       "    <tr>\n",
       "      <th rowspan=\"2\" valign=\"top\">50</th>\n",
       "      <th>MUTATION</th>\n",
       "      <td>0.006332</td>\n",
       "    </tr>\n",
       "    <tr>\n",
       "      <th>RECOMBINATION</th>\n",
       "      <td>0.007424</td>\n",
       "    </tr>\n",
       "    <tr>\n",
       "      <th rowspan=\"2\" valign=\"top\">75</th>\n",
       "      <th>MUTATION</th>\n",
       "      <td>0.006035</td>\n",
       "    </tr>\n",
       "    <tr>\n",
       "      <th>RECOMBINATION</th>\n",
       "      <td>0.005861</td>\n",
       "    </tr>\n",
       "    <tr>\n",
       "      <th rowspan=\"2\" valign=\"top\">100</th>\n",
       "      <th>MUTATION</th>\n",
       "      <td>0.006333</td>\n",
       "    </tr>\n",
       "    <tr>\n",
       "      <th>RECOMBINATION</th>\n",
       "      <td>0.005212</td>\n",
       "    </tr>\n",
       "    <tr>\n",
       "      <th rowspan=\"2\" valign=\"top\">125</th>\n",
       "      <th>MUTATION</th>\n",
       "      <td>0.006051</td>\n",
       "    </tr>\n",
       "    <tr>\n",
       "      <th>RECOMBINATION</th>\n",
       "      <td>0.004613</td>\n",
       "    </tr>\n",
       "  </tbody>\n",
       "</table>\n",
       "</div>"
      ],
      "text/plain": [
       "                                0\n",
       "n_markers RATE                   \n",
       "12        MUTATION       0.006163\n",
       "          RECOMBINATION  0.015217\n",
       "15        MUTATION       0.006846\n",
       "          RECOMBINATION  0.014092\n",
       "20        MUTATION       0.006935\n",
       "          RECOMBINATION  0.012518\n",
       "30        MUTATION       0.006271\n",
       "          RECOMBINATION  0.009589\n",
       "40        MUTATION       0.005923\n",
       "          RECOMBINATION  0.008142\n",
       "50        MUTATION       0.006332\n",
       "          RECOMBINATION  0.007424\n",
       "75        MUTATION       0.006035\n",
       "          RECOMBINATION  0.005861\n",
       "100       MUTATION       0.006333\n",
       "          RECOMBINATION  0.005212\n",
       "125       MUTATION       0.006051\n",
       "          RECOMBINATION  0.004613"
      ]
     },
     "execution_count": 11,
     "metadata": {},
     "output_type": "execute_result"
    }
   ],
   "source": [
    "pandas.concat(mae_acc, names=['n_markers']).reset_index().groupby(['n_markers', 'RATE']).mean()"
   ]
  },
  {
   "cell_type": "code",
   "execution_count": null,
   "id": "e55e1785-0b73-4b59-aba6-a7f8c55866eb",
   "metadata": {},
   "outputs": [],
   "source": [
    "df.loc[(slice(None), slice('mean')), :]"
   ]
  },
  {
   "cell_type": "code",
   "execution_count": null,
   "id": "bfbb1e54-cf07-4e16-b2e6-557845fa156f",
   "metadata": {},
   "outputs": [],
   "source": [
    "if False:\n",
    "    n_markers = 12\n",
    "    delta = marker_tests[n_markers]['ESTIMATED'] - marker_tests[n_markers]['SIMULATED']\n",
    "    delta.to_csv('delta12.csv')\n",
    "    delta.columns = delta.columns.get_level_values('MARKER')\n",
    "    delta.boxplot(figsize=(8, 4))\n",
    "    import matplotlib.pyplot as plt\n",
    "    plt.xticks(rotation=90);\n",
    "    plt.savefig('deltas12.pdf')"
   ]
  },
  {
   "cell_type": "code",
   "execution_count": null,
   "id": "0a8c4aad-f9cd-4fa4-a35d-471576a0f26e",
   "metadata": {},
   "outputs": [],
   "source": [
    "print(pandas.concat(acc, names=['n_markers']).to_latex())"
   ]
  },
  {
   "cell_type": "markdown",
   "id": "66d88b2f-2d9b-44fc-bcb3-eb0afe90c8b7",
   "metadata": {},
   "source": [
    "# Tests varying the number of families"
   ]
  },
  {
   "cell_type": "code",
   "execution_count": null,
   "id": "5e419072-46c4-489a-84e2-1d673a16b210",
   "metadata": {},
   "outputs": [],
   "source": [
    "n_markers = 15\n",
    "n_fam_II = 0\n",
    "n_tests = 100\n",
    "fam_I_acc = {}\n",
    "for n_fam_I_log2 in range(1, 11):\n",
    "    n_fam_I = 2**n_fam_I_log2\n",
    "    fam_I_acc[n_fam_I] = random_estimation_tests(n_markers, n_fam_I, n_fam_II, n_tests)"
   ]
  },
  {
   "cell_type": "code",
   "execution_count": null,
   "id": "afcc8bdc-c3f2-422d-8e1e-02c29eb0e222",
   "metadata": {},
   "outputs": [],
   "source": []
  },
  {
   "cell_type": "code",
   "execution_count": null,
   "id": "efe997c8-9135-4539-9e0b-9413ff26120d",
   "metadata": {},
   "outputs": [],
   "source": []
  },
  {
   "cell_type": "code",
   "execution_count": null,
   "id": "61de2c55-4ac3-479b-9f48-004c38fc0d11",
   "metadata": {},
   "outputs": [],
   "source": [
    "assert False"
   ]
  },
  {
   "cell_type": "code",
   "execution_count": null,
   "id": "b9dd6d67-4b0b-4165-9582-3dd598339dfe",
   "metadata": {},
   "outputs": [],
   "source": [
    "delta = df['ESTIMATED'] - df['SIMULATED']\n",
    "delta.head()"
   ]
  },
  {
   "cell_type": "code",
   "execution_count": null,
   "id": "25f41838-e3e5-4cf4-8179-fbb9d68bd479",
   "metadata": {},
   "outputs": [],
   "source": [
    "delta.apply(['mean', 'std'])"
   ]
  },
  {
   "cell_type": "code",
   "execution_count": null,
   "id": "7b861206-59f3-4e40-a8dc-83d7ff05e800",
   "metadata": {},
   "outputs": [],
   "source": [
    "delta.plot.box()"
   ]
  },
  {
   "cell_type": "code",
   "execution_count": null,
   "id": "d5807b3f-e9cf-4512-8759-a3b859eee871",
   "metadata": {},
   "outputs": [],
   "source": [
    "ratio = numpy.log2(df['ESTIMATED']/df['SIMULATED'])\n",
    "ratio.head()"
   ]
  },
  {
   "cell_type": "code",
   "execution_count": null,
   "id": "69742de6-e138-4e98-8d12-121b84d0f713",
   "metadata": {},
   "outputs": [],
   "source": [
    "r = ratio.stack(['RATE', 'MARKER'])\n",
    "s = df.loc[:, 'SIMULATED'].stack(['RATE', 'MARKER'])\n",
    "r.loc[s >= 1e-3].unstack(['RATE', 'MARKER']).plot.box()"
   ]
  },
  {
   "cell_type": "code",
   "execution_count": null,
   "id": "f3742a8d-fd6d-4059-9620-fafba96d7945",
   "metadata": {},
   "outputs": [],
   "source": [
    "r.loc[s >= 1e-3].std()"
   ]
  },
  {
   "cell_type": "code",
   "execution_count": null,
   "id": "a413e0a8-1985-447b-b022-211f6d5d6af3",
   "metadata": {},
   "outputs": [],
   "source": [
    "r.loc[s >= 1e-2].unstack(['RATE', 'MARKER']).quantile([0.025, 0.5, 0.975])"
   ]
  },
  {
   "cell_type": "code",
   "execution_count": null,
   "id": "bb5b8f20-25a3-46c5-8f33-1e4d9531020e",
   "metadata": {},
   "outputs": [],
   "source": [
    "seaborn.displot(r.loc[s >= 1e-2])"
   ]
  },
  {
   "cell_type": "code",
   "execution_count": null,
   "id": "931aa2e0-ecc4-4674-8b85-86fc0b443955",
   "metadata": {},
   "outputs": [],
   "source": []
  },
  {
   "cell_type": "code",
   "execution_count": null,
   "id": "a70ff177-4bab-498d-bf91-b0c807a20ddd",
   "metadata": {},
   "outputs": [],
   "source": [
    "pandas.concat([\n",
    "    df.drop('ELAPSED TIME', axis=1).stack(['RATE', 'MARKER']), \n",
    "    pandas.DataFrame({'r': r, 's': s})\n",
    "], axis=1).sort_values('r')"
   ]
  },
  {
   "cell_type": "code",
   "execution_count": null,
   "id": "f8187327-23c6-4ac8-a51b-eabf49df7c92",
   "metadata": {},
   "outputs": [],
   "source": [
    "s >= 1e04"
   ]
  },
  {
   "cell_type": "code",
   "execution_count": null,
   "id": "0e35a106-6cf1-43d0-ba9d-af816c835d3b",
   "metadata": {},
   "outputs": [],
   "source": [
    "delta.loc[sorted(delta.abs().idxmax())]"
   ]
  },
  {
   "cell_type": "code",
   "execution_count": null,
   "id": "f6517a4b-00bf-40eb-96be-ce55fd945814",
   "metadata": {},
   "outputs": [],
   "source": [
    "df.loc[sorted(delta.abs().idxmax()), (['SIMULATED', 'ESTIMATED'], 'RECOMBINATION', )]"
   ]
  },
  {
   "cell_type": "code",
   "execution_count": null,
   "id": "c1fa4922-12fb-4c2b-89e7-72fb9463e23f",
   "metadata": {},
   "outputs": [],
   "source": [
    "df.loc[sorted(delta.abs().idxmax()), [('SIMULATED', 'RECOMBINATION')]]"
   ]
  },
  {
   "cell_type": "code",
   "execution_count": null,
   "id": "7782c42e-0130-4e8a-aff1-85974ea10776",
   "metadata": {},
   "outputs": [],
   "source": [
    "seaborn.boxplot(data=delta)"
   ]
  },
  {
   "cell_type": "code",
   "execution_count": null,
   "id": "98a9b00c-146a-4e1c-8e3e-f8d42f0a3725",
   "metadata": {},
   "outputs": [],
   "source": [
    "seaborn.displot(df[('ELAPSED TIME', None, None)])"
   ]
  },
  {
   "cell_type": "code",
   "execution_count": null,
   "id": "d0c69849-94ad-45f6-9631-37123f7c0c88",
   "metadata": {},
   "outputs": [],
   "source": []
  }
 ],
 "metadata": {
  "kernelspec": {
   "display_name": "Python 3 (ipykernel)",
   "language": "python",
   "name": "python3"
  },
  "language_info": {
   "codemirror_mode": {
    "name": "ipython",
    "version": 3
   },
   "file_extension": ".py",
   "mimetype": "text/x-python",
   "name": "python",
   "nbconvert_exporter": "python",
   "pygments_lexer": "ipython3",
   "version": "3.10.6"
  }
 },
 "nbformat": 4,
 "nbformat_minor": 5
}
