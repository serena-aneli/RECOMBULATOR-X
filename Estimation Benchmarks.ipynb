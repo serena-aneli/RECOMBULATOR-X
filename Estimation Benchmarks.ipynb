{
 "cells": [
  {
   "cell_type": "markdown",
   "id": "cf6e6407-609c-42d8-99d0-3b4176506b99",
   "metadata": {},
   "source": [
    "# Benchmark recombination and mutation rates estimation error and computation time"
   ]
  },
  {
   "cell_type": "code",
   "execution_count": 1,
   "id": "70e68b1d-35aa-4987-a6ee-56112fa60eb3",
   "metadata": {},
   "outputs": [],
   "source": [
    "import numpy\n",
    "import pandas\n",
    "import seaborn\n",
    "import recombulatorx\n",
    "import recombulatorx.testing\n",
    "#from xstr_recomb import estimate_rates\n",
    "#from xstr_recomb.testing import generate_processed_family, generate_random_rates"
   ]
  },
  {
   "cell_type": "code",
   "execution_count": 2,
   "id": "94f0184d-2b34-4018-9dd7-81f0730a1ad8",
   "metadata": {},
   "outputs": [],
   "source": [
    "try:\n",
    "    from tqdm import tqdm\n",
    "except ModuleNotFoundError:\n",
    "    tqdm = lambda x: x\n",
    "    print('tqdm module not found, no progress bars!')"
   ]
  },
  {
   "cell_type": "code",
   "execution_count": 3,
   "id": "90637e3f-4062-45a3-95a0-7823d384f1c0",
   "metadata": {},
   "outputs": [],
   "source": [
    "from time import time\n",
    "\n",
    "def random_estimation_test(n_markers, n_fam_I, n_fam_II, seed, **kwargs):\n",
    "    if seed is not None:\n",
    "        numpy.random.seed(seed)\n",
    "    simulated_rates = recombulatorx.testing.generate_random_rates(n_markers)\n",
    "    fams = [recombulatorx.testing.generate_processed_family(f'FAM_I_{i}', 2, True, *simulated_rates) for i in range(n_fam_I)]\n",
    "    fams += [recombulatorx.testing.generate_processed_family(f'FAM_II_{i}', 2, False, *simulated_rates) for i in range(n_fam_II)]\n",
    "    t1 = time()\n",
    "    estimated_rates = recombulatorx.estimate_rates(fams, 0.1, 0.1, **kwargs)\n",
    "    elapsed_time = time() - t1\n",
    "    return simulated_rates, estimated_rates, elapsed_time"
   ]
  },
  {
   "cell_type": "code",
   "execution_count": 4,
   "id": "8ef2aff9-93ed-42f5-8bfc-5ff9c503a947",
   "metadata": {},
   "outputs": [
    {
     "name": "stdout",
     "output_type": "stream",
     "text": [
      "joblib module not found, cannot cache results\n"
     ]
    }
   ],
   "source": [
    "try:\n",
    "    import joblib\n",
    "    mem = joblib.Memory('estimation_testing_cache', verbose=0)\n",
    "    random_estimation_test = mem.cache(random_estimation_test)\n",
    "except ModuleNotFoundError:\n",
    "    print('joblib module not found, cannot cache results')"
   ]
  },
  {
   "cell_type": "code",
   "execution_count": 5,
   "id": "9b173740-870e-423c-bfb4-137637d427d6",
   "metadata": {},
   "outputs": [],
   "source": [
    "def random_estimation_tests(n_markers, n_fam_I, n_fam_II, n_tests):\n",
    "    data = [\n",
    "        random_estimation_test(n_markers, n_fam_I, n_fam_II, seed, estimate_mutation_rates='all')\n",
    "        for seed in tqdm(range(n_tests))\n",
    "    ]\n",
    "    # put results in a pandas DataFrame\n",
    "    recomb_cols = [('RECOMBINATION', f'M{i}-{i+1}') for i in range(1, n_markers)]\n",
    "    mut_cols = [('MUTATION', f'M{i}') for i in range(1, n_markers + 1)]\n",
    "    all_cols = [(l1, *l2) for l1 in ['SIMULATED', 'ESTIMATED'] for l2_cols in [recomb_cols, mut_cols] for l2 in l2_cols] + [('ELAPSED TIME', None, None)]\n",
    "\n",
    "    df = pandas.DataFrame(\n",
    "        [\n",
    "            numpy.concatenate([*simulated_rates, *estimated_rates, [elapsed_time]])\n",
    "            for simulated_rates, estimated_rates, elapsed_time in data\n",
    "        ], \n",
    "        columns=pandas.MultiIndex.from_tuples(all_cols, names=['SOURCE', 'RATE', 'MARKER']))\n",
    "    df.index.name = 'TEST'\n",
    "    return df"
   ]
  },
  {
   "cell_type": "code",
   "execution_count": 6,
   "id": "951d8afa-f826-46da-aaaf-752c0613689f",
   "metadata": {},
   "outputs": [],
   "source": [
    "#random_estimation_test(200, 1000, 0, 0, optimization_method='Nelder-Mead', maxiter=10000)"
   ]
  },
  {
   "cell_type": "code",
   "execution_count": 7,
   "id": "74a35bfe-213f-4736-b9e1-576017c3c172",
   "metadata": {},
   "outputs": [],
   "source": [
    "#random_estimation_test(200, 1000, 0, 0, optimization_method='L-BFGS-B', maxiter=10000)"
   ]
  },
  {
   "cell_type": "code",
   "execution_count": 8,
   "id": "92845d22-7525-486c-b66c-84331a2100a0",
   "metadata": {},
   "outputs": [],
   "source": [
    "#random_estimation_test(200, 1000, 0, 0, optimization_method='Powell', maxiter=10000)"
   ]
  },
  {
   "cell_type": "code",
   "execution_count": 9,
   "id": "c8c13f38-5a40-4201-9743-27020de2b5c3",
   "metadata": {},
   "outputs": [],
   "source": [
    "#random_estimation_test(200, 1000, 0, 0, optimization_method='TNC', maxiter=10000)"
   ]
  },
  {
   "cell_type": "markdown",
   "id": "4f04ddc0-ab34-4b73-863e-bb98d7571b9c",
   "metadata": {},
   "source": [
    "## Tests comparing to literature"
   ]
  },
  {
   "cell_type": "markdown",
   "id": "b692ce6c-9dba-4867-a904-29710609583d",
   "metadata": {},
   "source": [
    "Nothnagel and colleagues analyzed 216 type I and 185 type II families genotyped with a panel of 12 markers \\cite{Nothnagel_2012}"
   ]
  },
  {
   "cell_type": "code",
   "execution_count": null,
   "id": "a5a4bccf-6e19-460e-86a4-7b2aeca8f9cf",
   "metadata": {},
   "outputs": [
    {
     "name": "stderr",
     "output_type": "stream",
     "text": [
      "  0%|                                                                                                                                                                                                                 | 0/10 [00:00<?, ?it/s]"
     ]
    }
   ],
   "source": [
    "lit1 = random_estimation_tests(n_markers=12, n_fam_I=216, n_fam_II=185, n_tests=10)"
   ]
  },
  {
   "cell_type": "code",
   "execution_count": null,
   "id": "a04e3340-59d6-4e20-be52-013f17c75143",
   "metadata": {},
   "outputs": [],
   "source": []
  },
  {
   "cell_type": "code",
   "execution_count": null,
   "id": "62794287-38b7-4fc4-bce4-6d671f6f1883",
   "metadata": {},
   "outputs": [],
   "source": [
    "lit1_minutes = lit1.loc[:, ('ELAPSED TIME', None, None)]/60\n",
    "print(f'average time (minutes): {lit1_minutes.mean()}, std: {lit1_minutes.std()}')"
   ]
  },
  {
   "cell_type": "code",
   "execution_count": null,
   "id": "485193bf-f497-41d8-b107-4c19dead8e4b",
   "metadata": {},
   "outputs": [],
   "source": [
    "lit2 = random_estimation_tests(n_markers=15, n_fam_I=54, n_fam_II=104, n_tests=10)"
   ]
  },
  {
   "cell_type": "code",
   "execution_count": null,
   "id": "be73085a-4f69-450b-b50a-b065ea64790b",
   "metadata": {},
   "outputs": [],
   "source": [
    "lit2_minutes = lit2.loc[:, ('ELAPSED TIME', None, None)]/60\n",
    "print(f'average time (minutes): {lit2_minutes.mean()}, std: {lit2_minutes.std()}')"
   ]
  },
  {
   "cell_type": "markdown",
   "id": "0b2765b5-c1ee-4b80-ae75-6ad2580a5939",
   "metadata": {},
   "source": [
    "# Tests varying the number of markers"
   ]
  },
  {
   "cell_type": "code",
   "execution_count": null,
   "id": "2452b5b3-c8b9-4ef7-a90d-8f78fc889b18",
   "metadata": {},
   "outputs": [],
   "source": [
    "n_fam_I = 1000\n",
    "n_fam_II = 0\n",
    "marker_tests = {}\n",
    "for n_markers in [12, 15, 20, 30, 100]:\n",
    "    print(f'{n_markers=}')\n",
    "    marker_tests[n_markers] = random_estimation_tests(n_markers, n_fam_I, n_fam_II, 100)"
   ]
  },
  {
   "cell_type": "code",
   "execution_count": null,
   "id": "c13ecbd6-0419-48b5-84c4-ccf5ab7e4148",
   "metadata": {},
   "outputs": [],
   "source": [
    "acc = {}\n",
    "mae_acc = {}\n",
    "for n_markers, df in marker_tests.items():\n",
    "    delta = df['ESTIMATED'] - df['SIMULATED']\n",
    "    mae_acc[n_markers] = delta.abs().mean()\n",
    "    stats = delta.stack().apply(['mean', 'std'])\n",
    "    stats['TIME'] = df[('ELAPSED TIME', None, None)].apply(['mean', 'std'])\n",
    "    #stats = stats.unstack(level=0)\n",
    "    #stats['MAE'] = delta.abs().mean()\n",
    "    acc[n_markers] = stats\n",
    "    #delta.apply(['mean', 'std'])\n",
    "df = pandas.concat(acc, names=['n_markers'])\n",
    "df"
   ]
  },
  {
   "cell_type": "code",
   "execution_count": null,
   "id": "3d9dc95d-14b0-4bf9-9e01-3a5059101334",
   "metadata": {},
   "outputs": [],
   "source": [
    "pandas.concat(mae_acc, names=['n_markers']).reset_index().groupby(['n_markers', 'RATE']).mean()"
   ]
  },
  {
   "cell_type": "code",
   "execution_count": null,
   "id": "e55e1785-0b73-4b59-aba6-a7f8c55866eb",
   "metadata": {},
   "outputs": [],
   "source": [
    "df.loc[(slice(None), slice('mean')), :]"
   ]
  },
  {
   "cell_type": "code",
   "execution_count": null,
   "id": "bfbb1e54-cf07-4e16-b2e6-557845fa156f",
   "metadata": {},
   "outputs": [],
   "source": [
    "if False:\n",
    "    n_markers = 12\n",
    "    delta = marker_tests[n_markers]['ESTIMATED'] - marker_tests[n_markers]['SIMULATED']\n",
    "    delta.to_csv('delta12.csv')\n",
    "    delta.columns = delta.columns.get_level_values('MARKER')\n",
    "    delta.boxplot(figsize=(8, 4))\n",
    "    import matplotlib.pyplot as plt\n",
    "    plt.xticks(rotation=90);\n",
    "    plt.savefig('deltas12.pdf')"
   ]
  },
  {
   "cell_type": "code",
   "execution_count": null,
   "id": "0a8c4aad-f9cd-4fa4-a35d-471576a0f26e",
   "metadata": {},
   "outputs": [],
   "source": [
    "print(pandas.concat(acc, names=['n_markers']).to_latex())"
   ]
  },
  {
   "cell_type": "markdown",
   "id": "66d88b2f-2d9b-44fc-bcb3-eb0afe90c8b7",
   "metadata": {},
   "source": [
    "# Tests varying the number of families"
   ]
  },
  {
   "cell_type": "code",
   "execution_count": null,
   "id": "5e419072-46c4-489a-84e2-1d673a16b210",
   "metadata": {},
   "outputs": [],
   "source": [
    "n_markers = 15\n",
    "n_fam_II = 0\n",
    "n_tests = 100\n",
    "fam_I_acc = {}\n",
    "for n_fam_I_log2 in range(1, 11):\n",
    "    n_fam_I = 2**n_fam_I_log2\n",
    "    fam_I_acc[n_fam_I] = random_estimation_tests(n_markers, n_fam_I, n_fam_II, n_tests)"
   ]
  },
  {
   "cell_type": "code",
   "execution_count": null,
   "id": "afcc8bdc-c3f2-422d-8e1e-02c29eb0e222",
   "metadata": {},
   "outputs": [],
   "source": []
  },
  {
   "cell_type": "code",
   "execution_count": null,
   "id": "efe997c8-9135-4539-9e0b-9413ff26120d",
   "metadata": {},
   "outputs": [],
   "source": []
  },
  {
   "cell_type": "code",
   "execution_count": null,
   "id": "61de2c55-4ac3-479b-9f48-004c38fc0d11",
   "metadata": {},
   "outputs": [],
   "source": [
    "assert False"
   ]
  },
  {
   "cell_type": "code",
   "execution_count": null,
   "id": "b9dd6d67-4b0b-4165-9582-3dd598339dfe",
   "metadata": {},
   "outputs": [],
   "source": [
    "delta = df['ESTIMATED'] - df['SIMULATED']\n",
    "delta.head()"
   ]
  },
  {
   "cell_type": "code",
   "execution_count": null,
   "id": "25f41838-e3e5-4cf4-8179-fbb9d68bd479",
   "metadata": {},
   "outputs": [],
   "source": [
    "delta.apply(['mean', 'std'])"
   ]
  },
  {
   "cell_type": "code",
   "execution_count": null,
   "id": "7b861206-59f3-4e40-a8dc-83d7ff05e800",
   "metadata": {},
   "outputs": [],
   "source": [
    "delta.plot.box()"
   ]
  },
  {
   "cell_type": "code",
   "execution_count": null,
   "id": "d5807b3f-e9cf-4512-8759-a3b859eee871",
   "metadata": {},
   "outputs": [],
   "source": [
    "ratio = numpy.log2(df['ESTIMATED']/df['SIMULATED'])\n",
    "ratio.head()"
   ]
  },
  {
   "cell_type": "code",
   "execution_count": null,
   "id": "69742de6-e138-4e98-8d12-121b84d0f713",
   "metadata": {},
   "outputs": [],
   "source": [
    "r = ratio.stack(['RATE', 'MARKER'])\n",
    "s = df.loc[:, 'SIMULATED'].stack(['RATE', 'MARKER'])\n",
    "r.loc[s >= 1e-3].unstack(['RATE', 'MARKER']).plot.box()"
   ]
  },
  {
   "cell_type": "code",
   "execution_count": null,
   "id": "f3742a8d-fd6d-4059-9620-fafba96d7945",
   "metadata": {},
   "outputs": [],
   "source": [
    "r.loc[s >= 1e-3].std()"
   ]
  },
  {
   "cell_type": "code",
   "execution_count": null,
   "id": "a413e0a8-1985-447b-b022-211f6d5d6af3",
   "metadata": {},
   "outputs": [],
   "source": [
    "r.loc[s >= 1e-2].unstack(['RATE', 'MARKER']).quantile([0.025, 0.5, 0.975])"
   ]
  },
  {
   "cell_type": "code",
   "execution_count": null,
   "id": "bb5b8f20-25a3-46c5-8f33-1e4d9531020e",
   "metadata": {},
   "outputs": [],
   "source": [
    "seaborn.displot(r.loc[s >= 1e-2])"
   ]
  },
  {
   "cell_type": "code",
   "execution_count": null,
   "id": "931aa2e0-ecc4-4674-8b85-86fc0b443955",
   "metadata": {},
   "outputs": [],
   "source": []
  },
  {
   "cell_type": "code",
   "execution_count": null,
   "id": "a70ff177-4bab-498d-bf91-b0c807a20ddd",
   "metadata": {},
   "outputs": [],
   "source": [
    "pandas.concat([\n",
    "    df.drop('ELAPSED TIME', axis=1).stack(['RATE', 'MARKER']), \n",
    "    pandas.DataFrame({'r': r, 's': s})\n",
    "], axis=1).sort_values('r')"
   ]
  },
  {
   "cell_type": "code",
   "execution_count": null,
   "id": "f8187327-23c6-4ac8-a51b-eabf49df7c92",
   "metadata": {},
   "outputs": [],
   "source": [
    "s >= 1e04"
   ]
  },
  {
   "cell_type": "code",
   "execution_count": null,
   "id": "0e35a106-6cf1-43d0-ba9d-af816c835d3b",
   "metadata": {},
   "outputs": [],
   "source": [
    "delta.loc[sorted(delta.abs().idxmax())]"
   ]
  },
  {
   "cell_type": "code",
   "execution_count": null,
   "id": "f6517a4b-00bf-40eb-96be-ce55fd945814",
   "metadata": {},
   "outputs": [],
   "source": [
    "df.loc[sorted(delta.abs().idxmax()), (['SIMULATED', 'ESTIMATED'], 'RECOMBINATION', )]"
   ]
  },
  {
   "cell_type": "code",
   "execution_count": null,
   "id": "c1fa4922-12fb-4c2b-89e7-72fb9463e23f",
   "metadata": {},
   "outputs": [],
   "source": [
    "df.loc[sorted(delta.abs().idxmax()), [('SIMULATED', 'RECOMBINATION')]]"
   ]
  },
  {
   "cell_type": "code",
   "execution_count": null,
   "id": "7782c42e-0130-4e8a-aff1-85974ea10776",
   "metadata": {},
   "outputs": [],
   "source": [
    "seaborn.boxplot(data=delta)"
   ]
  },
  {
   "cell_type": "code",
   "execution_count": null,
   "id": "98a9b00c-146a-4e1c-8e3e-f8d42f0a3725",
   "metadata": {},
   "outputs": [],
   "source": [
    "seaborn.displot(df[('ELAPSED TIME', None, None)])"
   ]
  },
  {
   "cell_type": "code",
   "execution_count": null,
   "id": "d0c69849-94ad-45f6-9631-37123f7c0c88",
   "metadata": {},
   "outputs": [],
   "source": []
  }
 ],
 "metadata": {
  "kernelspec": {
   "display_name": "Python 3 (ipykernel)",
   "language": "python",
   "name": "python3"
  },
  "language_info": {
   "codemirror_mode": {
    "name": "ipython",
    "version": 3
   },
   "file_extension": ".py",
   "mimetype": "text/x-python",
   "name": "python",
   "nbconvert_exporter": "python",
   "pygments_lexer": "ipython3",
   "version": "3.8.12"
  }
 },
 "nbformat": 4,
 "nbformat_minor": 5
}
