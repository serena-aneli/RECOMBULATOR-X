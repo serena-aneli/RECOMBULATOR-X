{
 "cells": [
  {
   "cell_type": "markdown",
   "id": "cf6e6407-609c-42d8-99d0-3b4176506b99",
   "metadata": {},
   "source": [
    "# Benchmark recombination and mutation rates estimation error and computation time"
   ]
  },
  {
   "cell_type": "code",
   "execution_count": 1,
   "id": "70e68b1d-35aa-4987-a6ee-56112fa60eb3",
   "metadata": {},
   "outputs": [],
   "source": [
    "import numpy\n",
    "import pandas\n",
    "import seaborn\n",
    "import recombulatorx\n",
    "import recombulatorx.testing"
   ]
  },
  {
   "cell_type": "code",
   "execution_count": 2,
   "id": "94f0184d-2b34-4018-9dd7-81f0730a1ad8",
   "metadata": {},
   "outputs": [],
   "source": [
    "try:\n",
    "    from tqdm import tqdm\n",
    "except ModuleNotFoundError:\n",
    "    tqdm = lambda x: x\n",
    "    print('tqdm module not found, no progress bars!')"
   ]
  },
  {
   "cell_type": "code",
   "execution_count": 3,
   "id": "90637e3f-4062-45a3-95a0-7823d384f1c0",
   "metadata": {},
   "outputs": [],
   "source": [
    "from time import time\n",
    "\n",
    "def random_estimation_test(n_markers, n_fam_I, n_fam_II, seed=None, **kwargs):\n",
    "    if seed is not None:\n",
    "        numpy.random.seed(seed)\n",
    "    simulated_rates = recombulatorx.testing.generate_random_rates(n_markers)\n",
    "    fams = [recombulatorx.testing.generate_processed_family(f'FAM_I_{i}', 2, True, *simulated_rates) for i in range(n_fam_I)]\n",
    "    fams += [recombulatorx.testing.generate_processed_family(f'FAM_II_{i}', 2, False, *simulated_rates) for i in range(n_fam_II)]\n",
    "    t1 = time()\n",
    "    estimated_rates = recombulatorx.estimate_rates(fams, 0.1, 0.1, **kwargs)\n",
    "    elapsed_time = time() - t1\n",
    "    return simulated_rates, estimated_rates, elapsed_time"
   ]
  },
  {
   "cell_type": "code",
   "execution_count": 4,
   "id": "8ef2aff9-93ed-42f5-8bfc-5ff9c503a947",
   "metadata": {},
   "outputs": [],
   "source": [
    "try:\n",
    "    import joblib\n",
    "    mem = joblib.Memory('estimation_testing_cache', verbose=0)\n",
    "    random_estimation_test = mem.cache(random_estimation_test)\n",
    "except ModuleNotFoundError:\n",
    "    print('joblib module not found, cannot cache results')"
   ]
  },
  {
   "cell_type": "code",
   "execution_count": 5,
   "id": "9b173740-870e-423c-bfb4-137637d427d6",
   "metadata": {},
   "outputs": [],
   "source": [
    "def random_estimation_tests(n_markers, n_fam_I, n_fam_II, n_tests, **kwargs):\n",
    "    data = [\n",
    "        random_estimation_test(n_markers, n_fam_I, n_fam_II, seed, estimate_mutation_rates='all', **kwargs)\n",
    "        for seed in tqdm(range(n_tests))\n",
    "    ]\n",
    "    # put results in a pandas DataFrame\n",
    "    recomb_cols = [('RECOMBINATION', f'M{i}-{i+1}') for i in range(1, n_markers)]\n",
    "    mut_cols = [('MUTATION', f'M{i}') for i in range(1, n_markers + 1)]\n",
    "    all_cols = [(l1, *l2) for l1 in ['SIMULATED', 'ESTIMATED'] for l2_cols in [recomb_cols, mut_cols] for l2 in l2_cols] + [('ELAPSED TIME', None, None)]\n",
    "\n",
    "    df = pandas.DataFrame(\n",
    "        [\n",
    "            numpy.concatenate([*simulated_rates, *estimated_rates, [elapsed_time]])\n",
    "            for simulated_rates, estimated_rates, elapsed_time in data\n",
    "        ], \n",
    "        columns=pandas.MultiIndex.from_tuples(all_cols, names=['SOURCE', 'RATE', 'MARKER']))\n",
    "    df.index.name = 'TEST'\n",
    "    return df"
   ]
  },
  {
   "cell_type": "code",
   "execution_count": 6,
   "id": "951d8afa-f826-46da-aaaf-752c0613689f",
   "metadata": {},
   "outputs": [],
   "source": [
    "#random_estimation_test(200, 1000, 0, 0, optimization_method='Nelder-Mead', maxiter=10000)"
   ]
  },
  {
   "cell_type": "code",
   "execution_count": 7,
   "id": "74a35bfe-213f-4736-b9e1-576017c3c172",
   "metadata": {},
   "outputs": [],
   "source": [
    "#random_estimation_test(200, 1000, 0, 0, optimization_method='L-BFGS-B', maxiter=10000)"
   ]
  },
  {
   "cell_type": "code",
   "execution_count": 8,
   "id": "92845d22-7525-486c-b66c-84331a2100a0",
   "metadata": {},
   "outputs": [],
   "source": [
    "#random_estimation_test(200, 1000, 0, 0, optimization_method='Powell', maxiter=10000)"
   ]
  },
  {
   "cell_type": "code",
   "execution_count": 9,
   "id": "c8c13f38-5a40-4201-9743-27020de2b5c3",
   "metadata": {},
   "outputs": [],
   "source": [
    "#random_estimation_test(200, 1000, 0, 0, optimization_method='TNC', maxiter=10000)"
   ]
  },
  {
   "cell_type": "code",
   "execution_count": 10,
   "id": "44974fcf-4458-4bb2-a747-65a256100afb",
   "metadata": {},
   "outputs": [],
   "source": [
    "#random_estimation_tests(n_markers=12, n_fam_I=100, n_fam_II=0, n_tests=1)"
   ]
  },
  {
   "cell_type": "markdown",
   "id": "4f04ddc0-ab34-4b73-863e-bb98d7571b9c",
   "metadata": {},
   "source": [
    "## Tests comparing to literature"
   ]
  },
  {
   "cell_type": "markdown",
   "id": "b692ce6c-9dba-4867-a904-29710609583d",
   "metadata": {},
   "source": [
    "Nothnagel and colleagues analyzed 216 type I and 185 type II families genotyped with a panel of 12 markers \\cite{Nothnagel_2012}"
   ]
  },
  {
   "cell_type": "code",
   "execution_count": null,
   "id": "a5a4bccf-6e19-460e-86a4-7b2aeca8f9cf",
   "metadata": {},
   "outputs": [
    {
     "name": "stderr",
     "output_type": "stream",
     "text": [
      "  0%|                                                                                                                                                                                                                 | 0/10 [00:00<?, ?it/s]Exception ignored on calling ctypes callback function: <function ExecutionEngine._raw_object_cache_notify at 0x7fa5a95c68b0>\n",
      "Traceback (most recent call last):\n",
      "  File \"/archive/home/gbirolo/projects/recombulator-x/venv/lib/python3.8/site-packages/llvmlite/binding/executionengine.py\", line 171, in _raw_object_cache_notify\n",
      "    def _raw_object_cache_notify(self, data):\n",
      "KeyboardInterrupt: \n"
     ]
    }
   ],
   "source": [
    "lit1 = random_estimation_tests(n_markers=12, n_fam_I=216, n_fam_II=185, n_tests=10)"
   ]
  },
  {
   "cell_type": "code",
   "execution_count": null,
   "id": "62794287-38b7-4fc4-bce4-6d671f6f1883",
   "metadata": {},
   "outputs": [],
   "source": [
    "lit1_minutes = lit1.loc[:, ('ELAPSED TIME', None, None)]/60\n",
    "print(f'average time (minutes): {lit1_minutes.mean()}, std: {lit1_minutes.std()}')"
   ]
  },
  {
   "cell_type": "code",
   "execution_count": null,
   "id": "485193bf-f497-41d8-b107-4c19dead8e4b",
   "metadata": {},
   "outputs": [],
   "source": [
    "lit2 = random_estimation_tests(n_markers=15, n_fam_I=54, n_fam_II=104, n_tests=10)"
   ]
  },
  {
   "cell_type": "code",
   "execution_count": null,
   "id": "be73085a-4f69-450b-b50a-b065ea64790b",
   "metadata": {},
   "outputs": [],
   "source": [
    "lit2_minutes = lit2.loc[:, ('ELAPSED TIME', None, None)]/60\n",
    "print(f'average time (minutes): {lit2_minutes.mean()}, std: {lit2_minutes.std()}')"
   ]
  },
  {
   "cell_type": "markdown",
   "id": "0b2765b5-c1ee-4b80-ae75-6ad2580a5939",
   "metadata": {},
   "source": [
    "# Tests varying the number of markers"
   ]
  },
  {
   "cell_type": "code",
   "execution_count": 6,
   "id": "2452b5b3-c8b9-4ef7-a90d-8f78fc889b18",
   "metadata": {},
   "outputs": [
    {
     "name": "stdout",
     "output_type": "stream",
     "text": [
      "n_markers=12\n"
     ]
    },
    {
     "name": "stderr",
     "output_type": "stream",
     "text": [
      "100%|████████████████████████████████████████████████████████████████████████████████████████████████████████████████████████████████████████████████████████████████████████████████████████████████████████| 10/10 [00:07<00:00,  1.32it/s]\n"
     ]
    },
    {
     "name": "stdout",
     "output_type": "stream",
     "text": [
      "n_markers=15\n"
     ]
    },
    {
     "name": "stderr",
     "output_type": "stream",
     "text": [
      "100%|████████████████████████████████████████████████████████████████████████████████████████████████████████████████████████████████████████████████████████████████████████████████████████████████████████| 10/10 [00:05<00:00,  1.78it/s]\n"
     ]
    },
    {
     "name": "stdout",
     "output_type": "stream",
     "text": [
      "n_markers=20\n"
     ]
    },
    {
     "name": "stderr",
     "output_type": "stream",
     "text": [
      "100%|████████████████████████████████████████████████████████████████████████████████████████████████████████████████████████████████████████████████████████████████████████████████████████████████████████| 10/10 [00:08<00:00,  1.17it/s]\n"
     ]
    },
    {
     "name": "stdout",
     "output_type": "stream",
     "text": [
      "n_markers=30\n"
     ]
    },
    {
     "name": "stderr",
     "output_type": "stream",
     "text": [
      "100%|████████████████████████████████████████████████████████████████████████████████████████████████████████████████████████████████████████████████████████████████████████████████████████████████████████| 10/10 [00:12<00:00,  1.26s/it]\n"
     ]
    },
    {
     "name": "stdout",
     "output_type": "stream",
     "text": [
      "n_markers=50\n"
     ]
    },
    {
     "name": "stderr",
     "output_type": "stream",
     "text": [
      "100%|████████████████████████████████████████████████████████████████████████████████████████████████████████████████████████████████████████████████████████████████████████████████████████████████████████| 10/10 [00:22<00:00,  2.21s/it]\n"
     ]
    },
    {
     "name": "stdout",
     "output_type": "stream",
     "text": [
      "n_markers=75\n"
     ]
    },
    {
     "name": "stderr",
     "output_type": "stream",
     "text": [
      "100%|████████████████████████████████████████████████████████████████████████████████████████████████████████████████████████████████████████████████████████████████████████████████████████████████████████| 10/10 [00:41<00:00,  4.13s/it]\n"
     ]
    },
    {
     "name": "stdout",
     "output_type": "stream",
     "text": [
      "n_markers=100\n"
     ]
    },
    {
     "name": "stderr",
     "output_type": "stream",
     "text": [
      "100%|████████████████████████████████████████████████████████████████████████████████████████████████████████████████████████████████████████████████████████████████████████████████████████████████████████| 10/10 [01:01<00:00,  6.16s/it]\n"
     ]
    },
    {
     "name": "stdout",
     "output_type": "stream",
     "text": [
      "n_markers=125\n"
     ]
    },
    {
     "name": "stderr",
     "output_type": "stream",
     "text": [
      "100%|████████████████████████████████████████████████████████████████████████████████████████████████████████████████████████████████████████████████████████████████████████████████████████████████████████| 10/10 [01:29<00:00,  8.91s/it]\n"
     ]
    },
    {
     "name": "stdout",
     "output_type": "stream",
     "text": [
      "n_markers=150\n"
     ]
    },
    {
     "name": "stderr",
     "output_type": "stream",
     "text": [
      " 10%|████████████████████                                                                                                                                                                                     | 1/10 [00:07<01:10,  7.86s/it]"
     ]
    },
    {
     "ename": "ValueError",
     "evalue": "Minimization failed to converge: STOP: TOTAL NO. of f AND g EVALUATIONS EXCEEDS LIMIT",
     "output_type": "error",
     "traceback": [
      "\u001b[0;31m---------------------------------------------------------------------------\u001b[0m",
      "\u001b[0;31mValueError\u001b[0m                                Traceback (most recent call last)",
      "Cell \u001b[0;32mIn [6], line 6\u001b[0m\n\u001b[1;32m      4\u001b[0m \u001b[38;5;28;01mfor\u001b[39;00m n_markers \u001b[38;5;129;01min\u001b[39;00m [\u001b[38;5;241m12\u001b[39m, \u001b[38;5;241m15\u001b[39m, \u001b[38;5;241m20\u001b[39m, \u001b[38;5;241m30\u001b[39m, \u001b[38;5;241m50\u001b[39m, \u001b[38;5;241m75\u001b[39m, \u001b[38;5;241m100\u001b[39m, \u001b[38;5;241m125\u001b[39m, \u001b[38;5;241m150\u001b[39m]:\n\u001b[1;32m      5\u001b[0m     \u001b[38;5;28mprint\u001b[39m(\u001b[38;5;124mf\u001b[39m\u001b[38;5;124m'\u001b[39m\u001b[38;5;132;01m{\u001b[39;00mn_markers\u001b[38;5;132;01m=}\u001b[39;00m\u001b[38;5;124m'\u001b[39m)\n\u001b[0;32m----> 6\u001b[0m     marker_tests[n_markers] \u001b[38;5;241m=\u001b[39m \u001b[43mrandom_estimation_tests\u001b[49m\u001b[43m(\u001b[49m\u001b[43mn_markers\u001b[49m\u001b[43m,\u001b[49m\u001b[43m \u001b[49m\u001b[43mn_fam_I\u001b[49m\u001b[43m,\u001b[49m\u001b[43m \u001b[49m\u001b[43mn_fam_II\u001b[49m\u001b[43m,\u001b[49m\u001b[43m \u001b[49m\u001b[38;5;241;43m10\u001b[39;49m\u001b[43m)\u001b[49m\n",
      "Cell \u001b[0;32mIn [5], line 2\u001b[0m, in \u001b[0;36mrandom_estimation_tests\u001b[0;34m(n_markers, n_fam_I, n_fam_II, n_tests, **kwargs)\u001b[0m\n\u001b[1;32m      1\u001b[0m \u001b[38;5;28;01mdef\u001b[39;00m \u001b[38;5;21mrandom_estimation_tests\u001b[39m(n_markers, n_fam_I, n_fam_II, n_tests, \u001b[38;5;241m*\u001b[39m\u001b[38;5;241m*\u001b[39mkwargs):\n\u001b[0;32m----> 2\u001b[0m     data \u001b[38;5;241m=\u001b[39m [\n\u001b[1;32m      3\u001b[0m         random_estimation_test(n_markers, n_fam_I, n_fam_II, seed, estimate_mutation_rates\u001b[38;5;241m=\u001b[39m\u001b[38;5;124m'\u001b[39m\u001b[38;5;124mall\u001b[39m\u001b[38;5;124m'\u001b[39m, \u001b[38;5;241m*\u001b[39m\u001b[38;5;241m*\u001b[39mkwargs)\n\u001b[1;32m      4\u001b[0m         \u001b[38;5;28;01mfor\u001b[39;00m seed \u001b[38;5;129;01min\u001b[39;00m tqdm(\u001b[38;5;28mrange\u001b[39m(n_tests))\n\u001b[1;32m      5\u001b[0m     ]\n\u001b[1;32m      6\u001b[0m     \u001b[38;5;66;03m# put results in a pandas DataFrame\u001b[39;00m\n\u001b[1;32m      7\u001b[0m     recomb_cols \u001b[38;5;241m=\u001b[39m [(\u001b[38;5;124m'\u001b[39m\u001b[38;5;124mRECOMBINATION\u001b[39m\u001b[38;5;124m'\u001b[39m, \u001b[38;5;124mf\u001b[39m\u001b[38;5;124m'\u001b[39m\u001b[38;5;124mM\u001b[39m\u001b[38;5;132;01m{\u001b[39;00mi\u001b[38;5;132;01m}\u001b[39;00m\u001b[38;5;124m-\u001b[39m\u001b[38;5;132;01m{\u001b[39;00mi\u001b[38;5;241m+\u001b[39m\u001b[38;5;241m1\u001b[39m\u001b[38;5;132;01m}\u001b[39;00m\u001b[38;5;124m'\u001b[39m) \u001b[38;5;28;01mfor\u001b[39;00m i \u001b[38;5;129;01min\u001b[39;00m \u001b[38;5;28mrange\u001b[39m(\u001b[38;5;241m1\u001b[39m, n_markers)]\n",
      "Cell \u001b[0;32mIn [5], line 3\u001b[0m, in \u001b[0;36m<listcomp>\u001b[0;34m(.0)\u001b[0m\n\u001b[1;32m      1\u001b[0m \u001b[38;5;28;01mdef\u001b[39;00m \u001b[38;5;21mrandom_estimation_tests\u001b[39m(n_markers, n_fam_I, n_fam_II, n_tests, \u001b[38;5;241m*\u001b[39m\u001b[38;5;241m*\u001b[39mkwargs):\n\u001b[1;32m      2\u001b[0m     data \u001b[38;5;241m=\u001b[39m [\n\u001b[0;32m----> 3\u001b[0m         \u001b[43mrandom_estimation_test\u001b[49m\u001b[43m(\u001b[49m\u001b[43mn_markers\u001b[49m\u001b[43m,\u001b[49m\u001b[43m \u001b[49m\u001b[43mn_fam_I\u001b[49m\u001b[43m,\u001b[49m\u001b[43m \u001b[49m\u001b[43mn_fam_II\u001b[49m\u001b[43m,\u001b[49m\u001b[43m \u001b[49m\u001b[43mseed\u001b[49m\u001b[43m,\u001b[49m\u001b[43m \u001b[49m\u001b[43mestimate_mutation_rates\u001b[49m\u001b[38;5;241;43m=\u001b[39;49m\u001b[38;5;124;43m'\u001b[39;49m\u001b[38;5;124;43mall\u001b[39;49m\u001b[38;5;124;43m'\u001b[39;49m\u001b[43m,\u001b[49m\u001b[43m \u001b[49m\u001b[38;5;241;43m*\u001b[39;49m\u001b[38;5;241;43m*\u001b[39;49m\u001b[43mkwargs\u001b[49m\u001b[43m)\u001b[49m\n\u001b[1;32m      4\u001b[0m         \u001b[38;5;28;01mfor\u001b[39;00m seed \u001b[38;5;129;01min\u001b[39;00m tqdm(\u001b[38;5;28mrange\u001b[39m(n_tests))\n\u001b[1;32m      5\u001b[0m     ]\n\u001b[1;32m      6\u001b[0m     \u001b[38;5;66;03m# put results in a pandas DataFrame\u001b[39;00m\n\u001b[1;32m      7\u001b[0m     recomb_cols \u001b[38;5;241m=\u001b[39m [(\u001b[38;5;124m'\u001b[39m\u001b[38;5;124mRECOMBINATION\u001b[39m\u001b[38;5;124m'\u001b[39m, \u001b[38;5;124mf\u001b[39m\u001b[38;5;124m'\u001b[39m\u001b[38;5;124mM\u001b[39m\u001b[38;5;132;01m{\u001b[39;00mi\u001b[38;5;132;01m}\u001b[39;00m\u001b[38;5;124m-\u001b[39m\u001b[38;5;132;01m{\u001b[39;00mi\u001b[38;5;241m+\u001b[39m\u001b[38;5;241m1\u001b[39m\u001b[38;5;132;01m}\u001b[39;00m\u001b[38;5;124m'\u001b[39m) \u001b[38;5;28;01mfor\u001b[39;00m i \u001b[38;5;129;01min\u001b[39;00m \u001b[38;5;28mrange\u001b[39m(\u001b[38;5;241m1\u001b[39m, n_markers)]\n",
      "File \u001b[0;32m~/projects/recombulator-x/venv/lib/python3.8/site-packages/joblib/memory.py:594\u001b[0m, in \u001b[0;36mMemorizedFunc.__call__\u001b[0;34m(self, *args, **kwargs)\u001b[0m\n\u001b[1;32m    593\u001b[0m \u001b[38;5;28;01mdef\u001b[39;00m \u001b[38;5;21m__call__\u001b[39m(\u001b[38;5;28mself\u001b[39m, \u001b[38;5;241m*\u001b[39margs, \u001b[38;5;241m*\u001b[39m\u001b[38;5;241m*\u001b[39mkwargs):\n\u001b[0;32m--> 594\u001b[0m     \u001b[38;5;28;01mreturn\u001b[39;00m \u001b[38;5;28;43mself\u001b[39;49m\u001b[38;5;241;43m.\u001b[39;49m\u001b[43m_cached_call\u001b[49m\u001b[43m(\u001b[49m\u001b[43margs\u001b[49m\u001b[43m,\u001b[49m\u001b[43m \u001b[49m\u001b[43mkwargs\u001b[49m\u001b[43m)\u001b[49m[\u001b[38;5;241m0\u001b[39m]\n",
      "File \u001b[0;32m~/projects/recombulator-x/venv/lib/python3.8/site-packages/joblib/memory.py:537\u001b[0m, in \u001b[0;36mMemorizedFunc._cached_call\u001b[0;34m(self, args, kwargs, shelving)\u001b[0m\n\u001b[1;32m    534\u001b[0m         must_call \u001b[38;5;241m=\u001b[39m \u001b[38;5;28;01mTrue\u001b[39;00m\n\u001b[1;32m    536\u001b[0m \u001b[38;5;28;01mif\u001b[39;00m must_call:\n\u001b[0;32m--> 537\u001b[0m     out, metadata \u001b[38;5;241m=\u001b[39m \u001b[38;5;28;43mself\u001b[39;49m\u001b[38;5;241;43m.\u001b[39;49m\u001b[43mcall\u001b[49m\u001b[43m(\u001b[49m\u001b[38;5;241;43m*\u001b[39;49m\u001b[43margs\u001b[49m\u001b[43m,\u001b[49m\u001b[43m \u001b[49m\u001b[38;5;241;43m*\u001b[39;49m\u001b[38;5;241;43m*\u001b[39;49m\u001b[43mkwargs\u001b[49m\u001b[43m)\u001b[49m\n\u001b[1;32m    538\u001b[0m     \u001b[38;5;28;01mif\u001b[39;00m \u001b[38;5;28mself\u001b[39m\u001b[38;5;241m.\u001b[39mmmap_mode \u001b[38;5;129;01mis\u001b[39;00m \u001b[38;5;129;01mnot\u001b[39;00m \u001b[38;5;28;01mNone\u001b[39;00m:\n\u001b[1;32m    539\u001b[0m         \u001b[38;5;66;03m# Memmap the output at the first call to be consistent with\u001b[39;00m\n\u001b[1;32m    540\u001b[0m         \u001b[38;5;66;03m# later calls\u001b[39;00m\n\u001b[1;32m    541\u001b[0m         \u001b[38;5;28;01mif\u001b[39;00m \u001b[38;5;28mself\u001b[39m\u001b[38;5;241m.\u001b[39m_verbose:\n",
      "File \u001b[0;32m~/projects/recombulator-x/venv/lib/python3.8/site-packages/joblib/memory.py:779\u001b[0m, in \u001b[0;36mMemorizedFunc.call\u001b[0;34m(self, *args, **kwargs)\u001b[0m\n\u001b[1;32m    777\u001b[0m \u001b[38;5;28;01mif\u001b[39;00m \u001b[38;5;28mself\u001b[39m\u001b[38;5;241m.\u001b[39m_verbose \u001b[38;5;241m>\u001b[39m \u001b[38;5;241m0\u001b[39m:\n\u001b[1;32m    778\u001b[0m     \u001b[38;5;28mprint\u001b[39m(format_call(\u001b[38;5;28mself\u001b[39m\u001b[38;5;241m.\u001b[39mfunc, args, kwargs))\n\u001b[0;32m--> 779\u001b[0m output \u001b[38;5;241m=\u001b[39m \u001b[38;5;28;43mself\u001b[39;49m\u001b[38;5;241;43m.\u001b[39;49m\u001b[43mfunc\u001b[49m\u001b[43m(\u001b[49m\u001b[38;5;241;43m*\u001b[39;49m\u001b[43margs\u001b[49m\u001b[43m,\u001b[49m\u001b[43m \u001b[49m\u001b[38;5;241;43m*\u001b[39;49m\u001b[38;5;241;43m*\u001b[39;49m\u001b[43mkwargs\u001b[49m\u001b[43m)\u001b[49m\n\u001b[1;32m    780\u001b[0m \u001b[38;5;28mself\u001b[39m\u001b[38;5;241m.\u001b[39mstore_backend\u001b[38;5;241m.\u001b[39mdump_item(\n\u001b[1;32m    781\u001b[0m     [func_id, args_id], output, verbose\u001b[38;5;241m=\u001b[39m\u001b[38;5;28mself\u001b[39m\u001b[38;5;241m.\u001b[39m_verbose)\n\u001b[1;32m    783\u001b[0m duration \u001b[38;5;241m=\u001b[39m time\u001b[38;5;241m.\u001b[39mtime() \u001b[38;5;241m-\u001b[39m start_time\n",
      "Cell \u001b[0;32mIn [3], line 10\u001b[0m, in \u001b[0;36mrandom_estimation_test\u001b[0;34m(n_markers, n_fam_I, n_fam_II, seed, **kwargs)\u001b[0m\n\u001b[1;32m      8\u001b[0m fams \u001b[38;5;241m+\u001b[39m\u001b[38;5;241m=\u001b[39m [recombulatorx\u001b[38;5;241m.\u001b[39mtesting\u001b[38;5;241m.\u001b[39mgenerate_processed_family(\u001b[38;5;124mf\u001b[39m\u001b[38;5;124m'\u001b[39m\u001b[38;5;124mFAM_II_\u001b[39m\u001b[38;5;132;01m{\u001b[39;00mi\u001b[38;5;132;01m}\u001b[39;00m\u001b[38;5;124m'\u001b[39m, \u001b[38;5;241m2\u001b[39m, \u001b[38;5;28;01mFalse\u001b[39;00m, \u001b[38;5;241m*\u001b[39msimulated_rates) \u001b[38;5;28;01mfor\u001b[39;00m i \u001b[38;5;129;01min\u001b[39;00m \u001b[38;5;28mrange\u001b[39m(n_fam_II)]\n\u001b[1;32m      9\u001b[0m t1 \u001b[38;5;241m=\u001b[39m time()\n\u001b[0;32m---> 10\u001b[0m estimated_rates \u001b[38;5;241m=\u001b[39m \u001b[43mrecombulatorx\u001b[49m\u001b[38;5;241;43m.\u001b[39;49m\u001b[43mestimate_rates\u001b[49m\u001b[43m(\u001b[49m\u001b[43mfams\u001b[49m\u001b[43m,\u001b[49m\u001b[43m \u001b[49m\u001b[38;5;241;43m0.1\u001b[39;49m\u001b[43m,\u001b[49m\u001b[43m \u001b[49m\u001b[38;5;241;43m0.1\u001b[39;49m\u001b[43m,\u001b[49m\u001b[43m \u001b[49m\u001b[38;5;241;43m*\u001b[39;49m\u001b[38;5;241;43m*\u001b[39;49m\u001b[43mkwargs\u001b[49m\u001b[43m)\u001b[49m\n\u001b[1;32m     11\u001b[0m elapsed_time \u001b[38;5;241m=\u001b[39m time() \u001b[38;5;241m-\u001b[39m t1\n\u001b[1;32m     12\u001b[0m \u001b[38;5;28;01mreturn\u001b[39;00m simulated_rates, estimated_rates, elapsed_time\n",
      "File \u001b[0;32m~/projects/recombulator-x/recombulatorx/estimate.py:152\u001b[0m, in \u001b[0;36mestimate_rates\u001b[0;34m(families, starting_recombination_rates, starting_mutation_rates, estimate_mutation_rates, implementation, optimization_method, maxiter)\u001b[0m\n\u001b[1;32m    143\u001b[0m r \u001b[38;5;241m=\u001b[39m scipy\u001b[38;5;241m.\u001b[39moptimize\u001b[38;5;241m.\u001b[39mminimize(\n\u001b[1;32m    144\u001b[0m     fun\u001b[38;5;241m=\u001b[39mlikelihood_objective_function, x0\u001b[38;5;241m=\u001b[39mx0,\n\u001b[1;32m    145\u001b[0m     args\u001b[38;5;241m=\u001b[39m(families, estimate_mutation_rates, starting_mutation_rates, implementation),\n\u001b[0;32m   (...)\u001b[0m\n\u001b[1;32m    148\u001b[0m     options\u001b[38;5;241m=\u001b[39m\u001b[38;5;28mdict\u001b[39m(maxiter\u001b[38;5;241m=\u001b[39mmaxiter),\n\u001b[1;32m    149\u001b[0m )\n\u001b[1;32m    151\u001b[0m \u001b[38;5;28;01mif\u001b[39;00m \u001b[38;5;129;01mnot\u001b[39;00m r\u001b[38;5;241m.\u001b[39msuccess:\n\u001b[0;32m--> 152\u001b[0m     \u001b[38;5;28;01mraise\u001b[39;00m \u001b[38;5;167;01mValueError\u001b[39;00m(\u001b[38;5;124mf\u001b[39m\u001b[38;5;124m\"\u001b[39m\u001b[38;5;124mMinimization failed to converge: \u001b[39m\u001b[38;5;132;01m{\u001b[39;00mr\u001b[38;5;241m.\u001b[39mmessage\u001b[38;5;132;01m}\u001b[39;00m\u001b[38;5;124m\"\u001b[39m)\n\u001b[1;32m    154\u001b[0m \u001b[38;5;28;01mif\u001b[39;00m estimate_mutation_rates \u001b[38;5;241m==\u001b[39m \u001b[38;5;124m'\u001b[39m\u001b[38;5;124mno\u001b[39m\u001b[38;5;124m'\u001b[39m:\n\u001b[1;32m    155\u001b[0m     est \u001b[38;5;241m=\u001b[39m r\u001b[38;5;241m.\u001b[39mx\n",
      "\u001b[0;31mValueError\u001b[0m: Minimization failed to converge: STOP: TOTAL NO. of f AND g EVALUATIONS EXCEEDS LIMIT"
     ]
    }
   ],
   "source": [
    "n_fam_I = 100\n",
    "n_fam_II = 0\n",
    "marker_tests = {}\n",
    "for n_markers in [12, 15, 20, 30, 50, 75, 100, 125, 150]:\n",
    "    print(f'{n_markers=}')\n",
    "    marker_tests[n_markers] = random_estimation_tests(n_markers, n_fam_I, n_fam_II, 10)"
   ]
  },
  {
   "cell_type": "code",
   "execution_count": null,
   "id": "c13ecbd6-0419-48b5-84c4-ccf5ab7e4148",
   "metadata": {},
   "outputs": [],
   "source": [
    "acc = {}\n",
    "mae_acc = {}\n",
    "for n_markers, df in marker_tests.items():\n",
    "    delta = df['ESTIMATED'] - df['SIMULATED']\n",
    "    mae_acc[n_markers] = delta.abs().mean()\n",
    "    stats = delta.stack().apply(['mean', 'std'])\n",
    "    stats['TIME'] = df[('ELAPSED TIME', None, None)].apply(['mean', 'std'])\n",
    "    #stats = stats.unstack(level=0)\n",
    "    #stats['MAE'] = delta.abs().mean()\n",
    "    acc[n_markers] = stats\n",
    "    #delta.apply(['mean', 'std'])\n",
    "df = pandas.concat(acc, names=['n_markers'])\n",
    "df"
   ]
  },
  {
   "cell_type": "code",
   "execution_count": null,
   "id": "3d9dc95d-14b0-4bf9-9e01-3a5059101334",
   "metadata": {},
   "outputs": [],
   "source": [
    "pandas.concat(mae_acc, names=['n_markers']).reset_index().groupby(['n_markers', 'RATE']).mean()"
   ]
  },
  {
   "cell_type": "code",
   "execution_count": null,
   "id": "e55e1785-0b73-4b59-aba6-a7f8c55866eb",
   "metadata": {},
   "outputs": [],
   "source": [
    "df.loc[(slice(None), slice('mean')), :]"
   ]
  },
  {
   "cell_type": "code",
   "execution_count": null,
   "id": "bfbb1e54-cf07-4e16-b2e6-557845fa156f",
   "metadata": {},
   "outputs": [],
   "source": [
    "if False:\n",
    "    n_markers = 12\n",
    "    delta = marker_tests[n_markers]['ESTIMATED'] - marker_tests[n_markers]['SIMULATED']\n",
    "    delta.to_csv('delta12.csv')\n",
    "    delta.columns = delta.columns.get_level_values('MARKER')\n",
    "    delta.boxplot(figsize=(8, 4))\n",
    "    import matplotlib.pyplot as plt\n",
    "    plt.xticks(rotation=90);\n",
    "    plt.savefig('deltas12.pdf')"
   ]
  },
  {
   "cell_type": "code",
   "execution_count": null,
   "id": "0a8c4aad-f9cd-4fa4-a35d-471576a0f26e",
   "metadata": {},
   "outputs": [],
   "source": [
    "print(pandas.concat(acc, names=['n_markers']).to_latex())"
   ]
  },
  {
   "cell_type": "markdown",
   "id": "66d88b2f-2d9b-44fc-bcb3-eb0afe90c8b7",
   "metadata": {},
   "source": [
    "# Tests varying the number of families"
   ]
  },
  {
   "cell_type": "code",
   "execution_count": null,
   "id": "5e419072-46c4-489a-84e2-1d673a16b210",
   "metadata": {},
   "outputs": [],
   "source": [
    "n_markers = 15\n",
    "n_fam_II = 0\n",
    "n_tests = 100\n",
    "fam_I_acc = {}\n",
    "for n_fam_I_log2 in range(1, 11):\n",
    "    n_fam_I = 2**n_fam_I_log2\n",
    "    fam_I_acc[n_fam_I] = random_estimation_tests(n_markers, n_fam_I, n_fam_II, n_tests)"
   ]
  },
  {
   "cell_type": "code",
   "execution_count": null,
   "id": "afcc8bdc-c3f2-422d-8e1e-02c29eb0e222",
   "metadata": {},
   "outputs": [],
   "source": []
  },
  {
   "cell_type": "code",
   "execution_count": null,
   "id": "efe997c8-9135-4539-9e0b-9413ff26120d",
   "metadata": {},
   "outputs": [],
   "source": []
  },
  {
   "cell_type": "code",
   "execution_count": null,
   "id": "61de2c55-4ac3-479b-9f48-004c38fc0d11",
   "metadata": {},
   "outputs": [],
   "source": [
    "assert False"
   ]
  },
  {
   "cell_type": "code",
   "execution_count": null,
   "id": "b9dd6d67-4b0b-4165-9582-3dd598339dfe",
   "metadata": {},
   "outputs": [],
   "source": [
    "delta = df['ESTIMATED'] - df['SIMULATED']\n",
    "delta.head()"
   ]
  },
  {
   "cell_type": "code",
   "execution_count": null,
   "id": "25f41838-e3e5-4cf4-8179-fbb9d68bd479",
   "metadata": {},
   "outputs": [],
   "source": [
    "delta.apply(['mean', 'std'])"
   ]
  },
  {
   "cell_type": "code",
   "execution_count": null,
   "id": "7b861206-59f3-4e40-a8dc-83d7ff05e800",
   "metadata": {},
   "outputs": [],
   "source": [
    "delta.plot.box()"
   ]
  },
  {
   "cell_type": "code",
   "execution_count": null,
   "id": "d5807b3f-e9cf-4512-8759-a3b859eee871",
   "metadata": {},
   "outputs": [],
   "source": [
    "ratio = numpy.log2(df['ESTIMATED']/df['SIMULATED'])\n",
    "ratio.head()"
   ]
  },
  {
   "cell_type": "code",
   "execution_count": null,
   "id": "69742de6-e138-4e98-8d12-121b84d0f713",
   "metadata": {},
   "outputs": [],
   "source": [
    "r = ratio.stack(['RATE', 'MARKER'])\n",
    "s = df.loc[:, 'SIMULATED'].stack(['RATE', 'MARKER'])\n",
    "r.loc[s >= 1e-3].unstack(['RATE', 'MARKER']).plot.box()"
   ]
  },
  {
   "cell_type": "code",
   "execution_count": null,
   "id": "f3742a8d-fd6d-4059-9620-fafba96d7945",
   "metadata": {},
   "outputs": [],
   "source": [
    "r.loc[s >= 1e-3].std()"
   ]
  },
  {
   "cell_type": "code",
   "execution_count": null,
   "id": "a413e0a8-1985-447b-b022-211f6d5d6af3",
   "metadata": {},
   "outputs": [],
   "source": [
    "r.loc[s >= 1e-2].unstack(['RATE', 'MARKER']).quantile([0.025, 0.5, 0.975])"
   ]
  },
  {
   "cell_type": "code",
   "execution_count": null,
   "id": "bb5b8f20-25a3-46c5-8f33-1e4d9531020e",
   "metadata": {},
   "outputs": [],
   "source": [
    "seaborn.displot(r.loc[s >= 1e-2])"
   ]
  },
  {
   "cell_type": "code",
   "execution_count": null,
   "id": "931aa2e0-ecc4-4674-8b85-86fc0b443955",
   "metadata": {},
   "outputs": [],
   "source": []
  },
  {
   "cell_type": "code",
   "execution_count": null,
   "id": "a70ff177-4bab-498d-bf91-b0c807a20ddd",
   "metadata": {},
   "outputs": [],
   "source": [
    "pandas.concat([\n",
    "    df.drop('ELAPSED TIME', axis=1).stack(['RATE', 'MARKER']), \n",
    "    pandas.DataFrame({'r': r, 's': s})\n",
    "], axis=1).sort_values('r')"
   ]
  },
  {
   "cell_type": "code",
   "execution_count": null,
   "id": "f8187327-23c6-4ac8-a51b-eabf49df7c92",
   "metadata": {},
   "outputs": [],
   "source": [
    "s >= 1e04"
   ]
  },
  {
   "cell_type": "code",
   "execution_count": null,
   "id": "0e35a106-6cf1-43d0-ba9d-af816c835d3b",
   "metadata": {},
   "outputs": [],
   "source": [
    "delta.loc[sorted(delta.abs().idxmax())]"
   ]
  },
  {
   "cell_type": "code",
   "execution_count": null,
   "id": "f6517a4b-00bf-40eb-96be-ce55fd945814",
   "metadata": {},
   "outputs": [],
   "source": [
    "df.loc[sorted(delta.abs().idxmax()), (['SIMULATED', 'ESTIMATED'], 'RECOMBINATION', )]"
   ]
  },
  {
   "cell_type": "code",
   "execution_count": null,
   "id": "c1fa4922-12fb-4c2b-89e7-72fb9463e23f",
   "metadata": {},
   "outputs": [],
   "source": [
    "df.loc[sorted(delta.abs().idxmax()), [('SIMULATED', 'RECOMBINATION')]]"
   ]
  },
  {
   "cell_type": "code",
   "execution_count": null,
   "id": "7782c42e-0130-4e8a-aff1-85974ea10776",
   "metadata": {},
   "outputs": [],
   "source": [
    "seaborn.boxplot(data=delta)"
   ]
  },
  {
   "cell_type": "code",
   "execution_count": null,
   "id": "98a9b00c-146a-4e1c-8e3e-f8d42f0a3725",
   "metadata": {},
   "outputs": [],
   "source": [
    "seaborn.displot(df[('ELAPSED TIME', None, None)])"
   ]
  },
  {
   "cell_type": "code",
   "execution_count": null,
   "id": "d0c69849-94ad-45f6-9631-37123f7c0c88",
   "metadata": {},
   "outputs": [],
   "source": []
  }
 ],
 "metadata": {
  "kernelspec": {
   "display_name": "Python 3 (ipykernel)",
   "language": "python",
   "name": "python3"
  },
  "language_info": {
   "codemirror_mode": {
    "name": "ipython",
    "version": 3
   },
   "file_extension": ".py",
   "mimetype": "text/x-python",
   "name": "python",
   "nbconvert_exporter": "python",
   "pygments_lexer": "ipython3",
   "version": "3.8.12"
  }
 },
 "nbformat": 4,
 "nbformat_minor": 5
}
