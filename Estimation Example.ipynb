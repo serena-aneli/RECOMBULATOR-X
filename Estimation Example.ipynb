{
 "cells": [
  {
   "cell_type": "markdown",
   "id": "56da4b6f-d30b-439b-bed2-72310265891c",
   "metadata": {},
   "source": [
    "# Estimate recombination and mutation rates from a simulated dataset"
   ]
  },
  {
   "cell_type": "code",
   "execution_count": 1,
   "id": "95cfc9f8-f5d2-4fae-80cb-f06d6bc66b7e",
   "metadata": {},
   "outputs": [],
   "source": [
    "import numpy\n",
    "import pandas\n",
    "import recombulatorx"
   ]
  },
  {
   "cell_type": "markdown",
   "id": "f0f47596-4e80-47b8-86aa-37a31545cc19",
   "metadata": {},
   "source": []
  },
  {
   "cell_type": "code",
   "execution_count": 2,
   "id": "3861fb77-6661-4f89-81bf-e9e39980af35",
   "metadata": {},
   "outputs": [],
   "source": [
    "my_recomb_rates = numpy.array([0.05, 0.3, 0.01, 0.2, 0.01])\n",
    "my_mut_rates = numpy.array([1e-4, 1e-4, 1e-2, 1e-3, 1e-4, 1e-4])\n",
    "n_fam_I = 100\n",
    "n_fam_II = 100\n",
    "ped_path = 'testsim.tsv'"
   ]
  },
  {
   "cell_type": "markdown",
   "id": "5821e6a0-26e7-419c-b4b2-111da399d76a",
   "metadata": {},
   "source": [
    "### write a simulated dataset from the given rates"
   ]
  },
  {
   "cell_type": "code",
   "execution_count": 3,
   "id": "34a9d641-d13d-4c02-8463-3a9461a61ec4",
   "metadata": {},
   "outputs": [],
   "source": [
    "numpy.random.seed(0)"
   ]
  },
  {
   "cell_type": "code",
   "execution_count": 4,
   "id": "48dd9639-a911-485d-b494-6ffa34840e93",
   "metadata": {},
   "outputs": [],
   "source": [
    "from recombulatorx.testing import individuals2ped, generate_complex_families"
   ]
  },
  {
   "cell_type": "code",
   "execution_count": 25,
   "id": "493ae949-729d-42c9-b53c-23843f2d87ed",
   "metadata": {},
   "outputs": [
    {
     "name": "stdout",
     "output_type": "stream",
     "text": [
      "Help on function individuals2ped in module recombulatorx.testing:\n",
      "\n",
      "individuals2ped(path, marker_names, individuals)\n",
      "\n"
     ]
    }
   ],
   "source": [
    "help(individuals2ped)"
   ]
  },
  {
   "cell_type": "code",
   "execution_count": 26,
   "id": "6089e59b-3626-45a1-b66e-8cbfc57cd24b",
   "metadata": {},
   "outputs": [
    {
     "name": "stdout",
     "output_type": "stream",
     "text": [
      "Help on function generate_complex_families in module recombulatorx.testing:\n",
      "\n",
      "generate_complex_families(n_fam_I: int, n_fam_II: int, recombination_rates, mutation_rates)\n",
      "\n"
     ]
    }
   ],
   "source": [
    "help(generate_complex_families)"
   ]
  },
  {
   "cell_type": "code",
   "execution_count": 31,
   "id": "b388aac9-ca79-405e-bf47-ec31f557cf74",
   "metadata": {},
   "outputs": [],
   "source": [
    "individuals2ped(\n",
    "    path=ped_path, \n",
    "    marker_names=[f'M{i+1}' for i, _ in enumerate(my_mut_rates)], \n",
    "    individuals=generate_complex_families(n_fam_I, n_fam_II, my_recomb_rates, my_mut_rates)\n",
    ")"
   ]
  },
  {
   "cell_type": "code",
   "execution_count": 32,
   "id": "5d7fedbd-0190-4302-8e5f-15128af9af00",
   "metadata": {},
   "outputs": [
    {
     "data": {
      "text/html": [
       "<div>\n",
       "<style scoped>\n",
       "    .dataframe tbody tr th:only-of-type {\n",
       "        vertical-align: middle;\n",
       "    }\n",
       "\n",
       "    .dataframe tbody tr th {\n",
       "        vertical-align: top;\n",
       "    }\n",
       "\n",
       "    .dataframe thead th {\n",
       "        text-align: right;\n",
       "    }\n",
       "</style>\n",
       "<table border=\"1\" class=\"dataframe\">\n",
       "  <thead>\n",
       "    <tr style=\"text-align: right;\">\n",
       "      <th></th>\n",
       "      <th>FID</th>\n",
       "      <th>IID</th>\n",
       "      <th>PAT</th>\n",
       "      <th>MAT</th>\n",
       "      <th>SEX</th>\n",
       "      <th>PHENO</th>\n",
       "      <th>M1-A1</th>\n",
       "      <th>M1-A2</th>\n",
       "      <th>M2-A1</th>\n",
       "      <th>M2-A2</th>\n",
       "      <th>M3-A1</th>\n",
       "      <th>M3-A2</th>\n",
       "      <th>M4-A1</th>\n",
       "      <th>M4-A2</th>\n",
       "      <th>M5-A1</th>\n",
       "      <th>M5-A2</th>\n",
       "      <th>M6-A1</th>\n",
       "      <th>M6-A2</th>\n",
       "    </tr>\n",
       "  </thead>\n",
       "  <tbody>\n",
       "    <tr>\n",
       "      <th>0</th>\n",
       "      <td>FAM_0_I</td>\n",
       "      <td>GRANDFATHER</td>\n",
       "      <td>0</td>\n",
       "      <td>0</td>\n",
       "      <td>1</td>\n",
       "      <td>-1</td>\n",
       "      <td>14.0</td>\n",
       "      <td>0.0</td>\n",
       "      <td>21.0</td>\n",
       "      <td>0.0</td>\n",
       "      <td>38.0</td>\n",
       "      <td>0.0</td>\n",
       "      <td>44.0</td>\n",
       "      <td>0.0</td>\n",
       "      <td>54.0</td>\n",
       "      <td>0.0</td>\n",
       "      <td>62.0</td>\n",
       "      <td>0.0</td>\n",
       "    </tr>\n",
       "    <tr>\n",
       "      <th>1</th>\n",
       "      <td>FAM_0_I</td>\n",
       "      <td>MOTHER</td>\n",
       "      <td>GRANDFATHER</td>\n",
       "      <td>0</td>\n",
       "      <td>2</td>\n",
       "      <td>-1</td>\n",
       "      <td>14.0</td>\n",
       "      <td>17.0</td>\n",
       "      <td>21.0</td>\n",
       "      <td>22.0</td>\n",
       "      <td>37.0</td>\n",
       "      <td>38.0</td>\n",
       "      <td>41.0</td>\n",
       "      <td>44.0</td>\n",
       "      <td>54.0</td>\n",
       "      <td>54.0</td>\n",
       "      <td>61.0</td>\n",
       "      <td>62.0</td>\n",
       "    </tr>\n",
       "    <tr>\n",
       "      <th>2</th>\n",
       "      <td>FAM_0_I</td>\n",
       "      <td>SON_1</td>\n",
       "      <td>0</td>\n",
       "      <td>MOTHER</td>\n",
       "      <td>1</td>\n",
       "      <td>-1</td>\n",
       "      <td>14.0</td>\n",
       "      <td>0.0</td>\n",
       "      <td>21.0</td>\n",
       "      <td>0.0</td>\n",
       "      <td>38.0</td>\n",
       "      <td>0.0</td>\n",
       "      <td>44.0</td>\n",
       "      <td>0.0</td>\n",
       "      <td>54.0</td>\n",
       "      <td>0.0</td>\n",
       "      <td>62.0</td>\n",
       "      <td>0.0</td>\n",
       "    </tr>\n",
       "    <tr>\n",
       "      <th>3</th>\n",
       "      <td>FAM_0_I</td>\n",
       "      <td>SON_2</td>\n",
       "      <td>0</td>\n",
       "      <td>MOTHER</td>\n",
       "      <td>1</td>\n",
       "      <td>-1</td>\n",
       "      <td>14.0</td>\n",
       "      <td>0.0</td>\n",
       "      <td>21.0</td>\n",
       "      <td>0.0</td>\n",
       "      <td>37.0</td>\n",
       "      <td>0.0</td>\n",
       "      <td>41.0</td>\n",
       "      <td>0.0</td>\n",
       "      <td>54.0</td>\n",
       "      <td>0.0</td>\n",
       "      <td>61.0</td>\n",
       "      <td>0.0</td>\n",
       "    </tr>\n",
       "    <tr>\n",
       "      <th>4</th>\n",
       "      <td>FAM_0_I</td>\n",
       "      <td>FATHER_1</td>\n",
       "      <td>0</td>\n",
       "      <td>0</td>\n",
       "      <td>1</td>\n",
       "      <td>-1</td>\n",
       "      <td>11.0</td>\n",
       "      <td>0.0</td>\n",
       "      <td>22.0</td>\n",
       "      <td>0.0</td>\n",
       "      <td>35.0</td>\n",
       "      <td>0.0</td>\n",
       "      <td>43.0</td>\n",
       "      <td>0.0</td>\n",
       "      <td>53.0</td>\n",
       "      <td>0.0</td>\n",
       "      <td>69.0</td>\n",
       "      <td>0.0</td>\n",
       "    </tr>\n",
       "    <tr>\n",
       "      <th>5</th>\n",
       "      <td>FAM_0_I</td>\n",
       "      <td>DAUGHTER_1</td>\n",
       "      <td>FATHER_1</td>\n",
       "      <td>MOTHER</td>\n",
       "      <td>2</td>\n",
       "      <td>-1</td>\n",
       "      <td>11.0</td>\n",
       "      <td>14.0</td>\n",
       "      <td>21.0</td>\n",
       "      <td>22.0</td>\n",
       "      <td>35.0</td>\n",
       "      <td>38.0</td>\n",
       "      <td>43.0</td>\n",
       "      <td>44.0</td>\n",
       "      <td>53.0</td>\n",
       "      <td>54.0</td>\n",
       "      <td>61.0</td>\n",
       "      <td>69.0</td>\n",
       "    </tr>\n",
       "    <tr>\n",
       "      <th>6</th>\n",
       "      <td>FAM_0_I</td>\n",
       "      <td>FATHER_2</td>\n",
       "      <td>0</td>\n",
       "      <td>0</td>\n",
       "      <td>1</td>\n",
       "      <td>-1</td>\n",
       "      <td>12.0</td>\n",
       "      <td>0.0</td>\n",
       "      <td>24.0</td>\n",
       "      <td>0.0</td>\n",
       "      <td>32.0</td>\n",
       "      <td>0.0</td>\n",
       "      <td>42.0</td>\n",
       "      <td>0.0</td>\n",
       "      <td>59.0</td>\n",
       "      <td>0.0</td>\n",
       "      <td>65.0</td>\n",
       "      <td>0.0</td>\n",
       "    </tr>\n",
       "    <tr>\n",
       "      <th>7</th>\n",
       "      <td>FAM_0_I</td>\n",
       "      <td>DAUGHTER_2</td>\n",
       "      <td>FATHER_2</td>\n",
       "      <td>MOTHER</td>\n",
       "      <td>2</td>\n",
       "      <td>-1</td>\n",
       "      <td>12.0</td>\n",
       "      <td>14.0</td>\n",
       "      <td>21.0</td>\n",
       "      <td>24.0</td>\n",
       "      <td>32.0</td>\n",
       "      <td>38.0</td>\n",
       "      <td>42.0</td>\n",
       "      <td>44.0</td>\n",
       "      <td>54.0</td>\n",
       "      <td>59.0</td>\n",
       "      <td>62.0</td>\n",
       "      <td>65.0</td>\n",
       "    </tr>\n",
       "    <tr>\n",
       "      <th>8</th>\n",
       "      <td>FAM_1_I</td>\n",
       "      <td>GRANDFATHER</td>\n",
       "      <td>0</td>\n",
       "      <td>0</td>\n",
       "      <td>1</td>\n",
       "      <td>-1</td>\n",
       "      <td>15.0</td>\n",
       "      <td>0.0</td>\n",
       "      <td>27.0</td>\n",
       "      <td>0.0</td>\n",
       "      <td>37.0</td>\n",
       "      <td>0.0</td>\n",
       "      <td>46.0</td>\n",
       "      <td>0.0</td>\n",
       "      <td>58.0</td>\n",
       "      <td>0.0</td>\n",
       "      <td>68.0</td>\n",
       "      <td>0.0</td>\n",
       "    </tr>\n",
       "    <tr>\n",
       "      <th>9</th>\n",
       "      <td>FAM_1_I</td>\n",
       "      <td>MOTHER</td>\n",
       "      <td>GRANDFATHER</td>\n",
       "      <td>0</td>\n",
       "      <td>2</td>\n",
       "      <td>-1</td>\n",
       "      <td>11.0</td>\n",
       "      <td>15.0</td>\n",
       "      <td>22.0</td>\n",
       "      <td>27.0</td>\n",
       "      <td>35.0</td>\n",
       "      <td>37.0</td>\n",
       "      <td>45.0</td>\n",
       "      <td>46.0</td>\n",
       "      <td>53.0</td>\n",
       "      <td>58.0</td>\n",
       "      <td>62.0</td>\n",
       "      <td>68.0</td>\n",
       "    </tr>\n",
       "  </tbody>\n",
       "</table>\n",
       "</div>"
      ],
      "text/plain": [
       "       FID          IID          PAT     MAT  SEX  PHENO  M1-A1  M1-A2  M2-A1  \\\n",
       "0  FAM_0_I  GRANDFATHER            0       0    1     -1   14.0    0.0   21.0   \n",
       "1  FAM_0_I       MOTHER  GRANDFATHER       0    2     -1   14.0   17.0   21.0   \n",
       "2  FAM_0_I        SON_1            0  MOTHER    1     -1   14.0    0.0   21.0   \n",
       "3  FAM_0_I        SON_2            0  MOTHER    1     -1   14.0    0.0   21.0   \n",
       "4  FAM_0_I     FATHER_1            0       0    1     -1   11.0    0.0   22.0   \n",
       "5  FAM_0_I   DAUGHTER_1     FATHER_1  MOTHER    2     -1   11.0   14.0   21.0   \n",
       "6  FAM_0_I     FATHER_2            0       0    1     -1   12.0    0.0   24.0   \n",
       "7  FAM_0_I   DAUGHTER_2     FATHER_2  MOTHER    2     -1   12.0   14.0   21.0   \n",
       "8  FAM_1_I  GRANDFATHER            0       0    1     -1   15.0    0.0   27.0   \n",
       "9  FAM_1_I       MOTHER  GRANDFATHER       0    2     -1   11.0   15.0   22.0   \n",
       "\n",
       "   M2-A2  M3-A1  M3-A2  M4-A1  M4-A2  M5-A1  M5-A2  M6-A1  M6-A2  \n",
       "0    0.0   38.0    0.0   44.0    0.0   54.0    0.0   62.0    0.0  \n",
       "1   22.0   37.0   38.0   41.0   44.0   54.0   54.0   61.0   62.0  \n",
       "2    0.0   38.0    0.0   44.0    0.0   54.0    0.0   62.0    0.0  \n",
       "3    0.0   37.0    0.0   41.0    0.0   54.0    0.0   61.0    0.0  \n",
       "4    0.0   35.0    0.0   43.0    0.0   53.0    0.0   69.0    0.0  \n",
       "5   22.0   35.0   38.0   43.0   44.0   53.0   54.0   61.0   69.0  \n",
       "6    0.0   32.0    0.0   42.0    0.0   59.0    0.0   65.0    0.0  \n",
       "7   24.0   32.0   38.0   42.0   44.0   54.0   59.0   62.0   65.0  \n",
       "8    0.0   37.0    0.0   46.0    0.0   58.0    0.0   68.0    0.0  \n",
       "9   27.0   35.0   37.0   45.0   46.0   53.0   58.0   62.0   68.0  "
      ]
     },
     "execution_count": 32,
     "metadata": {},
     "output_type": "execute_result"
    }
   ],
   "source": [
    "pandas.read_csv(ped_path, sep='\\t').head(10)"
   ]
  },
  {
   "cell_type": "markdown",
   "id": "7768e352-dfde-4136-b54e-cb3c1b31661d",
   "metadata": {},
   "source": [
    "### read ped"
   ]
  },
  {
   "cell_type": "markdown",
   "id": "dce6e90e-4406-46fa-bd87-ed52a3897ae1",
   "metadata": {},
   "source": [
    "load the simulated dataset"
   ]
  },
  {
   "cell_type": "code",
   "execution_count": 6,
   "id": "cd09f894-fdf8-47f0-bb16-4bb2cd67b0ba",
   "metadata": {},
   "outputs": [
    {
     "data": {
      "text/plain": [
       "200"
      ]
     },
     "execution_count": 6,
     "metadata": {},
     "output_type": "execute_result"
    }
   ],
   "source": [
    "family_graphs, marker_names = recombulatorx.ped2graph(ped_path)\n",
    "len(family_graphs)"
   ]
  },
  {
   "cell_type": "code",
   "execution_count": 17,
   "id": "cfdc1f5b-8f85-49ab-b1af-0bfe20e3ca30",
   "metadata": {},
   "outputs": [
    {
     "data": {
      "image/png": "[encoded data removed]",
      "text/plain": [
       "<Figure size 432x288 with 1 Axes>"
      ]
     },
     "metadata": {},
     "output_type": "display_data"
    }
   ],
   "source": [
    "recombulatorx.families.plot_family_graph(family_graphs[0][1]);"
   ]
  },
  {
   "cell_type": "code",
   "execution_count": 18,
   "id": "548ade53-7409-415e-9e62-395d69e2da70",
   "metadata": {},
   "outputs": [
    {
     "data": {
      "text/plain": [
       "<AxesSubplot:xlabel='level_0', ylabel='0'>"
      ]
     },
     "execution_count": 18,
     "metadata": {},
     "output_type": "execute_result"
    }
   ],
   "source": [
    "_"
   ]
  },
  {
   "cell_type": "code",
   "execution_count": 8,
   "id": "c1ac7846-b84e-4f97-b5ab-fadd1491b0eb",
   "metadata": {},
   "outputs": [
    {
     "data": {
      "text/plain": [
       "(200,\n",
       " ProcessedFamily(fid=('FAM_0_I', 'MOTHER'), is_mother_phased=True, mother=array([[12., 16.],\n",
       "        [29., 27.],\n",
       "        [39., 34.],\n",
       "        [43., 49.],\n",
       "        [59., 54.],\n",
       "        [68., 66.]]), maternal_haplotypes=array([[12., 29., 34., 49., 54., 66.],\n",
       "        [16., 27., 34., 49., 54., 66.],\n",
       "        [12., 29., 39., 43., 59., 68.]])))"
      ]
     },
     "execution_count": 8,
     "metadata": {},
     "output_type": "execute_result"
    }
   ],
   "source": [
    "processed_families = recombulatorx.preprocess_families(family_graphs)\n",
    "len(processed_families), processed_families[0]"
   ]
  },
  {
   "cell_type": "code",
   "execution_count": 9,
   "id": "690c1f19-3d33-4934-a275-8524a526f71c",
   "metadata": {},
   "outputs": [
    {
     "name": "stdout",
     "output_type": "stream",
     "text": [
      "Help on function estimate_rates in module recombulatorx.estimate:\n",
      "\n",
      "estimate_rates(families, starting_recombination_rates=0.05, starting_mutation_rates=0.001, estimate_mutation_rates='no', implementation=None, optimization_method='L-BFGS-B', maxiter=1000)\n",
      "    Estimate recombination and optionally mutation rates from a set of families by expectation maximization, that is by finding recombination and mutation rates that maximize the likelihood of observing the given families.\n",
      "    Implemented using scipy.optimize.minimize to find recombination and mutation rates that minimize the negative log likelihood.\n",
      "    \n",
      "    families: sequence of families\n",
      "        the preprocessed genetic data of all the families\n",
      "    starting_recombination_rates: array of shape (n_markers - 1, )\n",
      "        starting probability of recombination between adjacent markers as initial \n",
      "    starting_mutation_rates: array of shape (n_markers, )\n",
      "        probability of unit mutation (+1 or -1) for each marker\n",
      "    estimate_mutation_rates: string\n",
      "        one of 'no', 'one', 'all'. If 'no' \n",
      "    implementation: string\n",
      "        the name of the implementation to use for the likelihood computation\n",
      "    optimization_method: string\n",
      "        the name of the method to be passed to scipy.optimize.minimize\n",
      "    maxiter: int\n",
      "        the maximum number of optimizing iterations (passed to scipy.optimize.minimize)\n",
      "      \n",
      "    Returns: arrays\n",
      "        an array of estimated recombination rates if estimate_mutation_rates is 'no',\n",
      "        a tuple of an array of estimated recombination rates and a scalar mutation rate if estimate_mutation_rates is 'one',\n",
      "                a tuple of an array of estimated recombination rates and an array of mutation rates if estimate_mutation_rates is 'all'\n",
      "\n"
     ]
    }
   ],
   "source": [
    "help(recombulatorx.estimate_rates)"
   ]
  },
  {
   "cell_type": "code",
   "execution_count": 10,
   "id": "d88ff711-f4d9-4ba4-a201-6a4c86f7967f",
   "metadata": {},
   "outputs": [],
   "source": [
    "est_recomb_rates, est_mut_rates = recombulatorx.estimate_rates(processed_families, 0.1, 0.1, estimate_mutation_rates='all')"
   ]
  },
  {
   "cell_type": "code",
   "execution_count": 11,
   "id": "cbea7880-1aac-42a6-853f-c6e808334ce9",
   "metadata": {},
   "outputs": [
    {
     "data": {
      "text/plain": [
       "(array([0.05, 0.3 , 0.01, 0.2 , 0.01]),\n",
       " array([0.0001, 0.0001, 0.01  , 0.001 , 0.0001, 0.0001]))"
      ]
     },
     "execution_count": 11,
     "metadata": {},
     "output_type": "execute_result"
    }
   ],
   "source": [
    "my_recomb_rates, my_mut_rates"
   ]
  },
  {
   "cell_type": "code",
   "execution_count": 12,
   "id": "a0da2bb3-e67f-4f7a-b821-b7b944168b71",
   "metadata": {},
   "outputs": [
    {
     "data": {
      "text/plain": [
       "(array([0.03694945, 0.3247562 , 0.012345  , 0.1856328 , 0.00980138]),\n",
       " array([1.00000000e-08, 1.00000000e-08, 8.32904945e-03, 1.00000000e-08,\n",
       "        2.15161192e-03, 1.00000000e-08]))"
      ]
     },
     "execution_count": 12,
     "metadata": {},
     "output_type": "execute_result"
    }
   ],
   "source": [
    "est_recomb_rates, est_mut_rates"
   ]
  },
  {
   "cell_type": "code",
   "execution_count": 13,
   "id": "677dd957-ec90-4875-86e9-9eca01c13010",
   "metadata": {},
   "outputs": [
    {
     "data": {
      "text/html": [
       "<div>\n",
       "<style scoped>\n",
       "    .dataframe tbody tr th:only-of-type {\n",
       "        vertical-align: middle;\n",
       "    }\n",
       "\n",
       "    .dataframe tbody tr th {\n",
       "        vertical-align: top;\n",
       "    }\n",
       "\n",
       "    .dataframe thead th {\n",
       "        text-align: right;\n",
       "    }\n",
       "</style>\n",
       "<table border=\"1\" class=\"dataframe\">\n",
       "  <thead>\n",
       "    <tr style=\"text-align: right;\">\n",
       "      <th></th>\n",
       "      <th>simulated</th>\n",
       "      <th>estimated</th>\n",
       "    </tr>\n",
       "  </thead>\n",
       "  <tbody>\n",
       "    <tr>\n",
       "      <th>0</th>\n",
       "      <td>0.05</td>\n",
       "      <td>0.036949</td>\n",
       "    </tr>\n",
       "    <tr>\n",
       "      <th>1</th>\n",
       "      <td>0.30</td>\n",
       "      <td>0.324756</td>\n",
       "    </tr>\n",
       "    <tr>\n",
       "      <th>2</th>\n",
       "      <td>0.01</td>\n",
       "      <td>0.012345</td>\n",
       "    </tr>\n",
       "    <tr>\n",
       "      <th>3</th>\n",
       "      <td>0.20</td>\n",
       "      <td>0.185633</td>\n",
       "    </tr>\n",
       "    <tr>\n",
       "      <th>4</th>\n",
       "      <td>0.01</td>\n",
       "      <td>0.009801</td>\n",
       "    </tr>\n",
       "  </tbody>\n",
       "</table>\n",
       "</div>"
      ],
      "text/plain": [
       "   simulated  estimated\n",
       "0       0.05   0.036949\n",
       "1       0.30   0.324756\n",
       "2       0.01   0.012345\n",
       "3       0.20   0.185633\n",
       "4       0.01   0.009801"
      ]
     },
     "execution_count": 13,
     "metadata": {},
     "output_type": "execute_result"
    }
   ],
   "source": [
    "pandas.DataFrame({'simulated': my_recomb_rates, 'estimated': est_recomb_rates})"
   ]
  },
  {
   "cell_type": "code",
   "execution_count": 24,
   "id": "88e7541a-82fe-410c-a188-b3743cf7d24f",
   "metadata": {},
   "outputs": [
    {
     "data": {
      "text/plain": [
       "<AxesSubplot:>"
      ]
     },
     "execution_count": 24,
     "metadata": {},
     "output_type": "execute_result"
    },
    {
     "data": {
      "image/png": "[encoded data removed]",
      "text/plain": [
       "<Figure size 432x288 with 1 Axes>"
      ]
     },
     "metadata": {
      "needs_background": "light"
     },
     "output_type": "display_data"
    }
   ],
   "source": [
    "pandas.DataFrame({'simulated': my_recomb_rates, 'estimated': est_recomb_rates}).plot.bar();"
   ]
  },
  {
   "cell_type": "code",
   "execution_count": 30,
   "id": "724aa103-82fa-4447-b469-db4d2cb28890",
   "metadata": {},
   "outputs": [
    {
     "data": {
      "text/plain": [
       "<AxesSubplot:>"
      ]
     },
     "execution_count": 30,
     "metadata": {},
     "output_type": "execute_result"
    },
    {
     "data": {
      "image/png": "[encoded data removed]",
      "text/plain": [
       "<Figure size 432x288 with 1 Axes>"
      ]
     },
     "metadata": {
      "needs_background": "light"
     },
     "output_type": "display_data"
    }
   ],
   "source": [
    "pandas.DataFrame({'simulated': my_mut_rates, 'estimated': est_mut_rates}).plot.bar();"
   ]
  }
 ],
 "metadata": {
  "kernelspec": {
   "display_name": "Python 3 (ipykernel)",
   "language": "python",
   "name": "python3"
  },
  "language_info": {
   "codemirror_mode": {
    "name": "ipython",
    "version": 3
   },
   "file_extension": ".py",
   "mimetype": "text/x-python",
   "name": "python",
   "nbconvert_exporter": "python",
   "pygments_lexer": "ipython3",
   "version": "3.8.12"
  }
 },
 "nbformat": 4,
 "nbformat_minor": 5
}
