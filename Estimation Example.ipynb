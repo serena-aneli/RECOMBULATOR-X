{
 "cells": [
  {
   "cell_type": "markdown",
   "id": "56da4b6f-d30b-439b-bed2-72310265891c",
   "metadata": {
    "id": "56da4b6f-d30b-439b-bed2-72310265891c"
   },
   "source": [
    "# Estimate recombination and mutation rates from a simulated dataset\n",
    "This notebook shows how to use recombulator-x to estimate recombination and mutation rates from a simulated dataset."
   ]
  },
  {
   "cell_type": "code",
   "execution_count": 1,
   "id": "95cfc9f8-f5d2-4fae-80cb-f06d6bc66b7e",
   "metadata": {
    "id": "95cfc9f8-f5d2-4fae-80cb-f06d6bc66b7e"
   },
   "outputs": [],
   "source": [
    "import numpy\n",
    "import pandas\n",
    "import recombulatorx\n",
    "import recombulatorx.testing"
   ]
  },
  {
   "attachments": {},
   "cell_type": "markdown",
   "id": "f0f47596-4e80-47b8-86aa-37a31545cc19",
   "metadata": {
    "id": "f0f47596-4e80-47b8-86aa-37a31545cc19"
   },
   "source": [
    "## Simulation of STR pedigree dataset\n",
    "Recombulator-x includes functions to simulate pedigrees and their STR genotypes, a useful feature when testing new approaches.\n",
    "In this section we generate a pedigree file simulating 100 type I and 100 type II families with given recombination and mutation rates for six markers."
   ]
  },
  {
   "cell_type": "markdown",
   "id": "9f3c705b-fd86-4831-b407-4b900074c635",
   "metadata": {},
   "source": [
    "We define the simulation parameters:"
   ]
  },
  {
   "cell_type": "code",
   "execution_count": 2,
   "id": "3861fb77-6661-4f89-81bf-e9e39980af35",
   "metadata": {
    "id": "3861fb77-6661-4f89-81bf-e9e39980af35"
   },
   "outputs": [],
   "source": [
    "my_recomb_rates = numpy.array([0.05, 0.3, 0.01, 0.2, 0.01])\n",
    "my_mut_rates = numpy.array([1e-4, 1e-4, 1e-2, 1e-3, 1e-4, 1e-4])\n",
    "n_fam_I = 100\n",
    "n_fam_II = 100\n",
    "ped_path = 'testsim.tsv'\n",
    "\n",
    "numpy.random.seed(0)"
   ]
  },
  {
   "cell_type": "markdown",
   "id": "81a1834c-baf9-4519-92f7-dc1e2b2e68ad",
   "metadata": {},
   "source": [
    "The dataset is generated through the functions *generate_complex_families* and *individuals2ped*. We use the **generate_complex_families** function to simulate random individuals from a given number of informative families, following the given rates and the **individuals2ped** function to write the generated individuals to a pedigree file in TSV format, which will be saved to *ped_path*."
   ]
  },
  {
   "cell_type": "code",
   "execution_count": 3,
   "id": "017fcd1e-5043-4c7e-8221-52ffa212370a",
   "metadata": {},
   "outputs": [
    {
     "data": {
      "text/plain": [
       "('FAM_0_I', 'GRANDFATHER', None, None, array([[12., 29., 39., 43., 59., 68.]]))"
      ]
     },
     "execution_count": 3,
     "metadata": {},
     "output_type": "execute_result"
    }
   ],
   "source": [
    "individuals = list(recombulatorx.testing.generate_complex_families(n_fam_I, n_fam_II, my_recomb_rates, my_mut_rates))\n",
    "individuals[0]"
   ]
  },
  {
   "cell_type": "code",
   "execution_count": 4,
   "id": "b388aac9-ca79-405e-bf47-ec31f557cf74",
   "metadata": {
    "id": "b388aac9-ca79-405e-bf47-ec31f557cf74"
   },
   "outputs": [],
   "source": [
    "recombulatorx.testing.individuals2ped(\n",
    "    path=ped_path, \n",
    "    marker_names=[f'M{i+1}' for i, _ in enumerate(my_mut_rates)], \n",
    "    individuals=individuals,\n",
    ")"
   ]
  },
  {
   "cell_type": "markdown",
   "id": "oO5dHzIFyMNO",
   "metadata": {
    "id": "oO5dHzIFyMNO"
   },
   "source": [
    "The created pedigree file is a table in textual format that can be read with the pandas module. See the online documentation (Usage section) for a detailed description of the PED format. "
   ]
  },
  {
   "cell_type": "code",
   "execution_count": 5,
   "id": "5d7fedbd-0190-4302-8e5f-15128af9af00",
   "metadata": {
    "id": "5d7fedbd-0190-4302-8e5f-15128af9af00",
    "outputId": "9246d532-81fb-4682-fb66-868dad6b416d"
   },
   "outputs": [
    {
     "data": {
      "text/html": [
       "<div>\n",
       "<style scoped>\n",
       "    .dataframe tbody tr th:only-of-type {\n",
       "        vertical-align: middle;\n",
       "    }\n",
       "\n",
       "    .dataframe tbody tr th {\n",
       "        vertical-align: top;\n",
       "    }\n",
       "\n",
       "    .dataframe thead th {\n",
       "        text-align: right;\n",
       "    }\n",
       "</style>\n",
       "<table border=\"1\" class=\"dataframe\">\n",
       "  <thead>\n",
       "    <tr style=\"text-align: right;\">\n",
       "      <th></th>\n",
       "      <th>FID</th>\n",
       "      <th>IID</th>\n",
       "      <th>PAT</th>\n",
       "      <th>MAT</th>\n",
       "      <th>SEX</th>\n",
       "      <th>PHENO</th>\n",
       "      <th>M1-A1</th>\n",
       "      <th>M1-A2</th>\n",
       "      <th>M2-A1</th>\n",
       "      <th>M2-A2</th>\n",
       "      <th>M3-A1</th>\n",
       "      <th>M3-A2</th>\n",
       "      <th>M4-A1</th>\n",
       "      <th>M4-A2</th>\n",
       "      <th>M5-A1</th>\n",
       "      <th>M5-A2</th>\n",
       "      <th>M6-A1</th>\n",
       "      <th>M6-A2</th>\n",
       "    </tr>\n",
       "  </thead>\n",
       "  <tbody>\n",
       "    <tr>\n",
       "      <th>0</th>\n",
       "      <td>FAM_0_I</td>\n",
       "      <td>GRANDFATHER</td>\n",
       "      <td>0</td>\n",
       "      <td>0</td>\n",
       "      <td>1</td>\n",
       "      <td>-9</td>\n",
       "      <td>12.0</td>\n",
       "      <td>0.0</td>\n",
       "      <td>29.0</td>\n",
       "      <td>0.0</td>\n",
       "      <td>39.0</td>\n",
       "      <td>0.0</td>\n",
       "      <td>43.0</td>\n",
       "      <td>0.0</td>\n",
       "      <td>59.0</td>\n",
       "      <td>0.0</td>\n",
       "      <td>68.0</td>\n",
       "      <td>0.0</td>\n",
       "    </tr>\n",
       "    <tr>\n",
       "      <th>1</th>\n",
       "      <td>FAM_0_I</td>\n",
       "      <td>MOTHER</td>\n",
       "      <td>GRANDFATHER</td>\n",
       "      <td>0</td>\n",
       "      <td>2</td>\n",
       "      <td>-9</td>\n",
       "      <td>12.0</td>\n",
       "      <td>16.0</td>\n",
       "      <td>27.0</td>\n",
       "      <td>29.0</td>\n",
       "      <td>34.0</td>\n",
       "      <td>39.0</td>\n",
       "      <td>43.0</td>\n",
       "      <td>49.0</td>\n",
       "      <td>54.0</td>\n",
       "      <td>59.0</td>\n",
       "      <td>66.0</td>\n",
       "      <td>68.0</td>\n",
       "    </tr>\n",
       "    <tr>\n",
       "      <th>2</th>\n",
       "      <td>FAM_0_I</td>\n",
       "      <td>SON_1</td>\n",
       "      <td>0</td>\n",
       "      <td>MOTHER</td>\n",
       "      <td>1</td>\n",
       "      <td>-9</td>\n",
       "      <td>12.0</td>\n",
       "      <td>0.0</td>\n",
       "      <td>29.0</td>\n",
       "      <td>0.0</td>\n",
       "      <td>34.0</td>\n",
       "      <td>0.0</td>\n",
       "      <td>49.0</td>\n",
       "      <td>0.0</td>\n",
       "      <td>54.0</td>\n",
       "      <td>0.0</td>\n",
       "      <td>66.0</td>\n",
       "      <td>0.0</td>\n",
       "    </tr>\n",
       "    <tr>\n",
       "      <th>3</th>\n",
       "      <td>FAM_0_I</td>\n",
       "      <td>FATHER_1</td>\n",
       "      <td>0</td>\n",
       "      <td>0</td>\n",
       "      <td>1</td>\n",
       "      <td>-9</td>\n",
       "      <td>14.0</td>\n",
       "      <td>0.0</td>\n",
       "      <td>21.0</td>\n",
       "      <td>0.0</td>\n",
       "      <td>37.0</td>\n",
       "      <td>0.0</td>\n",
       "      <td>46.0</td>\n",
       "      <td>0.0</td>\n",
       "      <td>58.0</td>\n",
       "      <td>0.0</td>\n",
       "      <td>66.0</td>\n",
       "      <td>0.0</td>\n",
       "    </tr>\n",
       "    <tr>\n",
       "      <th>4</th>\n",
       "      <td>FAM_0_I</td>\n",
       "      <td>DAUGHTER_1</td>\n",
       "      <td>FATHER_1</td>\n",
       "      <td>MOTHER</td>\n",
       "      <td>2</td>\n",
       "      <td>-9</td>\n",
       "      <td>14.0</td>\n",
       "      <td>16.0</td>\n",
       "      <td>21.0</td>\n",
       "      <td>27.0</td>\n",
       "      <td>34.0</td>\n",
       "      <td>37.0</td>\n",
       "      <td>46.0</td>\n",
       "      <td>49.0</td>\n",
       "      <td>54.0</td>\n",
       "      <td>58.0</td>\n",
       "      <td>66.0</td>\n",
       "      <td>66.0</td>\n",
       "    </tr>\n",
       "    <tr>\n",
       "      <th>5</th>\n",
       "      <td>FAM_0_I</td>\n",
       "      <td>FATHER_2</td>\n",
       "      <td>0</td>\n",
       "      <td>0</td>\n",
       "      <td>1</td>\n",
       "      <td>-9</td>\n",
       "      <td>18.0</td>\n",
       "      <td>0.0</td>\n",
       "      <td>25.0</td>\n",
       "      <td>0.0</td>\n",
       "      <td>36.0</td>\n",
       "      <td>0.0</td>\n",
       "      <td>48.0</td>\n",
       "      <td>0.0</td>\n",
       "      <td>54.0</td>\n",
       "      <td>0.0</td>\n",
       "      <td>67.0</td>\n",
       "      <td>0.0</td>\n",
       "    </tr>\n",
       "    <tr>\n",
       "      <th>6</th>\n",
       "      <td>FAM_0_I</td>\n",
       "      <td>DAUGHTER_2</td>\n",
       "      <td>FATHER_2</td>\n",
       "      <td>MOTHER</td>\n",
       "      <td>2</td>\n",
       "      <td>-9</td>\n",
       "      <td>12.0</td>\n",
       "      <td>18.0</td>\n",
       "      <td>25.0</td>\n",
       "      <td>29.0</td>\n",
       "      <td>36.0</td>\n",
       "      <td>39.0</td>\n",
       "      <td>43.0</td>\n",
       "      <td>48.0</td>\n",
       "      <td>54.0</td>\n",
       "      <td>59.0</td>\n",
       "      <td>67.0</td>\n",
       "      <td>68.0</td>\n",
       "    </tr>\n",
       "    <tr>\n",
       "      <th>7</th>\n",
       "      <td>FAM_1_I</td>\n",
       "      <td>GRANDFATHER</td>\n",
       "      <td>0</td>\n",
       "      <td>0</td>\n",
       "      <td>1</td>\n",
       "      <td>-9</td>\n",
       "      <td>15.0</td>\n",
       "      <td>0.0</td>\n",
       "      <td>26.0</td>\n",
       "      <td>0.0</td>\n",
       "      <td>36.0</td>\n",
       "      <td>0.0</td>\n",
       "      <td>49.0</td>\n",
       "      <td>0.0</td>\n",
       "      <td>53.0</td>\n",
       "      <td>0.0</td>\n",
       "      <td>61.0</td>\n",
       "      <td>0.0</td>\n",
       "    </tr>\n",
       "    <tr>\n",
       "      <th>8</th>\n",
       "      <td>FAM_1_I</td>\n",
       "      <td>MOTHER</td>\n",
       "      <td>GRANDFATHER</td>\n",
       "      <td>0</td>\n",
       "      <td>2</td>\n",
       "      <td>-9</td>\n",
       "      <td>14.0</td>\n",
       "      <td>15.0</td>\n",
       "      <td>26.0</td>\n",
       "      <td>29.0</td>\n",
       "      <td>36.0</td>\n",
       "      <td>39.0</td>\n",
       "      <td>44.0</td>\n",
       "      <td>49.0</td>\n",
       "      <td>53.0</td>\n",
       "      <td>53.0</td>\n",
       "      <td>61.0</td>\n",
       "      <td>61.0</td>\n",
       "    </tr>\n",
       "    <tr>\n",
       "      <th>9</th>\n",
       "      <td>FAM_1_I</td>\n",
       "      <td>SON_1</td>\n",
       "      <td>0</td>\n",
       "      <td>MOTHER</td>\n",
       "      <td>1</td>\n",
       "      <td>-9</td>\n",
       "      <td>14.0</td>\n",
       "      <td>0.0</td>\n",
       "      <td>29.0</td>\n",
       "      <td>0.0</td>\n",
       "      <td>39.0</td>\n",
       "      <td>0.0</td>\n",
       "      <td>44.0</td>\n",
       "      <td>0.0</td>\n",
       "      <td>53.0</td>\n",
       "      <td>0.0</td>\n",
       "      <td>61.0</td>\n",
       "      <td>0.0</td>\n",
       "    </tr>\n",
       "  </tbody>\n",
       "</table>\n",
       "</div>"
      ],
      "text/plain": [
       "       FID          IID          PAT     MAT  SEX  PHENO  M1-A1  M1-A2  M2-A1  \\\n",
       "0  FAM_0_I  GRANDFATHER            0       0    1     -9   12.0    0.0   29.0   \n",
       "1  FAM_0_I       MOTHER  GRANDFATHER       0    2     -9   12.0   16.0   27.0   \n",
       "2  FAM_0_I        SON_1            0  MOTHER    1     -9   12.0    0.0   29.0   \n",
       "3  FAM_0_I     FATHER_1            0       0    1     -9   14.0    0.0   21.0   \n",
       "4  FAM_0_I   DAUGHTER_1     FATHER_1  MOTHER    2     -9   14.0   16.0   21.0   \n",
       "5  FAM_0_I     FATHER_2            0       0    1     -9   18.0    0.0   25.0   \n",
       "6  FAM_0_I   DAUGHTER_2     FATHER_2  MOTHER    2     -9   12.0   18.0   25.0   \n",
       "7  FAM_1_I  GRANDFATHER            0       0    1     -9   15.0    0.0   26.0   \n",
       "8  FAM_1_I       MOTHER  GRANDFATHER       0    2     -9   14.0   15.0   26.0   \n",
       "9  FAM_1_I        SON_1            0  MOTHER    1     -9   14.0    0.0   29.0   \n",
       "\n",
       "   M2-A2  M3-A1  M3-A2  M4-A1  M4-A2  M5-A1  M5-A2  M6-A1  M6-A2  \n",
       "0    0.0   39.0    0.0   43.0    0.0   59.0    0.0   68.0    0.0  \n",
       "1   29.0   34.0   39.0   43.0   49.0   54.0   59.0   66.0   68.0  \n",
       "2    0.0   34.0    0.0   49.0    0.0   54.0    0.0   66.0    0.0  \n",
       "3    0.0   37.0    0.0   46.0    0.0   58.0    0.0   66.0    0.0  \n",
       "4   27.0   34.0   37.0   46.0   49.0   54.0   58.0   66.0   66.0  \n",
       "5    0.0   36.0    0.0   48.0    0.0   54.0    0.0   67.0    0.0  \n",
       "6   29.0   36.0   39.0   43.0   48.0   54.0   59.0   67.0   68.0  \n",
       "7    0.0   36.0    0.0   49.0    0.0   53.0    0.0   61.0    0.0  \n",
       "8   29.0   36.0   39.0   44.0   49.0   53.0   53.0   61.0   61.0  \n",
       "9    0.0   39.0    0.0   44.0    0.0   53.0    0.0   61.0    0.0  "
      ]
     },
     "execution_count": 5,
     "metadata": {},
     "output_type": "execute_result"
    }
   ],
   "source": [
    "pandas.read_csv(ped_path, sep='\\t').head(10)"
   ]
  },
  {
   "cell_type": "markdown",
   "id": "-Zwk97emzgUR",
   "metadata": {
    "id": "-Zwk97emzgUR"
   },
   "source": [
    "## Dataset preprocessing"
   ]
  },
  {
   "cell_type": "markdown",
   "id": "7768e352-dfde-4136-b54e-cb3c1b31661d",
   "metadata": {
    "id": "7768e352-dfde-4136-b54e-cb3c1b31661d"
   },
   "source": [
    "The initial steps of the Python module recombulator-x consist in reading the PED file and identifying the informative families for the estimation of recombination rates using the function **ped2graph**. This function takes a ped file as input and build a graph with the relationships. It returns a list of tuples, each composed by the graph, a dictionary (with iid as key and their tab row as value) and the family identifier. \n",
    "\n",
    "The pedigree file can be a *.tsv* (tab as separator value), a *.xlsx* or whatever format with a space as separator value.\n",
    "\n",
    "For recombination, informative subfamilies are either those with:\n",
    "\n",
    "* a phased mother and at least one son or phased daughter, called type I families,\n",
    "* an unphased mother and at least two between sons and phased daughters, called type II families.\n",
    "\n",
    "Notably, females can be phased when their father is available: in this way, they will be virtually transformed into males, thus being allowed to take part to informative families."
   ]
  },
  {
   "cell_type": "markdown",
   "id": "Km7-Rkcp54vD",
   "metadata": {
    "id": "Km7-Rkcp54vD"
   },
   "source": [
    "**Important**: Genetic markers (from the 7th column on) must be provided according to their physical genomic position. Indeed, the algorithm will infer the recombination rate between M1 and M2, M2 and M3 and so on."
   ]
  },
  {
   "cell_type": "code",
   "execution_count": 6,
   "id": "cd09f894-fdf8-47f0-bb16-4bb2cd67b0ba",
   "metadata": {
    "id": "cd09f894-fdf8-47f0-bb16-4bb2cd67b0ba",
    "outputId": "4c60a42f-d8a3-4ed4-bd76-694973b6a67d"
   },
   "outputs": [
    {
     "data": {
      "text/plain": [
       "200"
      ]
     },
     "execution_count": 6,
     "metadata": {},
     "output_type": "execute_result"
    }
   ],
   "source": [
    "family_graphs, marker_names = recombulatorx.ped2graph(ped_path)\n",
    "len(family_graphs)"
   ]
  },
  {
   "attachments": {},
   "cell_type": "markdown",
   "id": "2o8aOirR3Y68",
   "metadata": {
    "id": "2o8aOirR3Y68"
   },
   "source": [
    "The function **plot_family_graph** can be used to graphically represent the reported relationships between individuals within the same family. Note that plotting requires matplotlib to be installed!"
   ]
  },
  {
   "cell_type": "code",
   "execution_count": 7,
   "id": "cfdc1f5b-8f85-49ab-b1af-0bfe20e3ca30",
   "metadata": {
    "id": "cfdc1f5b-8f85-49ab-b1af-0bfe20e3ca30",
    "outputId": "482a0c28-c51b-437c-97e3-4dbb7c2d0c34"
   },
   "outputs": [
    {
     "data": {
      "image/png": "[encoded data removed]",
      "text/plain": [
       "<Figure size 640x480 with 1 Axes>"
      ]
     },
     "metadata": {},
     "output_type": "display_data"
    }
   ],
   "source": [
    "recombulatorx.families.plot_family_graph(family_graphs[0][1]);"
   ]
  },
  {
   "cell_type": "markdown",
   "id": "PMTL-bbf3U17",
   "metadata": {
    "id": "PMTL-bbf3U17"
   },
   "source": [
    "The fuction **preprocess_families** will then check the consistency of each family graph and raise errors whenever necessary. For instance, an error is raised when more than two parents or same-sex parents are present in the same family. Unconnected individuals are also flagged."
   ]
  },
  {
   "cell_type": "code",
   "execution_count": 8,
   "id": "c1ac7846-b84e-4f97-b5ab-fadd1491b0eb",
   "metadata": {
    "id": "c1ac7846-b84e-4f97-b5ab-fadd1491b0eb",
    "outputId": "23abcbfe-9992-499d-a644-21861bd01345"
   },
   "outputs": [
    {
     "data": {
      "text/plain": [
       "200"
      ]
     },
     "execution_count": 8,
     "metadata": {},
     "output_type": "execute_result"
    }
   ],
   "source": [
    "processed_families = recombulatorx.preprocess_families(family_graphs)\n",
    "len(processed_families)"
   ]
  },
  {
   "cell_type": "code",
   "execution_count": 9,
   "id": "0986dd9d-8c60-4ae7-8bf1-5c7cc45b0c21",
   "metadata": {},
   "outputs": [
    {
     "data": {
      "text/plain": [
       "ProcessedFamily(fid=('FAM_0_I', 'MOTHER'), is_mother_phased=True, mother=array([[12., 16.],\n",
       "       [29., 27.],\n",
       "       [39., 34.],\n",
       "       [43., 49.],\n",
       "       [59., 54.],\n",
       "       [68., 66.]]), maternal_haplotypes=array([[12., 29., 34., 49., 54., 66.],\n",
       "       [16., 27., 34., 49., 54., 66.],\n",
       "       [12., 29., 39., 43., 59., 68.]]))"
      ]
     },
     "execution_count": 9,
     "metadata": {},
     "output_type": "execute_result"
    }
   ],
   "source": [
    "processed_families[0]"
   ]
  },
  {
   "cell_type": "markdown",
   "id": "tbunWmze3tMa",
   "metadata": {
    "id": "tbunWmze3tMa"
   },
   "source": [
    "## Estimation\n",
    "\n",
    "The estimation of recombination and mutation rates can be launched with the function **estimate_rates**, which estimates recombination and optionally mutation rates from a set of families. The function takes the following parameters: \n",
    "\n",
    "*   the families, \n",
    "*   the initial recombination rate,\n",
    "*   which mutation rate needs to be estimated (no: no mutation rate estimation, one: just one mutation rate for all markers, all: a mutation rate for each marker),\n",
    "*   the type of implementation (the default implementation is the one using dynamic programming)."
   ]
  },
  {
   "attachments": {},
   "cell_type": "markdown",
   "id": "58ed4780",
   "metadata": {},
   "source": [
    "While the numba package is not required for recombulatorx, when it is available the estimation will be much faster!"
   ]
  },
  {
   "cell_type": "code",
   "execution_count": 10,
   "id": "d88ff711-f4d9-4ba4-a201-6a4c86f7967f",
   "metadata": {
    "id": "d88ff711-f4d9-4ba4-a201-6a4c86f7967f"
   },
   "outputs": [],
   "source": [
    "est_recomb_rates, est_mut_rates = recombulatorx.estimate_rates(processed_families, 0.1, 0.1, estimate_mutation_rates='all')"
   ]
  },
  {
   "cell_type": "markdown",
   "id": "P8nOUjcR6Tba",
   "metadata": {
    "id": "P8nOUjcR6Tba"
   },
   "source": [
    "The output will be returned as a tuple of arrays, where the first stores the recombination rates and the second the mutation rates."
   ]
  },
  {
   "cell_type": "code",
   "execution_count": 11,
   "id": "a0da2bb3-e67f-4f7a-b821-b7b944168b71",
   "metadata": {
    "id": "a0da2bb3-e67f-4f7a-b821-b7b944168b71",
    "outputId": "9085f5ef-c02d-4684-ab45-190262f999ab"
   },
   "outputs": [
    {
     "data": {
      "text/plain": [
       "(array([0.03694946, 0.32475622, 0.012345  , 0.1856328 , 0.00980138]),\n",
       " array([1.00000000e-08, 1.00000000e-08, 8.32904925e-03, 1.00000000e-08,\n",
       "        2.15161190e-03, 1.00000000e-08]))"
      ]
     },
     "execution_count": 11,
     "metadata": {},
     "output_type": "execute_result"
    }
   ],
   "source": [
    "est_recomb_rates, est_mut_rates"
   ]
  },
  {
   "cell_type": "markdown",
   "id": "B8VfzmiU8FuI",
   "metadata": {
    "id": "B8VfzmiU8FuI"
   },
   "source": [
    "In case the dataset has been simulated, a direct comparison of initial and estimated recombination rates is possible as follows:"
   ]
  },
  {
   "cell_type": "code",
   "execution_count": 12,
   "id": "677dd957-ec90-4875-86e9-9eca01c13010",
   "metadata": {
    "id": "677dd957-ec90-4875-86e9-9eca01c13010",
    "outputId": "04788c6c-355e-437c-c931-3ea2984e4dff"
   },
   "outputs": [
    {
     "data": {
      "text/html": [
       "<div>\n",
       "<style scoped>\n",
       "    .dataframe tbody tr th:only-of-type {\n",
       "        vertical-align: middle;\n",
       "    }\n",
       "\n",
       "    .dataframe tbody tr th {\n",
       "        vertical-align: top;\n",
       "    }\n",
       "\n",
       "    .dataframe thead th {\n",
       "        text-align: right;\n",
       "    }\n",
       "</style>\n",
       "<table border=\"1\" class=\"dataframe\">\n",
       "  <thead>\n",
       "    <tr style=\"text-align: right;\">\n",
       "      <th></th>\n",
       "      <th>simulated</th>\n",
       "      <th>estimated</th>\n",
       "    </tr>\n",
       "  </thead>\n",
       "  <tbody>\n",
       "    <tr>\n",
       "      <th>0</th>\n",
       "      <td>0.05</td>\n",
       "      <td>0.036949</td>\n",
       "    </tr>\n",
       "    <tr>\n",
       "      <th>1</th>\n",
       "      <td>0.30</td>\n",
       "      <td>0.324756</td>\n",
       "    </tr>\n",
       "    <tr>\n",
       "      <th>2</th>\n",
       "      <td>0.01</td>\n",
       "      <td>0.012345</td>\n",
       "    </tr>\n",
       "    <tr>\n",
       "      <th>3</th>\n",
       "      <td>0.20</td>\n",
       "      <td>0.185633</td>\n",
       "    </tr>\n",
       "    <tr>\n",
       "      <th>4</th>\n",
       "      <td>0.01</td>\n",
       "      <td>0.009801</td>\n",
       "    </tr>\n",
       "  </tbody>\n",
       "</table>\n",
       "</div>"
      ],
      "text/plain": [
       "   simulated  estimated\n",
       "0       0.05   0.036949\n",
       "1       0.30   0.324756\n",
       "2       0.01   0.012345\n",
       "3       0.20   0.185633\n",
       "4       0.01   0.009801"
      ]
     },
     "execution_count": 12,
     "metadata": {},
     "output_type": "execute_result"
    },
    {
     "data": {
      "image/png": "[encoded data removed]",
      "text/plain": [
       "<Figure size 640x480 with 1 Axes>"
      ]
     },
     "metadata": {},
     "output_type": "display_data"
    }
   ],
   "source": [
    "recomb_cmp = pandas.DataFrame({'simulated': my_recomb_rates, 'estimated': est_recomb_rates})\n",
    "recomb_cmp.plot.bar()\n",
    "recomb_cmp"
   ]
  },
  {
   "cell_type": "code",
   "execution_count": 13,
   "id": "724aa103-82fa-4447-b469-db4d2cb28890",
   "metadata": {
    "id": "724aa103-82fa-4447-b469-db4d2cb28890",
    "outputId": "0fa7c7a4-5e32-4758-ec77-ab0c822202fd"
   },
   "outputs": [
    {
     "data": {
      "text/html": [
       "<div>\n",
       "<style scoped>\n",
       "    .dataframe tbody tr th:only-of-type {\n",
       "        vertical-align: middle;\n",
       "    }\n",
       "\n",
       "    .dataframe tbody tr th {\n",
       "        vertical-align: top;\n",
       "    }\n",
       "\n",
       "    .dataframe thead th {\n",
       "        text-align: right;\n",
       "    }\n",
       "</style>\n",
       "<table border=\"1\" class=\"dataframe\">\n",
       "  <thead>\n",
       "    <tr style=\"text-align: right;\">\n",
       "      <th></th>\n",
       "      <th>simulated</th>\n",
       "      <th>estimated</th>\n",
       "    </tr>\n",
       "  </thead>\n",
       "  <tbody>\n",
       "    <tr>\n",
       "      <th>0</th>\n",
       "      <td>0.0001</td>\n",
       "      <td>1.000000e-08</td>\n",
       "    </tr>\n",
       "    <tr>\n",
       "      <th>1</th>\n",
       "      <td>0.0001</td>\n",
       "      <td>1.000000e-08</td>\n",
       "    </tr>\n",
       "    <tr>\n",
       "      <th>2</th>\n",
       "      <td>0.0100</td>\n",
       "      <td>8.329049e-03</td>\n",
       "    </tr>\n",
       "    <tr>\n",
       "      <th>3</th>\n",
       "      <td>0.0010</td>\n",
       "      <td>1.000000e-08</td>\n",
       "    </tr>\n",
       "    <tr>\n",
       "      <th>4</th>\n",
       "      <td>0.0001</td>\n",
       "      <td>2.151612e-03</td>\n",
       "    </tr>\n",
       "    <tr>\n",
       "      <th>5</th>\n",
       "      <td>0.0001</td>\n",
       "      <td>1.000000e-08</td>\n",
       "    </tr>\n",
       "  </tbody>\n",
       "</table>\n",
       "</div>"
      ],
      "text/plain": [
       "   simulated     estimated\n",
       "0     0.0001  1.000000e-08\n",
       "1     0.0001  1.000000e-08\n",
       "2     0.0100  8.329049e-03\n",
       "3     0.0010  1.000000e-08\n",
       "4     0.0001  2.151612e-03\n",
       "5     0.0001  1.000000e-08"
      ]
     },
     "execution_count": 13,
     "metadata": {},
     "output_type": "execute_result"
    },
    {
     "data": {
      "image/png": "[encoded data removed]",
      "text/plain": [
       "<Figure size 640x480 with 1 Axes>"
      ]
     },
     "metadata": {},
     "output_type": "display_data"
    }
   ],
   "source": [
    "mut_cmp = pandas.DataFrame({'simulated': my_mut_rates, 'estimated': est_mut_rates})\n",
    "mut_cmp.plot.bar();\n",
    "mut_cmp"
   ]
  },
  {
   "cell_type": "markdown",
   "id": "abc577f5-663d-4aa2-8a29-e1d40ef7a5a1",
   "metadata": {},
   "source": [
    "## Documentation\n",
    "All functions used in this notebook have a docstring documentation."
   ]
  },
  {
   "cell_type": "code",
   "execution_count": 14,
   "id": "5781dac8-bceb-4556-bd40-69283ecfe01b",
   "metadata": {},
   "outputs": [
    {
     "name": "stdout",
     "output_type": "stream",
     "text": [
      "Help on function ped2graph in module recombulatorx.io:\n",
      "\n",
      "ped2graph(path)\n",
      "    This function takes a pedigree file as input and encodes it as graphs.\n",
      "    \n",
      "    The pedigree file can be a table in .ped format (headerless and space-separated),\n",
      "    in .tsv format (with header and tab-separated) or in .xlsx format (experimental).\n",
      "    The format is inferred by the extension.\n",
      "    \n",
      "    The graphs are DiGraphs objects from the networkx module, where each node is an\n",
      "    individual and edges go from parent to child. The nodes include individual information\n",
      "    (sex and genotypes) as attributes.\n",
      "    \n",
      "    IMPORTANT: markers must be sorted by genomic position, since we assume that recombination\n",
      "    happens between adjacent markers.\n",
      "    \n",
      "    path: str\n",
      "        path to the pedigree file\n",
      "    \n",
      "    Returns: tuple\n",
      "        a list of tuples (family ID, DiGraphs) for each family ID in the pedigree file and \n",
      "        a list of marker names.\n",
      "\n"
     ]
    }
   ],
   "source": [
    "help(recombulatorx.ped2graph)"
   ]
  },
  {
   "cell_type": "code",
   "execution_count": 15,
   "id": "d6198a59-1fb0-41ea-95ff-741bc1fb37fc",
   "metadata": {},
   "outputs": [
    {
     "name": "stdout",
     "output_type": "stream",
     "text": [
      "Help on function plot_family_graph in module recombulatorx.families:\n",
      "\n",
      "plot_family_graph(G, title=None)\n",
      "    Plot a family graph.\n",
      "    \n",
      "    Requires the matplotlib module.\n",
      "    \n",
      "    G: networkx.DiGraph\n",
      "        family graph\n",
      "    title: str\n",
      "        plot title\n",
      "    \n",
      "    Returns: matplotlib.Figure\n",
      "        the family plot\n",
      "\n"
     ]
    }
   ],
   "source": [
    "help(recombulatorx.families.plot_family_graph)"
   ]
  },
  {
   "cell_type": "code",
   "execution_count": 16,
   "id": "39cd8626-ec03-4b99-a75b-4caf14ccc871",
   "metadata": {},
   "outputs": [
    {
     "name": "stdout",
     "output_type": "stream",
     "text": [
      "Help on function preprocess_families in module recombulatorx.families:\n",
      "\n",
      "preprocess_families(family_graphs)\n",
      "    Preprocess family graphs for rates estimation.\n",
      "    \n",
      "    Does the following preprocessing steps:\n",
      "    - checks the consistency of the parsed family graphs,\n",
      "    - finds all the informative subfamilies from each family,\n",
      "    - phases all females using their father when available,\n",
      "    - packs the inherited maternal haplotypes into a matrix\n",
      "    \n",
      "    family_graphs: sequence of tuples (str, networkx.DiGraph)\n",
      "        sequence of tuples of family IDs and family graphs\n",
      "    \n",
      "    Returns: list of ProcessedFamily\n",
      "        the preprocessed families\n",
      "\n"
     ]
    }
   ],
   "source": [
    "help(recombulatorx.preprocess_families)"
   ]
  },
  {
   "cell_type": "code",
   "execution_count": 17,
   "id": "359c6ee0-ac75-42f5-86ed-a45c3529df70",
   "metadata": {},
   "outputs": [
    {
     "name": "stdout",
     "output_type": "stream",
     "text": [
      "Help on function estimate_rates in module recombulatorx.estimate:\n",
      "\n",
      "estimate_rates(families, starting_recombination_rates=0.05, starting_mutation_rates=0.001, estimate_mutation_rates='no', implementation=None, optimization_method='L-BFGS-B', maxiter=1000)\n",
      "    Estimate recombination and optionally mutation rates from a set of families.\n",
      "    \n",
      "    Estimation is done by expectation maximization, that is by finding recombination \n",
      "    and mutation rates that maximize the likelihood of observing the given families.\n",
      "    Implemented using scipy.optimize.minimize to find recombination and mutation rates \n",
      "    that minimize the negative log likelihood.\n",
      "    \n",
      "    families: sequence of families\n",
      "        the preprocessed genetic data of all the families\n",
      "    starting_recombination_rates: array of shape (n_markers - 1, )\n",
      "        starting probability of recombination between adjacent markers as initial \n",
      "    starting_mutation_rates: array of shape (n_markers, )\n",
      "        probability of unit mutation (+1 or -1) for each marker\n",
      "    estimate_mutation_rates: string\n",
      "        one of 'no', 'one', 'all'. If 'no' \n",
      "    implementation: string\n",
      "        the name of the implementation to use for the likelihood computation\n",
      "    optimization_method: string\n",
      "        the name of the method to be passed to scipy.optimize.minimize\n",
      "    maxiter: int\n",
      "        the maximum number of optimizing iterations (passed to scipy.optimize.minimize)\n",
      "      \n",
      "    Returns: arrays\n",
      "        an array of estimated recombination rates if estimate_mutation_rates is 'no',\n",
      "        a tuple of an array of estimated recombination rates and a scalar mutation rate if estimate_mutation_rates is 'one',\n",
      "        a tuple of an array of estimated recombination rates and an array of mutation rates if estimate_mutation_rates is 'all'\n",
      "\n"
     ]
    }
   ],
   "source": [
    "help(recombulatorx.estimate_rates)"
   ]
  },
  {
   "cell_type": "code",
   "execution_count": 18,
   "id": "6089e59b-3626-45a1-b66e-8cbfc57cd24b",
   "metadata": {
    "id": "6089e59b-3626-45a1-b66e-8cbfc57cd24b",
    "outputId": "57e144ab-f130-4942-d54d-d86a8462142f"
   },
   "outputs": [
    {
     "name": "stdout",
     "output_type": "stream",
     "text": [
      "Help on function generate_complex_families in module recombulatorx.testing:\n",
      "\n",
      "generate_complex_families(n_fam_I: int, n_fam_II: int, recombination_rates, mutation_rates)\n",
      "    Generate randomly simulated individuals from a given number of type I and II families.\n",
      "    \n",
      "    For each family, generate a random number of children (from a Poisson distribution with a\n",
      "    mean of 2.0), with a minimum of 1 or 2 for type I or II families, respectively. A random \n",
      "    number of children (from a binomial distribution with a mean of 0.5) are set to be male and \n",
      "    the rest female. For each daughter, a father and his paternal haplotype are generated randomly.\n",
      "    \n",
      "    n_fam_I: int\n",
      "        number of type I families\n",
      "    n_fam_II: int\n",
      "        number of type II families\n",
      "    recombination_rates: array of shape (n_markers - 1, )\n",
      "        recombination rates between adjacent markers used to generate children\n",
      "    mutation_rates: array of shape (n_markers, )\n",
      "        mutation rates of markers used to generate children\n",
      "    \n",
      "    Returns:\n",
      "        an iterator to the generated individuals\n",
      "\n"
     ]
    }
   ],
   "source": [
    "help(recombulatorx.testing.generate_complex_families)"
   ]
  },
  {
   "cell_type": "code",
   "execution_count": 19,
   "id": "8cf50660-a283-4a93-b6d3-b5fa05754bbb",
   "metadata": {},
   "outputs": [
    {
     "name": "stdout",
     "output_type": "stream",
     "text": [
      "Help on function individuals2ped in module recombulatorx.testing:\n",
      "\n",
      "individuals2ped(path, marker_names, individuals)\n",
      "    Write individuals to a pedigree file.\n",
      "    \n",
      "    If path ends with `.tsv' write a tab-separated table with an header row,\n",
      "    otherwise a headerless space-separated table in `.ped' style.\n",
      "    \n",
      "    path: str\n",
      "        path to the pedigree file\n",
      "    marker_names: sequence of str\n",
      "        names for the markers\n",
      "    individuals: sequence\n",
      "        individuals as generated by generate_complex_families\n",
      "\n"
     ]
    }
   ],
   "source": [
    "help(recombulatorx.testing.individuals2ped)"
   ]
  }
 ],
 "metadata": {
  "colab": {
   "provenance": []
  },
  "kernelspec": {
   "display_name": "venv",
   "language": "python",
   "name": "python3"
  },
  "language_info": {
   "codemirror_mode": {
    "name": "ipython",
    "version": 3
   },
   "file_extension": ".py",
   "mimetype": "text/x-python",
   "name": "python",
   "nbconvert_exporter": "python",
   "pygments_lexer": "ipython3",
   "version": "3.9.5"
  },
  "vscode": {
   "interpreter": {
    "hash": "ed4a9856b4a60b97a7fb96513744f09baa8490c3ea00c622e8f393bc9b623388"
   }
  }
 },
 "nbformat": 4,
 "nbformat_minor": 5
}
