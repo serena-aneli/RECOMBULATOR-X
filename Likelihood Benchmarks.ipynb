{
 "cells": [
  {
   "cell_type": "markdown",
   "id": "5a481e4c-03fe-43c2-b3fa-56030548b679",
   "metadata": {},
   "source": [
    "# Likelihood computation benchmarks\n",
    "In this notebook we compare the run time of the various likelihood functions implemented in the recombulator-x module."
   ]
  },
  {
   "cell_type": "code",
   "execution_count": 1,
   "id": "e3cf729e-7c8e-4263-868a-9bc585915cec",
   "metadata": {},
   "outputs": [],
   "source": [
    "import time\n",
    "import numpy\n",
    "import pandas\n",
    "import seaborn\n",
    "import matplotlib.pyplot as plt\n",
    "from tqdm import tqdm\n",
    "import itertools"
   ]
  },
  {
   "cell_type": "code",
   "execution_count": 2,
   "id": "268d9145-4afc-489e-8a7e-919a1a7a322a",
   "metadata": {},
   "outputs": [],
   "source": [
    "import recombulatorx\n",
    "from recombulatorx import compute_family_likelihood\n",
    "from recombulatorx.testing import generate_processed_family, generate_random_rates"
   ]
  },
  {
   "cell_type": "markdown",
   "id": "f79c59f8-841e-4c9e-b1c7-d406e45f7ff6",
   "metadata": {},
   "source": [
    "Retrieve the available implementations, which vary depending on the availability of the numba module."
   ]
  },
  {
   "cell_type": "code",
   "execution_count": 3,
   "id": "5153be17-e0b5-4def-a045-69c32d2b2922",
   "metadata": {},
   "outputs": [],
   "source": [
    "available_implementations = recombulatorx.likelihood.implementations.keys()"
   ]
  },
  {
   "cell_type": "markdown",
   "id": "0be9aec4-d001-4fca-b8c4-da573af88a9d",
   "metadata": {},
   "source": [
    "Define benchmarking parameters, the number of families and the maximum mean time (in seconds) allowed for one family likelihood computation:"
   ]
  },
  {
   "cell_type": "code",
   "execution_count": 4,
   "id": "eff3805a-de4c-47f6-b2e3-176433f19a39",
   "metadata": {},
   "outputs": [],
   "source": [
    "max_time = 1\n",
    "n_fam_I = 100\n",
    "n_fam_II = 100"
   ]
  },
  {
   "cell_type": "code",
   "execution_count": 5,
   "id": "9f7029be-9ab5-448c-9785-b41d380a0ecb",
   "metadata": {},
   "outputs": [
    {
     "name": "stderr",
     "output_type": "stream",
     "text": [
      "0it [00:07, ?it/s]\n"
     ]
    },
    {
     "ename": "TypingError",
     "evalue": "Failed in nopython mode pipeline (step: nopython frontend)\nUntyped global name 'inheritance_vectors': Cannot determine Numba type of <class 'function'>\n\nFile \"recombulatorx/likelihood_direct.py\", line 29:\ndef compute_phased_family_likelihood_direct_loop(mother, maternal_haplotypes, recombination_rates, mutation_rates):\n    <source elided>\n        son_lh = 0.0\n        for v in inheritance_vectors(n):\n        ^\n",
     "output_type": "error",
     "traceback": [
      "\u001b[0;31m---------------------------------------------------------------------------\u001b[0m",
      "\u001b[0;31mTypingError\u001b[0m                               Traceback (most recent call last)",
      "Cell \u001b[0;32mIn [5], line 14\u001b[0m\n\u001b[1;32m     12\u001b[0m \u001b[38;5;28;01mif\u001b[39;00m first_run: \u001b[38;5;66;03m# run every function once, this is mainly for numba since it needs to compile!\u001b[39;00m\n\u001b[1;32m     13\u001b[0m     \u001b[38;5;28;01mfor\u001b[39;00m impl \u001b[38;5;129;01min\u001b[39;00m available_implementations:\n\u001b[0;32m---> 14\u001b[0m         \u001b[43mcompute_family_likelihood\u001b[49m\u001b[43m(\u001b[49m\u001b[43mfams_I\u001b[49m\u001b[43m[\u001b[49m\u001b[38;5;241;43m0\u001b[39;49m\u001b[43m]\u001b[49m\u001b[43m,\u001b[49m\u001b[43m \u001b[49m\u001b[38;5;241;43m*\u001b[39;49m\u001b[43mrates\u001b[49m\u001b[43m,\u001b[49m\u001b[43m \u001b[49m\u001b[43mimplementation\u001b[49m\u001b[38;5;241;43m=\u001b[39;49m\u001b[43mimpl\u001b[49m\u001b[43m)\u001b[49m\n\u001b[1;32m     15\u001b[0m         compute_family_likelihood(fams_II[\u001b[38;5;241m0\u001b[39m], \u001b[38;5;241m*\u001b[39mrates, implementation\u001b[38;5;241m=\u001b[39mimpl)\n\u001b[1;32m     16\u001b[0m     first_run \u001b[38;5;241m=\u001b[39m \u001b[38;5;28;01mFalse\u001b[39;00m\n",
      "File \u001b[0;32m~/projects/recombulator-x/recombulatorx/likelihood.py:410\u001b[0m, in \u001b[0;36mcompute_family_likelihood\u001b[0;34m(fam, recombination_rates, mutation_rates, implementation)\u001b[0m\n\u001b[1;32m    407\u001b[0m \u001b[38;5;28;01mif\u001b[39;00m \u001b[38;5;129;01mnot\u001b[39;00m \u001b[38;5;28misinstance\u001b[39m(mutation_rates, numpy\u001b[38;5;241m.\u001b[39mndarray):\n\u001b[1;32m    408\u001b[0m     mutation_rates \u001b[38;5;241m=\u001b[39m numpy\u001b[38;5;241m.\u001b[39marray(mutation_rates)\n\u001b[0;32m--> 410\u001b[0m \u001b[38;5;28;01mreturn\u001b[39;00m \u001b[43mlikelihood_func\u001b[49m\u001b[43m(\u001b[49m\u001b[43mfam\u001b[49m\u001b[38;5;241;43m.\u001b[39;49m\u001b[43mmother\u001b[49m\u001b[43m,\u001b[49m\u001b[43m \u001b[49m\u001b[43mfam\u001b[49m\u001b[38;5;241;43m.\u001b[39;49m\u001b[43mmaternal_haplotypes\u001b[49m\u001b[43m,\u001b[49m\u001b[43m \u001b[49m\u001b[43mrecombination_rates\u001b[49m\u001b[43m,\u001b[49m\u001b[43m \u001b[49m\u001b[43mmutation_rates\u001b[49m\u001b[43m)\u001b[49m\n",
      "File \u001b[0;32m~/projects/recombulator-x/venv/lib/python3.8/site-packages/numba/core/dispatcher.py:468\u001b[0m, in \u001b[0;36m_DispatcherBase._compile_for_args\u001b[0;34m(self, *args, **kws)\u001b[0m\n\u001b[1;32m    464\u001b[0m         msg \u001b[38;5;241m=\u001b[39m (\u001b[38;5;124mf\u001b[39m\u001b[38;5;124m\"\u001b[39m\u001b[38;5;132;01m{\u001b[39;00m\u001b[38;5;28mstr\u001b[39m(e)\u001b[38;5;241m.\u001b[39mrstrip()\u001b[38;5;132;01m}\u001b[39;00m\u001b[38;5;124m \u001b[39m\u001b[38;5;130;01m\\n\u001b[39;00m\u001b[38;5;130;01m\\n\u001b[39;00m\u001b[38;5;124mThis error may have been caused \u001b[39m\u001b[38;5;124m\"\u001b[39m\n\u001b[1;32m    465\u001b[0m                \u001b[38;5;124mf\u001b[39m\u001b[38;5;124m\"\u001b[39m\u001b[38;5;124mby the following argument(s):\u001b[39m\u001b[38;5;130;01m\\n\u001b[39;00m\u001b[38;5;132;01m{\u001b[39;00margs_str\u001b[38;5;132;01m}\u001b[39;00m\u001b[38;5;130;01m\\n\u001b[39;00m\u001b[38;5;124m\"\u001b[39m)\n\u001b[1;32m    466\u001b[0m         e\u001b[38;5;241m.\u001b[39mpatch_message(msg)\n\u001b[0;32m--> 468\u001b[0m     \u001b[43merror_rewrite\u001b[49m\u001b[43m(\u001b[49m\u001b[43me\u001b[49m\u001b[43m,\u001b[49m\u001b[43m \u001b[49m\u001b[38;5;124;43m'\u001b[39;49m\u001b[38;5;124;43mtyping\u001b[39;49m\u001b[38;5;124;43m'\u001b[39;49m\u001b[43m)\u001b[49m\n\u001b[1;32m    469\u001b[0m \u001b[38;5;28;01mexcept\u001b[39;00m errors\u001b[38;5;241m.\u001b[39mUnsupportedError \u001b[38;5;28;01mas\u001b[39;00m e:\n\u001b[1;32m    470\u001b[0m     \u001b[38;5;66;03m# Something unsupported is present in the user code, add help info\u001b[39;00m\n\u001b[1;32m    471\u001b[0m     error_rewrite(e, \u001b[38;5;124m'\u001b[39m\u001b[38;5;124munsupported_error\u001b[39m\u001b[38;5;124m'\u001b[39m)\n",
      "File \u001b[0;32m~/projects/recombulator-x/venv/lib/python3.8/site-packages/numba/core/dispatcher.py:409\u001b[0m, in \u001b[0;36m_DispatcherBase._compile_for_args.<locals>.error_rewrite\u001b[0;34m(e, issue_type)\u001b[0m\n\u001b[1;32m    407\u001b[0m     \u001b[38;5;28;01mraise\u001b[39;00m e\n\u001b[1;32m    408\u001b[0m \u001b[38;5;28;01melse\u001b[39;00m:\n\u001b[0;32m--> 409\u001b[0m     \u001b[38;5;28;01mraise\u001b[39;00m e\u001b[38;5;241m.\u001b[39mwith_traceback(\u001b[38;5;28;01mNone\u001b[39;00m)\n",
      "\u001b[0;31mTypingError\u001b[0m: Failed in nopython mode pipeline (step: nopython frontend)\nUntyped global name 'inheritance_vectors': Cannot determine Numba type of <class 'function'>\n\nFile \"recombulatorx/likelihood_direct.py\", line 29:\ndef compute_phased_family_likelihood_direct_loop(mother, maternal_haplotypes, recombination_rates, mutation_rates):\n    <source elided>\n        son_lh = 0.0\n        for v in inheritance_vectors(n):\n        ^\n"
     ]
    }
   ],
   "source": [
    "time_df_acc = {}\n",
    "slow_funcs = set()\n",
    "first_run = True\n",
    "for n_markers in tqdm(itertools.chain(range(2, 101), range(10**4 - 50, 10**4 + 1))):\n",
    "\n",
    "    rates = generate_random_rates(n_markers)\n",
    "    direct_numpy_cache = None        \n",
    "                \n",
    "    fams_I = [generate_processed_family(f'FAM_I_{i}', 2, True, *rates) for i in range(n_fam_I)]\n",
    "    fams_II = [generate_processed_family(f'FAM_II_{i}', 2, False, *rates) for i in range(n_fam_II)]\n",
    "    time_acc = {}\n",
    "    if first_run: # run every function once, this is mainly for numba since it needs to compile!\n",
    "        for impl in available_implementations:\n",
    "            compute_family_likelihood(fams_I[0], *rates, implementation=impl)\n",
    "            compute_family_likelihood(fams_II[0], *rates, implementation=impl)\n",
    "        first_run = False\n",
    "    \n",
    "    for fams in fams_I, fams_II:\n",
    "        for impl in available_implementations:\n",
    "            for fam in fams:\n",
    "                ftype = 'type I' if fam.is_mother_phased else 'type II'\n",
    "                if (impl, ftype) in slow_funcs: continue\n",
    "                t0 = time.time()\n",
    "                lh = compute_family_likelihood(fam, *rates, implementation=impl)\n",
    "                t1 = time.time()\n",
    "                time_acc[(impl, ftype, fam.fid)] = [lh, t1 - t0]\n",
    "    if len(time_acc) == 0:\n",
    "        break\n",
    "    \n",
    "    df = pandas.DataFrame(time_acc, index=['Family Likelihood', 'Elapsed Time']).T\n",
    "    df.index.names = ['Implementation', 'Family Type', 'Family ID']\n",
    "\n",
    "    # check if any function is taking too long\n",
    "    mean_dt = df.reset_index().groupby(['Implementation', 'Family Type'])['Elapsed Time'].mean()\n",
    "    new_slow = set(mean_dt.index[mean_dt > max_time])\n",
    "    slow_funcs |= new_slow\n",
    "    if new_slow:\n",
    "        print('dropped', new_slow, 'at', n_markers, 'markers')\n",
    "    time_df_acc[n_markers] = df.reset_index()"
   ]
  },
  {
   "cell_type": "code",
   "execution_count": null,
   "id": "1e172e5f-35a8-4322-a0c9-b45a455d2eb6",
   "metadata": {},
   "outputs": [],
   "source": [
    "full_df = pandas.concat(time_df_acc, names=['# of markers', 'row']).reset_index('row', drop=True).reset_index()\n",
    "full_df"
   ]
  },
  {
   "cell_type": "code",
   "execution_count": null,
   "id": "f23020c5-7c13-425f-8358-6f7f64df3e51",
   "metadata": {},
   "outputs": [],
   "source": [
    "full_df.to_csv('benchmarks.tsv', index=False, sep='\\t')"
   ]
  },
  {
   "cell_type": "code",
   "execution_count": null,
   "id": "9df17a6c-78bc-49bd-9a64-3f6eb73cfd23",
   "metadata": {},
   "outputs": [],
   "source": [
    "full_df = pandas.read_csv('benchmarks.tsv', sep='\\t')"
   ]
  },
  {
   "cell_type": "markdown",
   "id": "1bd35c0a-4a6c-4a3e-b52a-71e3fe506c65",
   "metadata": {},
   "source": [
    "## Plotting times"
   ]
  },
  {
   "cell_type": "code",
   "execution_count": null,
   "id": "aed3d7db-4401-4334-a53b-8bb02ec5600e",
   "metadata": {},
   "outputs": [],
   "source": [
    "fig = plt.figure(figsize=(15, 8))\n",
    "seaborn.lineplot(data=full_df, x='# of markers', y='Elapsed Time', hue='Implementation', style='Family Type')\n",
    "plt.yscale('log')"
   ]
  },
  {
   "cell_type": "code",
   "execution_count": null,
   "id": "46c67f7a-48d5-4ab1-b0aa-d120bedd199a",
   "metadata": {},
   "outputs": [],
   "source": [
    "fig = plt.figure(figsize=(10, 6))\n",
    "seaborn.lineplot(data=full_df.loc[full_df['# of markers'] <= 36], x='# of markers', y='Elapsed Time', hue='Implementation', style='Family Type')\n",
    "plt.yscale('log')"
   ]
  },
  {
   "cell_type": "code",
   "execution_count": null,
   "id": "cca5056a-013b-4cae-9264-67ab718706d6",
   "metadata": {},
   "outputs": [],
   "source": [
    "fig.savefig('likelihood_benchmarks_1-35.pdf')"
   ]
  },
  {
   "cell_type": "code",
   "execution_count": null,
   "id": "f65696b3-4cc8-4bb2-bd4b-b6c05f8eab9f",
   "metadata": {},
   "outputs": [],
   "source": [
    "plot_df = full_df.copy()\n",
    "plot_df['BLOCK'] = float('nan')\n",
    "plot_df.loc[plot_df['# of markers'] < 26, 'BLOCK'] = 'LEFT'\n",
    "plot_df.loc[plot_df['# of markers'] > 100, 'BLOCK'] = 'RIGHT'"
   ]
  },
  {
   "cell_type": "code",
   "execution_count": null,
   "id": "466a61a8-7266-45c5-bfc7-aedf91ccfc64",
   "metadata": {},
   "outputs": [],
   "source": [
    "fig = plt.figure(figsize=(10, 6))\n",
    "seaborn.lineplot(\n",
    "    data=plot_df.query('BLOCK == \"LEFT\"'), x='# of markers', y='Elapsed Time', \n",
    "    hue='Implementation', style='Family Type', \n",
    ")\n",
    "plt.yscale('log')"
   ]
  },
  {
   "cell_type": "code",
   "execution_count": null,
   "id": "b5be2e60-515b-4525-a01e-16fa6edb21a1",
   "metadata": {},
   "outputs": [],
   "source": [
    "fig.savefig('likelihood_benchmarks_1-25.pdf')"
   ]
  },
  {
   "cell_type": "code",
   "execution_count": null,
   "id": "31f3dfcd-49de-4196-a2d3-753a83987775",
   "metadata": {},
   "outputs": [],
   "source": [
    "fig = seaborn.relplot(data=plot_df, x='# of markers', y='Elapsed Time', \n",
    "                hue='Implementation', style='Family Type', \n",
    "                col='BLOCK', kind='line', facet_kws={'sharey': True, 'sharex': False},\n",
    ")\n",
    "plt.yscale('log')"
   ]
  },
  {
   "cell_type": "code",
   "execution_count": null,
   "id": "b54a79f5-81a1-4a47-90c3-f9354adb6f15",
   "metadata": {},
   "outputs": [],
   "source": [
    "fig.savefig('likelihood_benchmarks_split.pdf')"
   ]
  },
  {
   "cell_type": "code",
   "execution_count": null,
   "id": "81457cef-7eb9-4099-bdbd-28dd972ca2f1",
   "metadata": {},
   "outputs": [],
   "source": []
  },
  {
   "cell_type": "code",
   "execution_count": null,
   "id": "d9e38de6-cddc-4d7c-87a1-8a295b8b8707",
   "metadata": {},
   "outputs": [],
   "source": [
    "assert False"
   ]
  },
  {
   "cell_type": "code",
   "execution_count": null,
   "id": "6f8da505-16e0-44cd-b39f-b938ac031b1a",
   "metadata": {},
   "outputs": [],
   "source": [
    "Qui facciamo dei test per vedere se la versione approssimata funziona?"
   ]
  },
  {
   "cell_type": "code",
   "execution_count": null,
   "id": "0a62d55c-b757-4cd2-8fd5-b8a4e3071cb2",
   "metadata": {},
   "outputs": [],
   "source": [
    "full_df.groupby(['n_markers', 'fam', 'rep'])['lh'].std()"
   ]
  },
  {
   "cell_type": "code",
   "execution_count": null,
   "id": "6c6316b7-d2f9-4892-8c70-5d11b8b8b46f",
   "metadata": {},
   "outputs": [],
   "source": [
    "acc = {}\n",
    "for l, sdf in full_df.groupby(['n_markers', 'fam', 'rep']):\n",
    "    if len(sdf):\n",
    "        sdf['rel_lh'] = sdf['lh']/sdf.query('func != \"emp\"')['lh'].max()\n",
    "        acc[l] = sdf\n",
    "full_df_r = pandas.concat(acc)"
   ]
  },
  {
   "cell_type": "code",
   "execution_count": null,
   "id": "043013cb-5b99-48d4-b0ea-71f83c662f0d",
   "metadata": {},
   "outputs": [],
   "source": [
    "full_df_r['rel_lh'].min()"
   ]
  },
  {
   "cell_type": "code",
   "execution_count": null,
   "id": "40089f16-23c0-45ce-9b17-72f8de6facc9",
   "metadata": {},
   "outputs": [],
   "source": [
    "\n",
    "acc = {}\n",
    "for l, sdf in full_df.groupby(['n_markers', 'fam', 'rep']):\n",
    "    if len(sdf):\n",
    "        sdf['rel_lh'] = sdf['lh']/sdf.query('func != \"emp\"')['lh'].max()\n",
    "        acc[l] = sdf\n",
    "full_df_r = pandas.concat(acc)\n",
    "\n",
    "fig = plt.figure(figsize=(10, 5))\n",
    "seaborn.lineplot(data=full_df_r, x='n_markers', y='rel_lh', hue='func', style='fam')\n",
    "plt.ylim((0, 1.1))\n",
    "plt.title('likelyhood accuracy')\n",
    "pdf.savefig()\n",
    "plt.close()"
   ]
  },
  {
   "cell_type": "code",
   "execution_count": null,
   "id": "fc7c3536-2e23-4c4e-b1b8-c1f7408b5962",
   "metadata": {},
   "outputs": [],
   "source": []
  },
  {
   "cell_type": "code",
   "execution_count": null,
   "id": "093d6ee6-a13b-4c72-83b9-b247466990a2",
   "metadata": {},
   "outputs": [],
   "source": []
  },
  {
   "cell_type": "code",
   "execution_count": null,
   "id": "fc4318f6-1af7-4dc0-bbc4-0535e151107e",
   "metadata": {},
   "outputs": [],
   "source": []
  },
  {
   "cell_type": "code",
   "execution_count": null,
   "id": "7b39d473-3733-46e4-b7fc-bf2108b0aa83",
   "metadata": {},
   "outputs": [],
   "source": []
  }
 ],
 "metadata": {
  "kernelspec": {
   "display_name": "Python 3 (ipykernel)",
   "language": "python",
   "name": "python3"
  },
  "language_info": {
   "codemirror_mode": {
    "name": "ipython",
    "version": 3
   },
   "file_extension": ".py",
   "mimetype": "text/x-python",
   "name": "python",
   "nbconvert_exporter": "python",
   "pygments_lexer": "ipython3",
   "version": "3.8.12"
  }
 },
 "nbformat": 4,
 "nbformat_minor": 5
}
