{
 "cells": [
  {
   "cell_type": "markdown",
   "id": "5a481e4c-03fe-43c2-b3fa-56030548b679",
   "metadata": {},
   "source": [
    "# Likelihood computation benchmarks\n",
    "In this notebook we compare the run time of the various likelihood functions implemented in the recombulator-x module."
   ]
  },
  {
   "cell_type": "code",
   "execution_count": null,
   "id": "d31e4d58-c582-4abb-8074-14e27f876c97",
   "metadata": {},
   "outputs": [
    {
     "name": "stdout",
     "output_type": "stream",
     "text": [
      "[0 0 0]\n",
      "[1 0 0]\n",
      "[0 1 0]\n",
      "[1 1 0]\n",
      "[0 0 1]\n",
      "[1 0 1]\n",
      "[0 1 1]\n",
      "[1 1 1]\n"
     ]
    }
   ],
   "source": [
    "#debug this\n",
    "import numpy\n",
    "import numba\n",
    "#print(numba.\n",
    "\n",
    "def inheritance_vectors(n: int):\n",
    "    \"\"\"Generate all possible inheritance vectors of length n\n",
    "    \"\"\"\n",
    "    v = numpy.zeros(n, dtype=numpy.int8)\n",
    "    for i in range(1 << n):\n",
    "        for j in range(n):\n",
    "            v[j] = 1 if i & (1 << j) else 0\n",
    "        yield v # note that this is always the same vector, not a copy\n",
    "    return v # this does nothing but is needed by numba\n",
    "\n",
    "jif = numba.jit(inheritance_vectors)\n",
    "for x in jif(3):\n",
    "    print(x)"
   ]
  },
  {
   "cell_type": "code",
   "execution_count": 1,
   "id": "8b1a2a0a-ac94-4eb2-a72c-a62800517298",
   "metadata": {},
   "outputs": [],
   "source": [
    "import numba"
   ]
  },
  {
   "cell_type": "code",
   "execution_count": 7,
   "id": "be5ef434-ca5b-481c-80e8-d4254485ca19",
   "metadata": {},
   "outputs": [
    {
     "data": {
      "text/plain": [
       "{'version': '0.56.0', 'full': 'f75c45a8dd7c7acfdfa8b41bea18695a88447c3e'}"
      ]
     },
     "execution_count": 7,
     "metadata": {},
     "output_type": "execute_result"
    }
   ],
   "source": [
    "numba._version.get_versions()"
   ]
  },
  {
   "cell_type": "code",
   "execution_count": null,
   "id": "59555390-ac16-4f71-be9a-046989151755",
   "metadata": {},
   "outputs": [],
   "source": []
  },
  {
   "cell_type": "code",
   "execution_count": 1,
   "id": "e3cf729e-7c8e-4263-868a-9bc585915cec",
   "metadata": {},
   "outputs": [],
   "source": [
    "import time\n",
    "import numpy\n",
    "import pandas\n",
    "import seaborn\n",
    "import matplotlib.pyplot as plt\n",
    "from tqdm import tqdm\n",
    "import itertools"
   ]
  },
  {
   "cell_type": "code",
   "execution_count": 2,
   "id": "268d9145-4afc-489e-8a7e-919a1a7a322a",
   "metadata": {},
   "outputs": [],
   "source": [
    "import recombulatorx\n",
    "from recombulatorx import compute_family_likelihood\n",
    "from recombulatorx.testing import generate_processed_family, generate_random_rates"
   ]
  },
  {
   "cell_type": "markdown",
   "id": "f79c59f8-841e-4c9e-b1c7-d406e45f7ff6",
   "metadata": {},
   "source": [
    "Retrieve the available implementations, which vary depending on the availability of the numba module."
   ]
  },
  {
   "cell_type": "code",
   "execution_count": 3,
   "id": "5153be17-e0b5-4def-a045-69c32d2b2922",
   "metadata": {},
   "outputs": [
    {
     "data": {
      "text/plain": [
       "dict_keys(['dynamic', 'direct-loop', 'direct-numpy', 'dynamic-numba', 'direct-loop-numba'])"
      ]
     },
     "execution_count": 3,
     "metadata": {},
     "output_type": "execute_result"
    }
   ],
   "source": [
    "available_implementations = recombulatorx.likelihood.implementations.keys()\n",
    "available_implementations"
   ]
  },
  {
   "cell_type": "code",
   "execution_count": 4,
   "id": "4ca0f744-3cb3-4d07-9926-86178a74e74d",
   "metadata": {},
   "outputs": [],
   "source": [
    "# FIXME\n",
    "available_implementations = [i for i in available_implementations if i != 'direct-loop-numba']"
   ]
  },
  {
   "cell_type": "markdown",
   "id": "0be9aec4-d001-4fca-b8c4-da573af88a9d",
   "metadata": {},
   "source": [
    "Define benchmarking parameters, the number of families and the maximum mean time (in seconds) allowed for one family likelihood computation:"
   ]
  },
  {
   "cell_type": "code",
   "execution_count": 5,
   "id": "eff3805a-de4c-47f6-b2e3-176433f19a39",
   "metadata": {},
   "outputs": [],
   "source": [
    "max_time = 1\n",
    "n_fam_I = 100\n",
    "n_fam_II = 100"
   ]
  },
  {
   "cell_type": "code",
   "execution_count": 6,
   "id": "9f7029be-9ab5-448c-9785-b41d380a0ecb",
   "metadata": {},
   "outputs": [
    {
     "name": "stderr",
     "output_type": "stream",
     "text": [
      "7it [03:35, 62.63s/it]"
     ]
    },
    {
     "name": "stdout",
     "output_type": "stream",
     "text": [
      "dropped {('direct-loop', 'type II')} at 8 markers\n"
     ]
    },
    {
     "name": "stderr",
     "output_type": "stream",
     "text": [
      "10it [06:23, 68.35s/it]"
     ]
    },
    {
     "name": "stdout",
     "output_type": "stream",
     "text": [
      "dropped {('direct-numpy', 'type II')} at 11 markers\n"
     ]
    },
    {
     "name": "stderr",
     "output_type": "stream",
     "text": [
      "14it [11:52, 96.59s/it]"
     ]
    },
    {
     "name": "stdout",
     "output_type": "stream",
     "text": [
      "dropped {('direct-loop', 'type I')} at 15 markers\n"
     ]
    },
    {
     "name": "stderr",
     "output_type": "stream",
     "text": [
      "15it [13:52, 103.66s/it]"
     ]
    },
    {
     "name": "stdout",
     "output_type": "stream",
     "text": [
      "dropped {('dynamic', 'type II')} at 16 markers\n"
     ]
    },
    {
     "name": "stderr",
     "output_type": "stream",
     "text": [
      "17it [15:24, 75.65s/it] "
     ]
    },
    {
     "name": "stdout",
     "output_type": "stream",
     "text": [
      "leaf monotonicity failure 2.2587785400506548e-33 2.2587785400506572e-33 -2.3947971802426073e-48 -1.0602177848692062e-15\n",
      "leaf monotonicity failure 2.2587785400506548e-33 2.2587785400506572e-33 -2.3947971802426073e-48 -1.0602177848692062e-15\n"
     ]
    },
    {
     "name": "stderr",
     "output_type": "stream",
     "text": [
      "18it [17:37, 92.71s/it]"
     ]
    },
    {
     "name": "stdout",
     "output_type": "stream",
     "text": [
      "dropped {('direct-numpy', 'type I')} at 19 markers\n"
     ]
    },
    {
     "name": "stderr",
     "output_type": "stream",
     "text": [
      "21it [20:10, 60.69s/it]"
     ]
    },
    {
     "name": "stdout",
     "output_type": "stream",
     "text": [
      "dropped {('dynamic-numba', 'type II')} at 21 markers\n"
     ]
    },
    {
     "name": "stderr",
     "output_type": "stream",
     "text": [
      "150it [41:38, 16.66s/it]\n"
     ]
    }
   ],
   "source": [
    "time_df_acc = {}\n",
    "slow_funcs = set()\n",
    "first_run = True\n",
    "for n_markers in tqdm(itertools.chain(range(2, 101), range(10**4 - 50, 10**4 + 1))):\n",
    "\n",
    "    rates = generate_random_rates(n_markers)\n",
    "    direct_numpy_cache = None        \n",
    "                \n",
    "    fams_I = [generate_processed_family(f'FAM_I_{i}', 2, True, *rates) for i in range(n_fam_I)]\n",
    "    fams_II = [generate_processed_family(f'FAM_II_{i}', 2, False, *rates) for i in range(n_fam_II)]\n",
    "    time_acc = {}\n",
    "    if first_run: # run every function once, this is mainly for numba since it needs to compile!\n",
    "        for impl in available_implementations:\n",
    "            compute_family_likelihood(fams_I[0], *rates, implementation=impl)\n",
    "            compute_family_likelihood(fams_II[0], *rates, implementation=impl)\n",
    "        first_run = False\n",
    "    \n",
    "    for fams in fams_I, fams_II:\n",
    "        for impl in available_implementations:\n",
    "            for fam in fams:\n",
    "                ftype = 'type I' if fam.is_mother_phased else 'type II'\n",
    "                if (impl, ftype) in slow_funcs: continue\n",
    "                t0 = time.time()\n",
    "                lh = compute_family_likelihood(fam, *rates, implementation=impl)\n",
    "                t1 = time.time()\n",
    "                time_acc[(impl, ftype, fam.fid)] = [lh, t1 - t0]\n",
    "    if len(time_acc) == 0:\n",
    "        break\n",
    "    \n",
    "    df = pandas.DataFrame(time_acc, index=['Family Likelihood', 'Elapsed Time']).T\n",
    "    df.index.names = ['Implementation', 'Family Type', 'Family ID']\n",
    "\n",
    "    # check if any function is taking too long\n",
    "    mean_dt = df.reset_index().groupby(['Implementation', 'Family Type'])['Elapsed Time'].mean()\n",
    "    new_slow = set(mean_dt.index[mean_dt > max_time])\n",
    "    slow_funcs |= new_slow\n",
    "    if new_slow:\n",
    "        print('dropped', new_slow, 'at', n_markers, 'markers')\n",
    "    time_df_acc[n_markers] = df.reset_index()"
   ]
  },
  {
   "cell_type": "code",
   "execution_count": 7,
   "id": "1e172e5f-35a8-4322-a0c9-b45a455d2eb6",
   "metadata": {},
   "outputs": [
    {
     "data": {
      "text/html": [
       "<div>\n",
       "<style scoped>\n",
       "    .dataframe tbody tr th:only-of-type {\n",
       "        vertical-align: middle;\n",
       "    }\n",
       "\n",
       "    .dataframe tbody tr th {\n",
       "        vertical-align: top;\n",
       "    }\n",
       "\n",
       "    .dataframe thead th {\n",
       "        text-align: right;\n",
       "    }\n",
       "</style>\n",
       "<table border=\"1\" class=\"dataframe\">\n",
       "  <thead>\n",
       "    <tr style=\"text-align: right;\">\n",
       "      <th></th>\n",
       "      <th># of markers</th>\n",
       "      <th>Implementation</th>\n",
       "      <th>Family Type</th>\n",
       "      <th>Family ID</th>\n",
       "      <th>Family Likelihood</th>\n",
       "      <th>Elapsed Time</th>\n",
       "    </tr>\n",
       "  </thead>\n",
       "  <tbody>\n",
       "    <tr>\n",
       "      <th>0</th>\n",
       "      <td>2</td>\n",
       "      <td>dynamic</td>\n",
       "      <td>type I</td>\n",
       "      <td>FAM_I_0</td>\n",
       "      <td>0.006449</td>\n",
       "      <td>0.000352</td>\n",
       "    </tr>\n",
       "    <tr>\n",
       "      <th>1</th>\n",
       "      <td>2</td>\n",
       "      <td>dynamic</td>\n",
       "      <td>type I</td>\n",
       "      <td>FAM_I_1</td>\n",
       "      <td>0.006474</td>\n",
       "      <td>0.000175</td>\n",
       "    </tr>\n",
       "    <tr>\n",
       "      <th>2</th>\n",
       "      <td>2</td>\n",
       "      <td>dynamic</td>\n",
       "      <td>type I</td>\n",
       "      <td>FAM_I_2</td>\n",
       "      <td>0.153094</td>\n",
       "      <td>0.000173</td>\n",
       "    </tr>\n",
       "    <tr>\n",
       "      <th>3</th>\n",
       "      <td>2</td>\n",
       "      <td>dynamic</td>\n",
       "      <td>type I</td>\n",
       "      <td>FAM_I_3</td>\n",
       "      <td>0.152492</td>\n",
       "      <td>0.000158</td>\n",
       "    </tr>\n",
       "    <tr>\n",
       "      <th>4</th>\n",
       "      <td>2</td>\n",
       "      <td>dynamic</td>\n",
       "      <td>type I</td>\n",
       "      <td>FAM_I_4</td>\n",
       "      <td>0.155309</td>\n",
       "      <td>0.000157</td>\n",
       "    </tr>\n",
       "    <tr>\n",
       "      <th>...</th>\n",
       "      <td>...</td>\n",
       "      <td>...</td>\n",
       "      <td>...</td>\n",
       "      <td>...</td>\n",
       "      <td>...</td>\n",
       "      <td>...</td>\n",
       "    </tr>\n",
       "    <tr>\n",
       "      <th>38395</th>\n",
       "      <td>10000</td>\n",
       "      <td>dynamic-numba</td>\n",
       "      <td>type I</td>\n",
       "      <td>FAM_I_95</td>\n",
       "      <td>0.000000</td>\n",
       "      <td>0.000485</td>\n",
       "    </tr>\n",
       "    <tr>\n",
       "      <th>38396</th>\n",
       "      <td>10000</td>\n",
       "      <td>dynamic-numba</td>\n",
       "      <td>type I</td>\n",
       "      <td>FAM_I_96</td>\n",
       "      <td>0.000000</td>\n",
       "      <td>0.000432</td>\n",
       "    </tr>\n",
       "    <tr>\n",
       "      <th>38397</th>\n",
       "      <td>10000</td>\n",
       "      <td>dynamic-numba</td>\n",
       "      <td>type I</td>\n",
       "      <td>FAM_I_97</td>\n",
       "      <td>0.000000</td>\n",
       "      <td>0.000470</td>\n",
       "    </tr>\n",
       "    <tr>\n",
       "      <th>38398</th>\n",
       "      <td>10000</td>\n",
       "      <td>dynamic-numba</td>\n",
       "      <td>type I</td>\n",
       "      <td>FAM_I_98</td>\n",
       "      <td>0.000000</td>\n",
       "      <td>0.000555</td>\n",
       "    </tr>\n",
       "    <tr>\n",
       "      <th>38399</th>\n",
       "      <td>10000</td>\n",
       "      <td>dynamic-numba</td>\n",
       "      <td>type I</td>\n",
       "      <td>FAM_I_99</td>\n",
       "      <td>0.000000</td>\n",
       "      <td>0.000601</td>\n",
       "    </tr>\n",
       "  </tbody>\n",
       "</table>\n",
       "<p>38400 rows × 6 columns</p>\n",
       "</div>"
      ],
      "text/plain": [
       "       # of markers Implementation Family Type Family ID  Family Likelihood  \\\n",
       "0                 2        dynamic      type I   FAM_I_0           0.006449   \n",
       "1                 2        dynamic      type I   FAM_I_1           0.006474   \n",
       "2                 2        dynamic      type I   FAM_I_2           0.153094   \n",
       "3                 2        dynamic      type I   FAM_I_3           0.152492   \n",
       "4                 2        dynamic      type I   FAM_I_4           0.155309   \n",
       "...             ...            ...         ...       ...                ...   \n",
       "38395         10000  dynamic-numba      type I  FAM_I_95           0.000000   \n",
       "38396         10000  dynamic-numba      type I  FAM_I_96           0.000000   \n",
       "38397         10000  dynamic-numba      type I  FAM_I_97           0.000000   \n",
       "38398         10000  dynamic-numba      type I  FAM_I_98           0.000000   \n",
       "38399         10000  dynamic-numba      type I  FAM_I_99           0.000000   \n",
       "\n",
       "       Elapsed Time  \n",
       "0          0.000352  \n",
       "1          0.000175  \n",
       "2          0.000173  \n",
       "3          0.000158  \n",
       "4          0.000157  \n",
       "...             ...  \n",
       "38395      0.000485  \n",
       "38396      0.000432  \n",
       "38397      0.000470  \n",
       "38398      0.000555  \n",
       "38399      0.000601  \n",
       "\n",
       "[38400 rows x 6 columns]"
      ]
     },
     "execution_count": 7,
     "metadata": {},
     "output_type": "execute_result"
    }
   ],
   "source": [
    "full_df = pandas.concat(time_df_acc, names=['# of markers', 'row']).reset_index('row', drop=True).reset_index()\n",
    "full_df"
   ]
  },
  {
   "cell_type": "code",
   "execution_count": 8,
   "id": "f23020c5-7c13-425f-8358-6f7f64df3e51",
   "metadata": {},
   "outputs": [],
   "source": [
    "full_df.to_csv('benchmarks.tsv', index=False, sep='\\t')"
   ]
  },
  {
   "cell_type": "code",
   "execution_count": 9,
   "id": "9df17a6c-78bc-49bd-9a64-3f6eb73cfd23",
   "metadata": {},
   "outputs": [],
   "source": [
    "full_df = pandas.read_csv('benchmarks.tsv', sep='\\t')"
   ]
  },
  {
   "cell_type": "markdown",
   "id": "1bd35c0a-4a6c-4a3e-b52a-71e3fe506c65",
   "metadata": {},
   "source": [
    "## Plotting times"
   ]
  },
  {
   "cell_type": "code",
   "execution_count": null,
   "id": "aed3d7db-4401-4334-a53b-8bb02ec5600e",
   "metadata": {},
   "outputs": [],
   "source": [
    "fig = plt.figure(figsize=(15, 8))\n",
    "seaborn.lineplot(data=full_df, x='# of markers', y='Elapsed Time', hue='Implementation', style='Family Type')\n",
    "plt.yscale('log')"
   ]
  },
  {
   "cell_type": "code",
   "execution_count": null,
   "id": "46c67f7a-48d5-4ab1-b0aa-d120bedd199a",
   "metadata": {},
   "outputs": [],
   "source": [
    "fig = plt.figure(figsize=(10, 6))\n",
    "seaborn.lineplot(data=full_df.loc[full_df['# of markers'] <= 36], x='# of markers', y='Elapsed Time', hue='Implementation', style='Family Type')\n",
    "plt.yscale('log')"
   ]
  },
  {
   "cell_type": "code",
   "execution_count": null,
   "id": "cca5056a-013b-4cae-9264-67ab718706d6",
   "metadata": {},
   "outputs": [],
   "source": [
    "fig.savefig('likelihood_benchmarks_1-35.pdf')"
   ]
  },
  {
   "cell_type": "code",
   "execution_count": null,
   "id": "f65696b3-4cc8-4bb2-bd4b-b6c05f8eab9f",
   "metadata": {},
   "outputs": [],
   "source": [
    "plot_df = full_df.copy()\n",
    "plot_df['BLOCK'] = float('nan')\n",
    "plot_df.loc[plot_df['# of markers'] < 26, 'BLOCK'] = 'LEFT'\n",
    "plot_df.loc[plot_df['# of markers'] > 100, 'BLOCK'] = 'RIGHT'"
   ]
  },
  {
   "cell_type": "code",
   "execution_count": null,
   "id": "466a61a8-7266-45c5-bfc7-aedf91ccfc64",
   "metadata": {},
   "outputs": [],
   "source": [
    "fig = plt.figure(figsize=(10, 6))\n",
    "seaborn.lineplot(\n",
    "    data=plot_df.query('BLOCK == \"LEFT\"'), x='# of markers', y='Elapsed Time', \n",
    "    hue='Implementation', style='Family Type', \n",
    ")\n",
    "plt.yscale('log')"
   ]
  },
  {
   "cell_type": "code",
   "execution_count": null,
   "id": "b5be2e60-515b-4525-a01e-16fa6edb21a1",
   "metadata": {},
   "outputs": [],
   "source": [
    "fig.savefig('likelihood_benchmarks_1-25.pdf')"
   ]
  },
  {
   "cell_type": "code",
   "execution_count": null,
   "id": "31f3dfcd-49de-4196-a2d3-753a83987775",
   "metadata": {},
   "outputs": [],
   "source": [
    "fig = seaborn.relplot(data=plot_df, x='# of markers', y='Elapsed Time', \n",
    "                hue='Implementation', style='Family Type', \n",
    "                col='BLOCK', kind='line', facet_kws={'sharey': True, 'sharex': False},\n",
    ")\n",
    "plt.yscale('log')"
   ]
  },
  {
   "cell_type": "code",
   "execution_count": null,
   "id": "b54a79f5-81a1-4a47-90c3-f9354adb6f15",
   "metadata": {},
   "outputs": [],
   "source": [
    "fig.savefig('likelihood_benchmarks_split.pdf')"
   ]
  },
  {
   "cell_type": "code",
   "execution_count": null,
   "id": "81457cef-7eb9-4099-bdbd-28dd972ca2f1",
   "metadata": {},
   "outputs": [],
   "source": []
  },
  {
   "cell_type": "code",
   "execution_count": null,
   "id": "d9e38de6-cddc-4d7c-87a1-8a295b8b8707",
   "metadata": {},
   "outputs": [],
   "source": [
    "assert False"
   ]
  },
  {
   "cell_type": "code",
   "execution_count": null,
   "id": "6f8da505-16e0-44cd-b39f-b938ac031b1a",
   "metadata": {},
   "outputs": [],
   "source": [
    "Qui facciamo dei test per vedere se la versione approssimata funziona?"
   ]
  },
  {
   "cell_type": "code",
   "execution_count": null,
   "id": "0a62d55c-b757-4cd2-8fd5-b8a4e3071cb2",
   "metadata": {},
   "outputs": [],
   "source": [
    "full_df.groupby(['n_markers', 'fam', 'rep'])['lh'].std()"
   ]
  },
  {
   "cell_type": "code",
   "execution_count": null,
   "id": "6c6316b7-d2f9-4892-8c70-5d11b8b8b46f",
   "metadata": {},
   "outputs": [],
   "source": [
    "acc = {}\n",
    "for l, sdf in full_df.groupby(['n_markers', 'fam', 'rep']):\n",
    "    if len(sdf):\n",
    "        sdf['rel_lh'] = sdf['lh']/sdf.query('func != \"emp\"')['lh'].max()\n",
    "        acc[l] = sdf\n",
    "full_df_r = pandas.concat(acc)"
   ]
  },
  {
   "cell_type": "code",
   "execution_count": null,
   "id": "043013cb-5b99-48d4-b0ea-71f83c662f0d",
   "metadata": {},
   "outputs": [],
   "source": [
    "full_df_r['rel_lh'].min()"
   ]
  },
  {
   "cell_type": "code",
   "execution_count": null,
   "id": "40089f16-23c0-45ce-9b17-72f8de6facc9",
   "metadata": {},
   "outputs": [],
   "source": [
    "\n",
    "acc = {}\n",
    "for l, sdf in full_df.groupby(['n_markers', 'fam', 'rep']):\n",
    "    if len(sdf):\n",
    "        sdf['rel_lh'] = sdf['lh']/sdf.query('func != \"emp\"')['lh'].max()\n",
    "        acc[l] = sdf\n",
    "full_df_r = pandas.concat(acc)\n",
    "\n",
    "fig = plt.figure(figsize=(10, 5))\n",
    "seaborn.lineplot(data=full_df_r, x='n_markers', y='rel_lh', hue='func', style='fam')\n",
    "plt.ylim((0, 1.1))\n",
    "plt.title('likelyhood accuracy')\n",
    "pdf.savefig()\n",
    "plt.close()"
   ]
  },
  {
   "cell_type": "code",
   "execution_count": null,
   "id": "fc7c3536-2e23-4c4e-b1b8-c1f7408b5962",
   "metadata": {},
   "outputs": [],
   "source": []
  },
  {
   "cell_type": "code",
   "execution_count": null,
   "id": "093d6ee6-a13b-4c72-83b9-b247466990a2",
   "metadata": {},
   "outputs": [],
   "source": []
  },
  {
   "cell_type": "code",
   "execution_count": null,
   "id": "fc4318f6-1af7-4dc0-bbc4-0535e151107e",
   "metadata": {},
   "outputs": [],
   "source": []
  },
  {
   "cell_type": "code",
   "execution_count": null,
   "id": "7b39d473-3733-46e4-b7fc-bf2108b0aa83",
   "metadata": {},
   "outputs": [],
   "source": []
  }
 ],
 "metadata": {
  "kernelspec": {
   "display_name": "Python 3 (ipykernel)",
   "language": "python",
   "name": "python3"
  },
  "language_info": {
   "codemirror_mode": {
    "name": "ipython",
    "version": 3
   },
   "file_extension": ".py",
   "mimetype": "text/x-python",
   "name": "python",
   "nbconvert_exporter": "python",
   "pygments_lexer": "ipython3",
   "version": "3.8.12"
  }
 },
 "nbformat": 4,
 "nbformat_minor": 5
}
